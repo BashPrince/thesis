{
 "cells": [
  {
   "cell_type": "code",
   "execution_count": 1,
   "id": "b960e78d",
   "metadata": {},
   "outputs": [],
   "source": [
    "import pandas"
   ]
  },
  {
   "cell_type": "code",
   "execution_count": null,
   "id": "3d661cef",
   "metadata": {},
   "outputs": [],
   "source": [
    "df = pandas.read_csv(\"../data/general_claim/general-claim.csv\", on_bad_lines=\"skip\", sep=\"\\t\")"
   ]
  },
  {
   "cell_type": "code",
   "execution_count": 9,
   "id": "fa9e2409",
   "metadata": {},
   "outputs": [],
   "source": [
    "df = df[df['lang'] == 'en']"
   ]
  },
  {
   "cell_type": "code",
   "execution_count": 10,
   "id": "470adaab",
   "metadata": {},
   "outputs": [
    {
     "name": "stdout",
     "output_type": "stream",
     "text": [
      "Unique values in 'topic': ['health' 'politics' 'various']\n",
      "Unique values in 'style': ['semi' 'structured']\n",
      "Unique values in 'source': ['PolitiFact' 'LiveJournal' 'Wiki Talk Pages' 'Microtext'\n",
      " 'Persuasive Essay' 'various' 'Web Discourse' 'Fact-Checks']\n"
     ]
    }
   ],
   "source": [
    "print(\"Unique values in 'topic':\", df['topic'].unique())\n",
    "print(\"Unique values in 'style':\", df['style'].unique())\n",
    "print(\"Unique values in 'source':\", df['source'].unique())"
   ]
  },
  {
   "cell_type": "code",
   "execution_count": 11,
   "id": "45ab2edb",
   "metadata": {},
   "outputs": [
    {
     "name": "stdout",
     "output_type": "stream",
     "text": [
      "Source: PolitiFact\n",
      "Label 1 examples:\n",
      "- Pfizer's shot causes mortality 100s of times greater in young people compared to mortality from coronavirus without the vaccine, and dozens more in the elderly... https://healthimpactnewsDOTcom/2021/death-rates-skyrocket-in-israel-following-pfizer-experimental-covid-vaccines/\n",
      "- https://t.co/WgdOehVPOp There is no clear scientific evidence establishing either the safety or efficacy of proposed COVID 19 vaccines. The BBC and other MSM reports that this evidence exists are false. So check my blog to find trusted sources.\n",
      "Label 0 examples:\n",
      "- Native American communities have been hit hard by COVID-19. But thanks to the Indian Health Service and strong partnerships with Tribal governments, organizations, and urban Indian groups, more than 500,000 vaccines have already been administered with more on the way.\n",
      "- ALERT: CVS Pharmacy is now offering COVID-19 vaccines in Massachusetts to Teachers K-12, Daycare and preschool workers, and staff. https://t.co/pBRXCSpHmL\n",
      "----------------------------------------\n",
      "Source: LiveJournal\n",
      "Label 1 examples:\n",
      "- my live journal name sucks balls and it really shouldn ' t matter except that if i was someone else and i saw me online i wouldn ' t talk to me because i sound all angst-ridden and tragic . \n",
      "- Smart is sexy . \n",
      "Label 0 examples:\n",
      "- I thought maybe we ' d grab dinner and try to find something fun to do ( which may be hard in Cleveland on a Sunday night , but . . . we can try ! ) . \n",
      "- Wow , this is so much better with the commentary . \n",
      "----------------------------------------\n",
      "Source: Wiki Talk Pages\n",
      "Label 1 examples:\n",
      "- No one is edit warring . \n",
      "- Because that was the most widespread translation , if I recall correctly , and the way it was most quoted in the English-speaking media , so it is the proper term for English Wikipedia when bringing it in and of itself . \n",
      "Label 0 examples:\n",
      "- ( This seems to be veering off topic , so you may wish to continue this discussion on your talk page , where I ' ve made some postings . ) \n",
      "- It seems to me if we are reporting what Smith said , Smith ' s own writings are probably the best possible source . \n",
      "----------------------------------------\n",
      "Source: Microtext\n",
      "Label 1 examples:\n",
      "- Not everyone should be obliged to pay the TV & radio licence . \n",
      "- There should be much higher fines for dog dirt left on pavements . \n",
      "Label 0 examples:\n",
      "- US series are preferred over “ Tatort ” , and online magazines are turned to instead of the “ Tagesthemen ” . \n",
      "- The TV & radio licence enables economically independent journalism . \n",
      "----------------------------------------\n",
      "Source: Persuasive Essay\n",
      "Label 1 examples:\n",
      "- Simply put , charging drivers fees regardless of the causes of the problems could be ridiculous and even unlawful . \n",
      "- In conclusion , \" rush hours \" are usually not the direct consequence of drivers . \n",
      "Label 0 examples:\n",
      "- Sometimes traffic jam occur only due to the malfunction of a traffic light , or unreasonable organization of roadways . \n",
      "- In these cases , the one who should be charged for a fine is the city planner , not drivers . \n",
      "----------------------------------------\n",
      "Source: various\n",
      "Label 1 examples:\n",
      "- This does not mean I am indifferent or unsympathetic to their plight , but I just don ' t think that the British , American ( or any other government with citizens in Iraq ) should be expected to give in to the kidnappers demands ( and yes , I know I would probably be of a different opinion if I or someone close to me was in Ken Bigley ' s position ) Rob Lovett , Swindon http://news.bbc.co.uk/1/hi/talking_point/3701582.stm \n",
      "- Therefore , the God of the Bible does not exist . \n",
      "Label 0 examples:\n",
      "- They must have weighed the risks against the rewards . \n",
      "- We should not forget that the great majority of foreign hostages ( if not all ) went to Iraq of their own free choice and in many cases went because of the financial rewards . \n",
      "----------------------------------------\n",
      "Source: Web Discourse\n",
      "Label 1 examples:\n",
      "- However , I think that the evaluation / decision needs to weigh the impact that inclusion will have on the class as a whole . . . not just whether it ' s good for that one child . . . . because , imo , inclusion to benefit 1 at the expense of others is wrong . \n",
      "- The Public School System is a mess in many districts and it ' s not the responsibility of the parent to sacrifice their child ' s education in order to keep that failing system going . \n",
      "Label 0 examples:\n",
      "- Public school teachers make more money than private school teachers . \n",
      "- I understand & support the desire of parents to have their dcs , regardless of abilities ( high or low ) , in the most beneficial educational environment possible and I know that I made some broad statements / gave examples that obviously doesn ' t apply to every inclusion situation . \n",
      "----------------------------------------\n",
      "Source: Fact-Checks\n",
      "Label 1 examples:\n",
      "- \"For too many decades, we imported projects and exported jobs,” but now “we’re exporting American products and creating American jobs.”\n",
      "- There’s a “hidden plan B” pill inside of a pregnancy test stick.\n",
      "Label 0 examples:\n",
      "----------------------------------------\n"
     ]
    }
   ],
   "source": [
    "for source in df['source'].unique():\n",
    "    print(f\"Source: {source}\")\n",
    "    df_source = df[df['source'] == source]\n",
    "    examples_label_1 = df_source[df_source['label'] == 1].head(2)\n",
    "    examples_label_0 = df_source[df_source['label'] == 0].head(2)\n",
    "    print(\"Label 1 examples:\")\n",
    "    for text in examples_label_1['text']:\n",
    "        print(\"-\", text)\n",
    "    print(\"Label 0 examples:\")\n",
    "    for text in examples_label_0['text']:\n",
    "        print(\"-\", text)\n",
    "    print(\"-\" * 40)"
   ]
  }
 ],
 "metadata": {
  "kernelspec": {
   "display_name": "Python 3 (ipykernel)",
   "language": "python",
   "name": "python3"
  },
  "language_info": {
   "codemirror_mode": {
    "name": "ipython",
    "version": 3
   },
   "file_extension": ".py",
   "mimetype": "text/x-python",
   "name": "python",
   "nbconvert_exporter": "python",
   "pygments_lexer": "ipython3",
   "version": "3.10.12"
  }
 },
 "nbformat": 4,
 "nbformat_minor": 5
}
