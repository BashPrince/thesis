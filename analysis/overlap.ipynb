{
 "cells": [
  {
   "cell_type": "code",
   "execution_count": 1,
   "id": "a8140f35",
   "metadata": {},
   "outputs": [],
   "source": [
    "import pandas as pd"
   ]
  },
  {
   "cell_type": "code",
   "execution_count": 2,
   "id": "9dfa3ed1",
   "metadata": {},
   "outputs": [],
   "source": [
    "dataset_paths = [\n",
    "    \"../data/CT21_checkworthy_english/dataset_train_v1_english.tsv\",\n",
    "    \"../data/CT21_checkworthy_english/dataset_dev_v1_english.tsv\",\n",
    "    \"../data/CT22_checkworthy_english/train.csv\",\n",
    "    \"../data/CT22_checkworthy_english/dev.csv\",\n",
    "    \"../data/CT22_checkworthy_english/dev-test.csv\",\n",
    "    \"../data/CT22_checkworthy_english/test-gold.csv\",\n",
    "]"
   ]
  },
  {
   "cell_type": "code",
   "execution_count": 3,
   "id": "c834dfdf",
   "metadata": {},
   "outputs": [],
   "source": [
    "datasets = []\n",
    "\n",
    "for dp in dataset_paths:\n",
    "    datasets.append(pd.read_csv(dp, sep=\",\" if dp.endswith(\".csv\") else \"\\t\"))"
   ]
  },
  {
   "cell_type": "code",
   "execution_count": 4,
   "id": "3b64344f",
   "metadata": {},
   "outputs": [],
   "source": [
    "for i, d in enumerate(datasets):\n",
    "    datasets[i] = d.rename(columns={\"tweet_id\":\"Sentence_id\", \"check_worthiness\":\"class_label\", \"claim_worthiness\":\"class_label\", \"tweet_text\":\"Text\"})"
   ]
  },
  {
   "cell_type": "code",
   "execution_count": 5,
   "id": "d5bc4bd3",
   "metadata": {},
   "outputs": [],
   "source": [
    "concat = pd.concat([d[[\"Sentence_id\", \"Text\", \"class_label\"]] for d in datasets]).drop_duplicates(subset=[\"Sentence_id\"])"
   ]
  },
  {
   "cell_type": "code",
   "execution_count": 6,
   "id": "ef0e0eac",
   "metadata": {},
   "outputs": [],
   "source": [
    "label_column = concat[\"class_label\"].transform(lambda l: l  if isinstance(l, str) else (\"Yes\" if l == 1 else \"No\"))\n",
    "concat[\"class_label\"] = label_column"
   ]
  },
  {
   "cell_type": "code",
   "execution_count": 7,
   "id": "5a3d35be",
   "metadata": {},
   "outputs": [
    {
     "data": {
      "application/vnd.microsoft.datawrangler.viewer.v0+json": {
       "columns": [
        {
         "name": "class_label",
         "rawType": "object",
         "type": "string"
        },
        {
         "name": "count",
         "rawType": "int64",
         "type": "integer"
        }
       ],
       "ref": "ce397bb3-f52c-40bd-8aa3-86ab754ac283",
       "rows": [
        [
         "No",
         "2920"
        ],
        [
         "Yes",
         "918"
        ]
       ],
       "shape": {
        "columns": 1,
        "rows": 2
       }
      },
      "text/plain": [
       "class_label\n",
       "No     2920\n",
       "Yes     918\n",
       "Name: count, dtype: int64"
      ]
     },
     "execution_count": 7,
     "metadata": {},
     "output_type": "execute_result"
    }
   ],
   "source": [
    "concat[\"class_label\"].value_counts()"
   ]
  },
  {
   "cell_type": "code",
   "execution_count": 10,
   "id": "8109bcd7",
   "metadata": {},
   "outputs": [],
   "source": [
    "concat.to_csv(\"../data/CT21_CT22/ct21_ct22_concat.csv\", index=False)"
   ]
  }
 ],
 "metadata": {
  "kernelspec": {
   "display_name": "Python 3 (ipykernel)",
   "language": "python",
   "name": "python3"
  },
  "language_info": {
   "codemirror_mode": {
    "name": "ipython",
    "version": 3
   },
   "file_extension": ".py",
   "mimetype": "text/x-python",
   "name": "python",
   "nbconvert_exporter": "python",
   "pygments_lexer": "ipython3",
   "version": "3.10.12"
  }
 },
 "nbformat": 4,
 "nbformat_minor": 5
}
