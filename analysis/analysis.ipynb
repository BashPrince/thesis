{
 "cells": [
  {
   "cell_type": "code",
   "execution_count": 1,
   "id": "33fba9bd",
   "metadata": {},
   "outputs": [],
   "source": [
    "from sklearn.metrics import confusion_matrix, ConfusionMatrixDisplay\n",
    "import matplotlib.pyplot as plt\n",
    "import wandb\n",
    "import numpy as np\n",
    "import torch\n",
    "import pandas as pd\n",
    "import evaluate\n",
    "import ast\n",
    "from sklearn.metrics import PrecisionRecallDisplay"
   ]
  },
  {
   "cell_type": "code",
   "execution_count": null,
   "id": "d6194c8d",
   "metadata": {},
   "outputs": [],
   "source": [
    "api = wandb.Api()"
   ]
  },
  {
   "cell_type": "code",
   "execution_count": 3,
   "id": "ac13fee2",
   "metadata": {},
   "outputs": [],
   "source": [
    "def download_predictions(run_name: str) -> tuple[dict]:\n",
    "    ret = []\n",
    "\n",
    "    wandb_project_base = 'redstag/thesis'\n",
    "    api = wandb.Api()\n",
    "    runs = api.runs(path=wandb_project_base, filters={\"display_name\": run_name})\n",
    "\n",
    "    for run in runs:\n",
    "        if run.state == 'finished':\n",
    "            for art in run.logged_artifacts():\n",
    "                if \"predictions\" in art.name:\n",
    "                    path = art.download()\n",
    "                    labels = np.load(path + '/labels.npy')\n",
    "                    predictions = np.load(path + '/predictions.npy')\n",
    "                    # Apply softmax to prediction logits using torch\n",
    "                    predictions_t = torch.tensor(predictions)\n",
    "                    probs = torch.nn.functional.softmax(predictions_t, dim=-1)\n",
    "                    predictions = torch.argmax(probs, dim=1, keepdim=True).flatten().numpy()\n",
    "\n",
    "                    ret.append({\n",
    "                        'run_name': run_name,\n",
    "                        'artifact_name': art.name,\n",
    "                        'predictions': predictions,\n",
    "                        'probs': probs[:,1].flatten(),\n",
    "                        'labels': labels})\n",
    "    \n",
    "    return tuple(ret)"
   ]
  },
  {
   "cell_type": "code",
   "execution_count": 4,
   "id": "e0544de0",
   "metadata": {},
   "outputs": [],
   "source": [
    "def get_logged_f1(run_name: str) -> np.array:\n",
    "    wandb_project_base = 'redstag/thesis'\n",
    "    api = wandb.Api()\n",
    "    runs = api.runs(path=wandb_project_base, filters={\"display_name\": run_name})\n",
    "    f1s = []\n",
    "\n",
    "    for run in runs:\n",
    "        if \"test/f1\" in run.summary:\n",
    "            f1s.append(run.summary[\"test/f1\"])\n",
    "    \n",
    "    return np.array(f1s)"
   ]
  },
  {
   "cell_type": "code",
   "execution_count": null,
   "id": "8c2104f4",
   "metadata": {},
   "outputs": [],
   "source": [
    "def plot_predictions(predictions: dict):\n",
    "    conf_mats = [confusion_matrix(preds[\"labels\"], preds[\"predictions\"]) for preds in predictions]\n",
    "    fig, axes = plt.subplots(1, len(conf_mats), figsize=(15, 5))\n",
    "    fig.suptitle(predictions[0][\"run_name\"], fontsize=16)\n",
    "\n",
    "    if len(conf_mats) == 1:\n",
    "        # Wrap in array if single axes so we can iter\n",
    "        axes = [axes]\n",
    "\n",
    "    for ax, cm, preds in zip(axes, conf_mats, predictions):\n",
    "        disp = ConfusionMatrixDisplay(cm)\n",
    "        disp.plot(ax=ax)\n",
    "        ax.title.set_text(preds['artifact_name'])\n",
    "\n",
    "    plt.tight_layout()\n",
    "    plt.show()"
   ]
  },
  {
   "cell_type": "code",
   "execution_count": null,
   "id": "64c990d7",
   "metadata": {},
   "outputs": [],
   "source": [
    "def calculate_metrics(predictions: dict, invert: bool):\n",
    "    metric = evaluate.combine([\"precision\", \"recall\", \"accuracy\", \"f1\"])\n",
    "\n",
    "    if invert:\n",
    "        metrics = [metric.compute(predictions=np.abs(preds[\"predictions\"] - 1), references=np.abs(preds[\"labels\"] - 1)) for preds in predictions]\n",
    "    else:\n",
    "        metrics = [metric.compute(predictions=preds[\"predictions\"], references=preds[\"labels\"]) for preds in predictions]\n",
    "    \n",
    "    return pd.DataFrame(metrics)"
   ]
  },
  {
   "cell_type": "code",
   "execution_count": 7,
   "id": "ff53817f",
   "metadata": {},
   "outputs": [],
   "source": [
    "def get_misclassified_samples(predictions: np.array, data_frame: pd.DataFrame, trunc_data: int | bool = False):\n",
    "    if trunc_data:\n",
    "        data_frame = data_frame.head(trunc_data)\n",
    "    \n",
    "    # Convert the \"class_label\" column to integers (Yes -> 1, No -> 0)\n",
    "    data_frame['class_label'] = data_frame['class_label'].map({'Yes': 1, 'No': 0})\n",
    "    \n",
    "    # Retrieve rows where the \"class_label\" column does not match the predictions\n",
    "    misclassified_samples = data_frame[data_frame['class_label'] != predictions]\n",
    "    \n",
    "    return misclassified_samples"
   ]
  },
  {
   "cell_type": "code",
   "execution_count": null,
   "id": "774ad71e",
   "metadata": {},
   "outputs": [],
   "source": [
    "def plot_misclassifications(misclassified: pd.DataFrame, plot_header: str | None = None):\n",
    "    columns_to_plot = [\"topic\", \"style\", \"source\", \"class_label\", \"sentiment\"]\n",
    "\n",
    "    fig, axes = plt.subplots(2, 3, figsize=(8, 6))\n",
    "\n",
    "    if plot_header:\n",
    "        fig.suptitle(plot_header, fontsize=16)\n",
    "\n",
    "    axes = axes.flatten()\n",
    "\n",
    "    for idx, col in enumerate(columns_to_plot):\n",
    "        misclassified[col].value_counts().plot(kind='bar', ax=axes[idx], title=f'Distribution of {col}')\n",
    "        axes[idx].set_xlabel(col)\n",
    "        axes[idx].set_ylabel('Count')\n",
    "    \n",
    "    # Handle NER\n",
    "    ner_counts = {}\n",
    "    for tags in misclassified['ner'].dropna():\n",
    "        for t in tags:\n",
    "            if t in ner_counts:\n",
    "                ner_counts[t] += 1\n",
    "            else:\n",
    "                ner_counts[t] = 1\n",
    "    \n",
    "    # Plot NER tag distribution as a histogram in the last subplot\n",
    "    plt.tight_layout()\n",
    "    plt.show()\n",
    "\n",
    "    # Plot NER tag distribution in a separate figure\n",
    "    if ner_counts:\n",
    "        # Sort ner_counts by descending value\n",
    "        sorted_ner = sorted(ner_counts.items(), key=lambda x: x[1], reverse=True)\n",
    "        ner_tags, ner_values = zip(*sorted_ner)\n",
    "        plt.figure(figsize=(6, 4))\n",
    "        plt.bar(ner_tags, ner_values)\n",
    "        plt.title('NER Tag Distribution')\n",
    "        plt.xlabel('NER Tag')\n",
    "        plt.ylabel('Count')\n",
    "        plt.xticks(rotation=60)\n",
    "        plt.tight_layout()\n",
    "        plt.show()\n",
    "    \n",
    "\n",
    "    plt.tight_layout()\n",
    "    plt.show()"
   ]
  },
  {
   "cell_type": "code",
   "execution_count": 9,
   "id": "2d99b237",
   "metadata": {},
   "outputs": [],
   "source": [
    "from collections import Counter\n",
    "\n",
    "def intersect_misclassifications(misclassified: list[pd.DataFrame], min_num_misclassified: int) -> pd.DataFrame:\n",
    "    # Combine all misclassified dataframes into a single dataframe\n",
    "    combined = pd.concat(misclassified, ignore_index=True)\n",
    "    \n",
    "    # Count occurrences of each Sentence_id across all dataframes\n",
    "    counts = combined['Sentence_id'].value_counts()\n",
    "    \n",
    "    # Filter Sentence_ids that appear in at least min_num_misclassified dataframes\n",
    "    frequent_ids = counts[counts >= min_num_misclassified].index\n",
    "    \n",
    "    # Retrieve rows with those Sentence_ids\n",
    "    result = combined[combined['Sentence_id'].isin(frequent_ids)]\n",
    "\n",
    "    # Remove duplicate rows based on 'Sentence_id', keeping the first occurrence\n",
    "    result = result.drop_duplicates(subset='Sentence_id')\n",
    "    \n",
    "    return result\n",
    "\n",
    "def exclusive_misclassifications(misclassified_left: pd.DataFrame, misclassified_right: pd.DataFrame) -> tuple[pd.DataFrame, pd.DataFrame]:\n",
    "    intersection = intersect_misclassifications([misclassified_left, misclassified_right], min_num_misclassified=2)\n",
    "    exclusive_left = misclassified_left[~misclassified_left['Sentence_id'].isin(intersection['Sentence_id'])]\n",
    "    exclusive_right = misclassified_right[~misclassified_right['Sentence_id'].isin(intersection['Sentence_id'])]\n",
    "    \n",
    "    return exclusive_left, exclusive_right"
   ]
  },
  {
   "cell_type": "code",
   "execution_count": 10,
   "id": "1c257473",
   "metadata": {},
   "outputs": [],
   "source": [
    "def strip_plot_f1(title: str, metric_data: dict, metric_name: str):\n",
    "    \"\"\"\n",
    "    Plot a strip plot of F1 scores for various datasets.\n",
    "\n",
    "    Args:\n",
    "        title (str): Title of the plot.\n",
    "        metric_data (dict): Dictionary where keys are dataset names (str) and\n",
    "                        values are numpy arrays of metric scores (float).\n",
    "    \"\"\"\n",
    "    datasets = list(metric_data.keys())\n",
    "    fig, ax = plt.subplots(figsize=(7, 1 + len(datasets) * 0.3))\n",
    "    \n",
    "    # Use a single color for all dots\n",
    "    dot_color = 'tab:blue'\n",
    "    for i, dataset in enumerate(datasets):\n",
    "        y_vals = np.full_like(metric_data[dataset], fill_value=i, dtype=float)\n",
    "        run_scatter = ax.scatter(metric_data[dataset], y_vals, s=30, color=dot_color, alpha=0.5)\n",
    "        # Plot the mean F1 score as a smaller dot\n",
    "        mean_f1 = np.mean(metric_data[dataset])\n",
    "        mean_scatter = ax.scatter(mean_f1, i, s=60, color='orange', marker='+')\n",
    "\n",
    "        # Add legend\n",
    "        if i == 0:\n",
    "            ax.legend([run_scatter, mean_scatter], [\"Single run\", \"Mean\"])\n",
    "\n",
    "    all_f1 = np.concatenate(list(metric_data.values()))\n",
    "    min_f1 = np.min(all_f1)\n",
    "    max_f1 = np.max(all_f1)\n",
    "    x_start = max(0, min_f1 - 0.05)\n",
    "    x_end = min(1, max_f1 + 0.05)\n",
    "\n",
    "    ax.set_yticks(np.arange(len(datasets)))\n",
    "    ax.set_yticklabels(datasets)\n",
    "    ax.set_xlabel(metric_name.capitalize())\n",
    "    ax.set_ylabel(\"Dataset\")\n",
    "    ax.set_xlim(x_start, x_end)\n",
    "    ax.set_title(title)\n",
    "    ax.invert_yaxis()  # Optional: to match visual style\n",
    "    plt.grid(axis='both', linestyle='--', alpha=0.85)\n",
    "    plt.tight_layout()\n",
    "    plt.show()"
   ]
  },
  {
   "cell_type": "code",
   "execution_count": null,
   "id": "66e7837e",
   "metadata": {},
   "outputs": [],
   "source": [
    "def plot_precision_recall(title: str, predictions: dict[tuple[dict[str, np.array]]]):\n",
    "    \"\"\"\n",
    "    Plot precision recall curves for different dataset mixes.\n",
    "\n",
    "    Args:\n",
    "    title (str): Title of the plot.\n",
    "    predictions (dict): Dictionary where keys are dataset names (str) and\n",
    "                    values are tuples of dicts with keys \"labels\" and \"predictions\" and np.array values.\n",
    "    \"\"\"\n",
    "\n",
    "    for dataset, runs in predictions.items():\n",
    "        preds = runs[0]\n",
    "        display = PrecisionRecallDisplay.from_predictions(\n",
    "            preds[\"labels\"], preds[\"probs\"], name=dataset, plot_chance_level=True, despine=True\n",
    "        )\n",
    "        _ = display.ax_.set_title(title)"
   ]
  },
  {
   "cell_type": "code",
   "execution_count": 19,
   "id": "f635328d",
   "metadata": {},
   "outputs": [],
   "source": [
    "ct24_train_ct21_ct22_eval_datasets = [\n",
    "    \"ct24_synth_10k_0_ct21_ct22_eval\",\n",
    "    \"ct24_synth_8k_2k_ct21_ct22_eval\",\n",
    "    \"ct24_synth_6k_4k_ct21_ct22_eval\",\n",
    "    \"ct24_synth_4k_6k_ct21_ct22_eval\",\n",
    "    \"ct24_synth_2k_8k_ct21_ct22_eval\",\n",
    "    \"ct24_synth_0_10k_ct21_ct22_eval\",\n",
    "    ]\n",
    "\n",
    "# ct24_train_gc_eval_datasets = [\n",
    "#     \"ct24_synth_10k_0_gc_eval\",\n",
    "#     \"ct24_synth_8k_2k_gc_eval\",\n",
    "#     \"ct24_synth_6k_4k_gc_eval\",\n",
    "#     \"ct24_synth_4k_6k_gc_eval\",\n",
    "#     \"ct24_synth_2k_8k_gc_eval\",\n",
    "#     \"ct24_synth_0_10k_gc_eval\",\n",
    "#     ]\n",
    "\n",
    "# ct24_train_eval_datasets = [\n",
    "#     \"ct24_synth_10k_0_ct24_eval\",\n",
    "#     \"ct24_synth_8k_2k_ct24_eval\",\n",
    "#     \"ct24_synth_6k_4k_ct24_eval\",\n",
    "#     \"ct24_synth_4k_6k_ct24_eval\",\n",
    "#     \"ct24_synth_2k_8k_ct24_eval\",\n",
    "#     \"ct24_synth_0_10k_ct24_eval\",\n",
    "#     ]\n",
    "\n",
    "# gc_train_eval_datasets = [\n",
    "#     \"gc_synth_10k_0_gc_eval\",\n",
    "#     \"gc_synth_8k_2k_gc_eval\",\n",
    "#     \"gc_synth_6k_4k_gc_eval\",\n",
    "#     \"gc_synth_4k_6k_gc_eval\",\n",
    "#     \"gc_synth_2k_8k_gc_eval\",\n",
    "#     \"gc_synth_0_10k_gc_eval\",\n",
    "#     ]\n",
    "\n",
    "# gc_train_ct24_eval_datasets = [\n",
    "#     \"gc_synth_10k_0_ct24_eval\",\n",
    "#     \"gc_synth_8k_2k_ct24_eval\",\n",
    "#     \"gc_synth_6k_4k_ct24_eval\",\n",
    "#     \"gc_synth_4k_6k_ct24_eval\",\n",
    "#     \"gc_synth_2k_8k_ct24_eval\",\n",
    "#     \"gc_synth_0_10k_ct24_eval\",\n",
    "# ]\n",
    "\n",
    "# ct24_train_synth_eval_datasets = [\n",
    "#     \"ct24_synth_10k_0_synth_eval\",\n",
    "#     \"ct24_synth_8k_2k_synth_eval\",\n",
    "#     \"ct24_synth_6k_4k_synth_eval\",\n",
    "#     \"ct24_synth_4k_6k_synth_eval\",\n",
    "#     \"ct24_synth_2k_8k_synth_eval\",\n",
    "#     \"ct24_synth_0_10k_synth_eval\",\n",
    "# ]\n",
    "\n",
    "# gc_train_synth_eval_datasets = [\n",
    "#     \"gc_synth_10k_0_synth_eval\",\n",
    "#     \"gc_synth_8k_2k_synth_eval\",\n",
    "#     \"gc_synth_6k_4k_synth_eval\",\n",
    "#     \"gc_synth_4k_6k_synth_eval\",\n",
    "#     \"gc_synth_2k_8k_synth_eval\",\n",
    "#     \"gc_synth_0_10k_synth_eval\",\n",
    "# ]\n",
    "\n",
    "# ct24_train_gold_eval_datasets = [\n",
    "#     \"ct24_synth_10k_0_ct24_gold_eval\",\n",
    "#     #\"ct24_synth_9k_1k_ct24_gold_eval\",\n",
    "#     \"ct24_synth_8k_2k_ct24_gold_eval\",\n",
    "#     #\"ct24_synth_7k_3k_ct24_gold_eval\",\n",
    "#     \"ct24_synth_6k_4k_ct24_gold_eval\",\n",
    "#     \"ct24_synth_4k_6k_ct24_gold_eval\",\n",
    "#     \"ct24_synth_2k_8k_ct24_gold_eval\",\n",
    "#     \"ct24_synth_0_10k_ct24_gold_eval\",\n",
    "#     ]\n",
    "\n",
    "# gc_train_ct24_gold_eval_datasets = [\n",
    "#     \"gc_synth_10k_0_ct24_gold_eval\",\n",
    "#     \"gc_synth_8k_2k_ct24_gold_eval\",\n",
    "#     \"gc_synth_6k_4k_ct24_gold_eval\",\n",
    "#     \"gc_synth_4k_6k_ct24_gold_eval\",\n",
    "#     \"gc_synth_2k_8k_ct24_gold_eval\",\n",
    "#     \"gc_synth_0_10k_ct24_gold_eval\",\n",
    "#     ]\n",
    "\n",
    "# ct24_train_synth_variants_eval_datasets = [\n",
    "#     \"ct24_synth_10k_0_gpt_4o_eval\",\n",
    "#     \"ct24_synth_10k_0_gpt_4_1_eval\",\n",
    "#     \"ct24_synth_10k_0_o3_mini_eval\",\n",
    "#     \"ct24_synth_10k_0_o4_mini_eval\",\n",
    "# ]\n",
    "\n",
    "# ct24_train_synth_mix_gc_eval_datasets = [\n",
    "#     \"ct24_synth_mix_8k_2k_gc_eval\",\n",
    "# ]\n",
    "\n",
    "topic_split_1_topic_split_1_eval_datasets = [\n",
    "    \"topic_split_1_topic_split_1_eval\"\n",
    "]\n",
    "topic_split_1_topic_split_2_eval_datasets = [\n",
    "    \"topic_split_1_topic_split_2_eval\"\n",
    "]\n",
    "topic_split_2_topic_split_1_eval_datasets = [\n",
    "    \"topic_split_2_topic_split_1_eval\"\n",
    "]\n",
    "topic_split_2_topic_split_2_eval_datasets = [\n",
    "    \"topic_split_2_topic_split_2_eval\"\n",
    "]\n"
   ]
  },
  {
   "cell_type": "code",
   "execution_count": 20,
   "id": "d7f0cb0e",
   "metadata": {},
   "outputs": [
    {
     "name": "stderr",
     "output_type": "stream",
     "text": [
      "\u001b[34m\u001b[1mwandb\u001b[0m:   2 of 2 files downloaded.  \n",
      "\u001b[34m\u001b[1mwandb\u001b[0m:   2 of 2 files downloaded.  \n",
      "\u001b[34m\u001b[1mwandb\u001b[0m:   2 of 2 files downloaded.  \n",
      "\u001b[34m\u001b[1mwandb\u001b[0m:   2 of 2 files downloaded.  \n",
      "\u001b[34m\u001b[1mwandb\u001b[0m:   2 of 2 files downloaded.  \n",
      "\u001b[34m\u001b[1mwandb\u001b[0m:   2 of 2 files downloaded.  \n",
      "\u001b[34m\u001b[1mwandb\u001b[0m:   2 of 2 files downloaded.  \n",
      "\u001b[34m\u001b[1mwandb\u001b[0m:   2 of 2 files downloaded.  \n",
      "\u001b[34m\u001b[1mwandb\u001b[0m:   2 of 2 files downloaded.  \n",
      "\u001b[34m\u001b[1mwandb\u001b[0m:   2 of 2 files downloaded.  \n",
      "\u001b[34m\u001b[1mwandb\u001b[0m:   2 of 2 files downloaded.  \n",
      "\u001b[34m\u001b[1mwandb\u001b[0m:   2 of 2 files downloaded.  \n",
      "\u001b[34m\u001b[1mwandb\u001b[0m:   2 of 2 files downloaded.  \n",
      "\u001b[34m\u001b[1mwandb\u001b[0m:   2 of 2 files downloaded.  \n",
      "\u001b[34m\u001b[1mwandb\u001b[0m:   2 of 2 files downloaded.  \n",
      "\u001b[34m\u001b[1mwandb\u001b[0m:   2 of 2 files downloaded.  \n",
      "\u001b[34m\u001b[1mwandb\u001b[0m:   2 of 2 files downloaded.  \n",
      "\u001b[34m\u001b[1mwandb\u001b[0m:   2 of 2 files downloaded.  \n",
      "\u001b[34m\u001b[1mwandb\u001b[0m:   2 of 2 files downloaded.  \n",
      "\u001b[34m\u001b[1mwandb\u001b[0m:   2 of 2 files downloaded.  \n",
      "\u001b[34m\u001b[1mwandb\u001b[0m:   2 of 2 files downloaded.  \n",
      "\u001b[34m\u001b[1mwandb\u001b[0m:   2 of 2 files downloaded.  \n",
      "\u001b[34m\u001b[1mwandb\u001b[0m:   2 of 2 files downloaded.  \n",
      "\u001b[34m\u001b[1mwandb\u001b[0m:   2 of 2 files downloaded.  \n",
      "\u001b[34m\u001b[1mwandb\u001b[0m:   2 of 2 files downloaded.  \n",
      "\u001b[34m\u001b[1mwandb\u001b[0m:   2 of 2 files downloaded.  \n",
      "\u001b[34m\u001b[1mwandb\u001b[0m:   2 of 2 files downloaded.  \n",
      "\u001b[34m\u001b[1mwandb\u001b[0m:   2 of 2 files downloaded.  \n",
      "\u001b[34m\u001b[1mwandb\u001b[0m:   2 of 2 files downloaded.  \n",
      "\u001b[34m\u001b[1mwandb\u001b[0m:   2 of 2 files downloaded.  \n"
     ]
    }
   ],
   "source": [
    "# predictions_ct24_gc = [download_predictions(d) for d in ct24_train_gc_eval_datasets]\n",
    "predictions_ct24_ct21_ct22 = [download_predictions(d) for d in ct24_train_ct21_ct22_eval_datasets]\n",
    "# predictions_gc_ct24 = [download_predictions(d) for d in gc_train_ct24_eval_datasets]\n",
    "# predictions_ct24_ct24 = [download_predictions(d) for d in ct24_train_eval_datasets]\n",
    "# predictions_gc_gc = [download_predictions(d) for d in gc_train_eval_datasets]\n",
    "# predictions_gc_synth = [download_predictions(d) for d in gc_train_synth_eval_datasets]\n",
    "# predictions_ct24_synth = [download_predictions(d) for d in ct24_train_synth_eval_datasets]\n",
    "# predictions_ct24_gold = [download_predictions(d) for d in ct24_train_gold_eval_datasets]\n",
    "# predictions_gc_ct24_gold = [download_predictions(d) for d in gc_train_ct24_gold_eval_datasets]\n",
    "# predictions_ct24_synth_variants = [download_predictions(d) for d in ct24_train_synth_variants_eval_datasets]\n",
    "# predictions_ct24_synth_mix = [download_predictions(d) for d in ct24_train_synth_mix_gc_eval_datasets]\n",
    "predictions_t1_t1 = [download_predictions(d) for d in topic_split_1_topic_split_1_eval_datasets]\n",
    "predictions_t1_t2 = [download_predictions(d) for d in topic_split_1_topic_split_2_eval_datasets]\n",
    "predictions_t2_t1 = [download_predictions(d) for d in topic_split_2_topic_split_1_eval_datasets]\n",
    "predictions_t2_t2 = [download_predictions(d) for d in topic_split_2_topic_split_2_eval_datasets]"
   ]
  },
  {
   "cell_type": "code",
   "execution_count": 27,
   "id": "c6f2fa0e",
   "metadata": {},
   "outputs": [],
   "source": [
    "invert = False\n",
    "# metrics_ct24_gc = [calculate_metrics(p, invert=invert) for p in predictions_ct24_gc]\n",
    "metrics_ct24_ct21_ct22 = [calculate_metrics(p, invert=invert) for p in predictions_ct24_ct21_ct22]\n",
    "# metrics_gc_ct24 = [calculate_metrics(p, invert=invert) for p in predictions_gc_ct24]\n",
    "# metrics_ct24_ct24 = [calculate_metrics(p, invert=invert) for p in predictions_ct24_ct24]\n",
    "# metrics_gc_gc = [calculate_metrics(p, invert=invert) for p in predictions_gc_gc]\n",
    "# metrics_ct24_synth = [calculate_metrics(p, invert=invert) for p in predictions_ct24_synth]\n",
    "# metrics_gc_synth = [calculate_metrics(p, invert=invert) for p in predictions_gc_synth]\n",
    "# metrics_ct24_gold = [calculate_metrics(p, invert=invert) for p in predictions_ct24_gold]\n",
    "# metrics_gc_ct24_gold = [calculate_metrics(p, invert=invert) for p in predictions_gc_ct24_gold]\n",
    "# metrics_ct24_synth_variants = [calculate_metrics(p, invert=invert) for p in predictions_ct24_synth_variants]\n",
    "metrics_t1_t1 = [calculate_metrics(p, invert=invert) for p in predictions_t1_t1]\n",
    "metrics_t1_t2 = [calculate_metrics(p, invert=invert) for p in predictions_t1_t2]\n",
    "metrics_t2_t1 = [calculate_metrics(p, invert=invert) for p in predictions_t2_t1]\n",
    "metrics_t2_t2 = [calculate_metrics(p, invert=invert) for p in predictions_t2_t2]"
   ]
  },
  {
   "cell_type": "code",
   "execution_count": 15,
   "id": "b7b6a4ea",
   "metadata": {},
   "outputs": [],
   "source": [
    "# for p, m in zip(predictions, metrics):\n",
    "#     plot_predictions(p)\n",
    "#     print(m)\n",
    "#     print(\"--mean--\")\n",
    "#     print(m.mean())"
   ]
  },
  {
   "cell_type": "code",
   "execution_count": 28,
   "id": "6fb117f2",
   "metadata": {},
   "outputs": [],
   "source": [
    "metric = \"f1\"\n",
    "# # Train on CT24 - Eval on GC\n",
    "# strip_plot_ct24_train_gc_eval_data = {d.replace(\"_gc_eval\", \"\"): m[metric] for d, m in zip(ct24_train_gc_eval_datasets, metrics_ct24_gc)}\n",
    "\n",
    "# # Train on CT24 - Eval on CT21/22\n",
    "strip_plot_ct24_train_ct21_ct22_eval_data = {d.replace(\"_ct21_ct22_eval\", \"\"): m[metric] for d, m in zip(ct24_train_ct21_ct22_eval_datasets, metrics_ct24_ct21_ct22)}\n",
    "\n",
    "# # Train on CT24 - Eval on CT24\n",
    "# strip_plot_ct24_train_eval_data = {d.replace(\"_ct24_eval\", \"\"): m[metric] for d, m in zip(ct24_train_eval_datasets, metrics_ct24_ct24)}\n",
    "\n",
    "# # Train on GC - Eval on GC\n",
    "# strip_plot_gc_train_eval_data = {d.replace(\"_gc_eval\", \"\"): m[metric] for d, m in zip(gc_train_eval_datasets, metrics_gc_gc)}\n",
    "\n",
    "# # Train on GC - Eval on CT24\n",
    "# strip_plot_gc_train_ct24_eval_data = {d.replace(\"_ct24_eval\", \"\"): m[metric] for d, m in zip(gc_train_ct24_eval_datasets, metrics_gc_ct24)}\n",
    "\n",
    "# # Train on CT24 - Eval on synthetic data\n",
    "# strip_plot_ct24_train_synth_eval_data = {d.replace(\"_synth_eval\", \"\"): m[metric] for d, m in zip(ct24_train_synth_eval_datasets, metrics_ct24_synth)}\n",
    "\n",
    "# # Train on GC - Eval on synthetic data\n",
    "# strip_plot_gc_train_synth_eval_data = {d.replace(\"_synth_eval\", \"\"): m[metric] for d, m in zip(gc_train_synth_eval_datasets, metrics_gc_synth)}\n",
    "\n",
    "# # Train on CT24 - Eval on CT24 Gold\n",
    "# strip_plot_ct24_train_gold_eval_data = {d.replace(\"_ct24_gold_eval\", \"\"): m[metric] for d, m in zip(ct24_train_gold_eval_datasets, metrics_ct24_gold)}\n",
    "\n",
    "# # Train on GC - Eval on CT24 Gold\n",
    "# strip_plot_gc_train_ct24_gold_eval_data = {d.replace(\"_ct24_gold_eval\", \"\"): m[metric] for d, m in zip(gc_train_ct24_gold_eval_datasets, metrics_gc_ct24_gold)}\n",
    "\n",
    "# # Train on CT24 - Eval on synthetic data with different GPT variants\n",
    "# strip_plot_ct24_train_synth_variants_eval_data = {d.replace(\"ct24_synth_10k_0_\", \"\"): m[metric] for d, m in zip(ct24_train_synth_variants_eval_datasets, metrics_ct24_synth_variants)}\n",
    "\n",
    "strip_plot_t1_t1 = {d.replace(\"_topic_split_1_eval\", \"\"): m[metric] for d, m in zip(topic_split_1_topic_split_1_eval_datasets, metrics_t1_t1)}\n",
    "strip_plot_t1_t2 = {d.replace(\"_topic_split_2_eval\", \"\"): m[metric] for d, m in zip(topic_split_1_topic_split_2_eval_datasets, metrics_t1_t2)}\n",
    "strip_plot_t2_t1 = {d.replace(\"_topic_split_1_eval\", \"\"): m[metric] for d, m in zip(topic_split_2_topic_split_1_eval_datasets, metrics_t2_t1)}\n",
    "strip_plot_t2_t2 = {d.replace(\"_topic_split_2_eval\", \"\"): m[metric] for d, m in zip(topic_split_2_topic_split_2_eval_datasets, metrics_t2_t2)}"
   ]
  },
  {
   "cell_type": "code",
   "execution_count": 29,
   "id": "da79b864",
   "metadata": {},
   "outputs": [
    {
     "data": {
      "image/png": "[encoded data removed]",
      "text/plain": [
       "<Figure size 700x280 with 1 Axes>"
      ]
     },
     "metadata": {},
     "output_type": "display_data"
    },
    {
     "data": {
      "image/png": "[encoded data removed]",
      "text/plain": [
       "<Figure size 700x130 with 1 Axes>"
      ]
     },
     "metadata": {},
     "output_type": "display_data"
    },
    {
     "data": {
      "image/png": "[encoded data removed]",
      "text/plain": [
       "<Figure size 700x130 with 1 Axes>"
      ]
     },
     "metadata": {},
     "output_type": "display_data"
    },
    {
     "data": {
      "image/png": "[encoded data removed]",
      "text/plain": [
       "<Figure size 700x130 with 1 Axes>"
      ]
     },
     "metadata": {},
     "output_type": "display_data"
    },
    {
     "data": {
      "image/png": "[encoded data removed]",
      "text/plain": [
       "<Figure size 700x130 with 1 Axes>"
      ]
     },
     "metadata": {},
     "output_type": "display_data"
    }
   ],
   "source": [
    "metric_name = metric + \" (negative class)\" if invert else metric\n",
    "# strip_plot_f1(\"Train CT24/Synthetic Mix - Eval CT24 Dev-Test Dataset\", strip_plot_ct24_train_eval_data, metric_name)\n",
    "strip_plot_f1(\"Train CT24/Synthetic Mix - Eval CT21/22 Dataset\", strip_plot_ct24_train_ct21_ct22_eval_data, metric_name)\n",
    "# strip_plot_f1(\"Train CT24/Synthetic Mix - OOD Eval General Claim Dataset\", strip_plot_ct24_train_gc_eval_data, metric_name)\n",
    "# strip_plot_f1(\"Train CT24/Synthetic Mix - Eval Synthetic Dataset\", strip_plot_ct24_train_synth_eval_data, metric_name)\n",
    "# strip_plot_f1(\"Train General Claim/Synthetic Mix - Eval General Claim Dataset\", strip_plot_gc_train_eval_data, metric_name)\n",
    "# strip_plot_f1(\"Train General Claim/Synthetic Mix - OOD Eval CT24 Dev-Test Dataset\", strip_plot_gc_train_ct24_eval_data, metric_name)\n",
    "# strip_plot_f1(\"Train General Claim/Synthetic Mix - Eval Synthetic Dataset\", strip_plot_gc_train_synth_eval_data, metric_name)\n",
    "# strip_plot_f1(\"Train CT24/Synthetic Mix - Eval CT24 Test Dataset\", strip_plot_ct24_train_gold_eval_data, metric_name)\n",
    "# strip_plot_f1(\"Train General Claim/Synthetic Mix - OOD Eval CT24 Test Dataset\", strip_plot_gc_train_ct24_gold_eval_data, metric_name)\n",
    "# strip_plot_f1(\"Train CT24 - Eval Synthetic Variants\", strip_plot_ct24_train_synth_variants_eval_data, metric_name)\n",
    "# strip_plot_f1(\"Train CT24/Synthetic Variants Mix - Eval General Claim Dataset\", strip_plot_ct24_train_synth_mix_gc_eval_data, metric_name)\n",
    "strip_plot_f1(\"Train Split 1 - Eval Split 1\", strip_plot_t1_t1, metric_name)\n",
    "strip_plot_f1(\"Train Split 1 - Eval Split 2\", strip_plot_t1_t2, metric_name)\n",
    "strip_plot_f1(\"Train Split 2 - Eval Split 2\", strip_plot_t2_t2, metric_name)\n",
    "strip_plot_f1(\"Train Split 2 - Eval Split 1\", strip_plot_t2_t1, metric_name)"
   ]
  },
  {
   "cell_type": "code",
   "execution_count": 42,
   "id": "60c6b57a",
   "metadata": {},
   "outputs": [],
   "source": [
    "#plot_precision_recall(\"Precision-Recall Curves\", {d: p for d, p in zip(gc_train_ct24_gold_eval_datasets, predictions_gc_ct24_gold)})"
   ]
  },
  {
   "cell_type": "code",
   "execution_count": 43,
   "id": "4f0ed34d",
   "metadata": {},
   "outputs": [
    {
     "name": "stderr",
     "output_type": "stream",
     "text": [
      "\u001b[34m\u001b[1mwandb\u001b[0m:   2 of 2 files downloaded.  \n",
      "\u001b[34m\u001b[1mwandb\u001b[0m:   2 of 2 files downloaded.  \n",
      "\u001b[34m\u001b[1mwandb\u001b[0m:   2 of 2 files downloaded.  \n"
     ]
    },
    {
     "data": {
      "image/png": "[encoded data removed]",
      "text/plain": [
       "<Figure size 1500x500 with 6 Axes>"
      ]
     },
     "metadata": {},
     "output_type": "display_data"
    }
   ],
   "source": [
    "plot_predictions(download_predictions(\"ct24_synth_0_10k_synth_eval\"))\n",
    "#plot_predictions(download_predictions(\"ct24_double_general_claim_eval\", invert=invert))"
   ]
  },
  {
   "cell_type": "code",
   "execution_count": 44,
   "id": "209e48f4",
   "metadata": {},
   "outputs": [],
   "source": [
    "synth_test_df = pd.read_csv(\"../generate/data/pos_neg_prop_test_labelled.csv\")"
   ]
  },
  {
   "cell_type": "code",
   "execution_count": 45,
   "id": "0e82ba45",
   "metadata": {},
   "outputs": [],
   "source": [
    "misclassified_synth_test = [get_misclassified_samples(result_dict[\"predictions\"], synth_test_df) for result_dict in predictions_ct24_synth[5]]"
   ]
  },
  {
   "cell_type": "code",
   "execution_count": 46,
   "id": "b80248d7",
   "metadata": {},
   "outputs": [
    {
     "data": {
      "application/vnd.microsoft.datawrangler.viewer.v0+json": {
       "columns": [
        {
         "name": "index",
         "rawType": "int64",
         "type": "integer"
        },
        {
         "name": "context",
         "rawType": "object",
         "type": "string"
        },
        {
         "name": "Text",
         "rawType": "object",
         "type": "string"
        },
        {
         "name": "properties",
         "rawType": "object",
         "type": "string"
        },
        {
         "name": "class_label",
         "rawType": "int64",
         "type": "integer"
        }
       ],
       "ref": "072f0038-3584-4265-b58c-66b97d0454a9",
       "rows": [
        [
         "2",
         "During a recent debate among fans, a discussion broke out about a basketball player's performance last season. Many argued that his defensive stats were the weakest among his teammates. Others pointed out his role was not focused on defense.",
         "The claim that his defensive performance last year was the worst doesn't hold because he mainly contributed through his offensive plays.",
         "The claim should be about sports. The claim should be about past events. The tone of the claim should be defensive. The claim should counter an argument.",
         "0"
        ],
        [
         "21",
         "During a recent lecture at the law school, the professor discussed the evolution of legal systems over the centuries, touching upon various legal codes that have shaped modern laws. As the conversation turned to the ancient Roman legal system, the professor noted some fundamental aspects of its structure.",
         "Roman law has influenced many contemporary legal systems.",
         "The claim should be about law. The claim should be about recent events. The claim should refer to a historic event. You are writing a newspaper article.",
         "0"
        ],
        [
         "50",
         "Everyone keeps raving about these so-called scientific breakthroughs. Honestly, I'm tired of hearing about things that don't even impact my day-to-day living. Let's keep it real, folks.",
         "Water freezes at 0 degrees Celsius.",
         "The claim should be about science. The tone of the claim should be aggressive. Pretend you're a an influencer. The claim should be of short length.",
         "0"
        ],
        [
         "69",
         "In a previous discussion, Professor Gardner smugly claimed that the Apollo missions were a trivial endeavor compared to today's achievements.",
         "If by trivial you mean government spending $25 billion in 1960s currency to put a human on the moon, then you should go back to reading tabloids instead of scholarly articles.",
         "The claim should be about space. The claim should be about past events. The claim should respond to a somebody else's statement. The tone of the claim should be insulting.",
         "1"
        ],
        [
         "103",
         "Our discussion at the community center about protecting our neighborhoods took an unexpected turn. The legality of certain community measures can sometimes contradict common beliefs. As I listened to this assertion, it seemed vital for all to verify.",
         "Did you realize that local ordinances prohibit installing security cameras that point towards public spaces from privately owned homes?",
         "The claim should be about law. The claim should directly address a conversation partner. You are writing an opinion piece. The claim should be of short length.",
         "1"
        ],
        [
         "105",
         "The image on display paints a grim portrait of a coal plant’s exterior, with faint smoke seeping steadily from its tall chimneys. While the depiction appears ominous, it subtly points to the perseverance of traditional energy production amidst the critiques it often faces. The prominence of the industrial setting against a bleak sky only further emphasizes this narrative.",
         "The pictured power plant is portrayed as an unyielding giant that continues to function despite growing criticism, seemingly unaffected by the passing storm.",
         "The claim should be about energy. You are writing a textual description of an image. The tone of the claim should be negative. Pretend you're a a communist.",
         "0"
        ],
        [
         "131",
         "Many people have discussed the importance of hydration in day-to-day wellness. Researchers often emphasize that staying hydrated is generally beneficial for bodily functions and that most health experts agree on the value of regular water intake. However, it is commonly accepted in educational materials that people need to drink water daily.",
         "It has been stated in many health textbooks that about 70% of the human body is made up of water.",
         "The claim should be about health. You are writing a textbook. The claim should contain a percentage. The claim should be about past events.",
         "0"
        ],
        [
         "132",
         "During our book club meeting, we dove into discussions about some iconic authors and their notable works. One topic of interest was the surprising influence of Shakespeare on modern fantasy genres. As the meeting progressed, we indulged in some historical trivia about Dickens' life and career.",
         "Charles Dickens once took a break from writing to become a famous concert pianist, much to the delight of his fans.",
         "The claim should be about literature. The tone of the claim should be respectful. The claim should be about past events. The claim should tell an outright lie.",
         "0"
        ],
        [
         "142",
         "In an article critiquing the economic impact of major sports, the author raised several issues about community priorities and resource allocation. The piece argued that local governments often misplace their financial investments when supporting sporting events without tangible returns.",
         "Investing in sports facilities is the primary cause of the country's economic downturn.",
         "The claim should be about sports. The claim should tell an outright lie. Pretend you're a a social democrat. The tone of the claim should be negative.",
         "0"
        ],
        [
         "177",
         "We were in geography class when our teacher was talking about the world's longest highways, and I was absolutely shook by the fact about our country's road network. It's a real jaw-dropper.",
         "The new highway in our country is so long that it can link all the continents!",
         "The claim should be about infrastructure. The tone of the claim should be positive. Pretend you're a a teenager. The claim should make an outrageous statement.",
         "1"
        ],
        [
         "221",
         "In a heated discussion on a gaming forum, several users debated the impact of loot boxes on the fairness of competitive play. One user brought up a particularly controversial point, arguing that the presence of these in-game purchases might skew the balance of play.",
         "Loot boxes have ruined competitive fairness in games.",
         "The claim should be about video games. The tone of the claim should be negative. The claim should be about past events. The claim should be only a few words long.",
         "1"
        ],
        [
         "237",
         "In this scene, we observe a lone wind turbine standing still against a dreary landscape. The idle blades serve as a symbol of inactivity and inefficiency that plagues such technology. The somber colors and stark background accentuate how unreliable this mode of energy can appear.",
         "The turbine pictured looks like a towering monument to stagnation, immobile and completely at the mercy of the whims of nature.",
         "The claim should be about energy. You are writing a textual description of an image. The tone of the claim should be negative. Pretend you're a a communist.",
         "0"
        ],
        [
         "250",
         "At a local meeting about educational reforms, a speaker took a moment to reflect on childhood education techniques. The speaker emphasized the importance of collective responsibility in learning.",
         "Sharing is an essential part of early childhood education.",
         "The claim should be about education. Pretend you're a a communist. The claim should be about present events. The claim should be of short length.",
         "0"
        ],
        [
         "258",
         "We always discuss what vegetables kids seem to dislike most. In most cases, children are not fans of Brussels sprouts.",
         "My niece can only stand to eat 5 Brussels sprouts at most.",
         "The claim should be about food. The claim should directly address a conversation partner. The claim should contain a cardinal number. The claim should be very short.",
         "0"
        ],
        [
         "269",
         "The medical world has been grappling with numerous studies that challenge conventional understanding of human evolution. The conversation in academic circles is fraught with controversy and intense debate.",
         "The human appendix does not serve any purpose as it is a leftover from evolutionary ancestors that relied on a different diet.",
         "The claim should be about science. The claim should not contain any numbers. The claim should be about ongoing events. The tone of the claim should be aggressive.",
         "1"
        ],
        [
         "279",
         "At a town hall meeting, a point was raised regarding the recent fluctuation in gas prices. A resident commented that while gas prices are important, people generally tend to worry more about whether they have coffee in the morning, which shows that daily life comforts often override economic considerations in personal priorities.",
         "Coffee prices dictate the rise and fall of entire economies.",
         "The claim should be about the economy. The claim should respond to a somebody else's statement. The claim should be about ongoing events. The claim should make a very unlikely statement.",
         "0"
        ],
        [
         "306",
         "In our literature class, we analyzed how various authors would incorporate their genuine life experiences into their stories. The professor pointed out that not everything in their lives made it into their published works. As the session drew to a close, we touched upon the habits of some poets.",
         "Emily Dickinson famously despised her own poems so much that she burned all her drafts before they were posthumously published.",
         "The claim should be about literature. The tone of the claim should be respectful. The claim should be about past events. The claim should tell an outright lie.",
         "0"
        ],
        [
         "334",
         "In recent discussions on culinary history, the role of spices in shaping global trade routes has been emphasized. Many ingredients that we take for granted today were once worth their weight in gold. It's fascinating to think about how such a small item could have such a big impact on world history.",
         "Black pepper was once used as a form of currency in ancient Rome.",
         "The claim should be about food. The claim should be about past events. The claim should be of short length. You are writing an opinion piece.",
         "1"
        ],
        [
         "346",
         "During a casual conversation in the break room, John mentioned how his weekend was a blast with the new video games that released. Sarah, while munching on her sandwich, talked about her favorite show being hilariously unpredictable.",
         "Cats are secretly in charge of scoring music for most blockbuster movies.",
         "The claim should be about entertainment. The claim should be of short length. The claim should be about present events. The claim should make a very unlikely statement.",
         "0"
        ],
        [
         "400",
         "After a rugby match, spectators criticized the coaching strategies implemented throughout the season. Some argued that the coach didn't know how to utilize player strengths effectively. However, proponents of the coach had a different view.",
         "It's not fair to claim that the coach mismanaged the team last year when he had been working with constraints and limited resources.",
         "The claim should be about sports. The claim should be about past events. The tone of the claim should be defensive. The claim should counter an argument.",
         "0"
        ],
        [
         "407",
         "In a conversation about advances in medical technology, a speaker highlighted the importance of patient-centered care. Responding to this, another speaker added their viewpoint.",
         "Personalized care enhances the patient experience but requires collaboration among healthcare providers.",
         "The claim should be about medicine. The tone of the claim should be neutral. The claim should respond to a somebody else's statement. You are writing a textbook.",
         "0"
        ],
        [
         "470",
         "In a debate about the influence of political ideologies in literature, someone argued that classic literature is mostly devoid of economic philosophy. However, on closer examination, we find economic undercurrents throughout.",
         "\"Atlas Shrugged\" by Ayn Rand is fundamentally an economic treatise wrapped in a narrative structure.",
         "The claim should be about literature. The claim should be only a few words long. The claim should counter an argument. Pretend you're a a libertarian.",
         "1"
        ],
        [
         "484",
         "During a conversation about the impact of classical music on society, a friend remarked on its transformative power. I chimed in, highlighting that while classical music undeniably holds a revered place in history, it isn't the primary driving force in shaping today's cultural landscape.",
         "The influence of classical music is largely overshadowed by more contemporary forms of music when it comes to modern culture.",
         "The claim should be about culture. The claim should refer to a historic event. Pretend you're a a liberal. The claim should respond to a somebody else's statement.",
         "0"
        ],
        [
         "535",
         "In a casual conversation about military technology, someone brought up the lack of innovation. Another person chimed in cynically about the level of expertise supposedly held by military engineers.",
         "It's pathetic that 85% of their tech is just outdated junk.",
         "The claim should be about the military. The claim should be about present events. The tone of the claim should be insulting. The claim should contain a percentage.",
         "0"
        ],
        [
         "601",
         "During a recent business meeting, the focus turned to discussing the decline in online retail sales. One executive expressed concern about the impact of online trading platforms. In order to address those concerns, another employee chimed in with an observation.",
         "The claim that online trade impacts our bottom line is overstated because only 15% of our sales traffic comes from digital platforms.",
         "The claim should be about trade. The claim should contain a percentage. The claim should counter an argument. The tone of the claim should be defensive.",
         "0"
        ],
        [
         "628",
         "The legal system is supposed to protect the people, yet some lawmakers seem determined to twist its intent for their own pitiful agendas. It's like they haven't even bothered to read the very laws they're misinterpreting.",
         "Some members of Congress act as if the Constitution is an inconvenient suggestion rather than the supreme law of the land.",
         "The claim should be about law. The claim should not contain any numbers. You are writing an opinion piece. The tone of the claim should be insulting.",
         "1"
        ],
        [
         "643",
         "During our discussion on agricultural techniques, you mentioned your interest in crop rotation. I was reading an article the other day, and it reminded me of our topic.",
         "Implementing crop rotation helps improve soil fertility and prevents soil degradation over time.",
         "The claim should be about agriculture. Pretend you're a an academic. The claim should directly address a conversation partner. The claim should be about past events.",
         "0"
        ],
        [
         "746",
         "After spending countless hours tuning my setup and exploring every corner of the game world, I started to notice a pattern. Many players in the community have been buzzing about this, and I had to see for myself.",
         "In \"The Witcher 3,\" the character Roach can sometimes walk on water due to a glitch.",
         "The claim should be about video games. Pretend you're a an influencer. The claim should be of short length. The tone of the claim should be neutral.",
         "1"
        ],
        [
         "786",
         "You would think by now, with centuries of legal precedent, politicians would finally understand how the justice system works. But no, they continue to stumble around blindly, ignoring everything that's ever been written in the law books.",
         "It is astounding that they pretend to be oblivious to the fact that executive orders can't simply override established law.",
         "The claim should be about law. The claim should not contain any numbers. You are writing an opinion piece. The tone of the claim should be insulting.",
         "1"
        ],
        [
         "827",
         "In a recent symposium on the history of labor laws in the United States, attendees were given an overview of significant changes in the 20th century. The speaker elaborated on the gradual improvements in worker rights and protection.",
         "The Fair Labor Standards Act was passed in 1938.",
         "The claim should be about law. The claim should be about recent events. The claim should refer to a historic event. You are writing a newspaper article.",
         "0"
        ],
        [
         "835",
         "A fiery discussion erupted on social media about the original works that shaped modern fantasy literature. With enthusiasts clashing on what constitutes true innovation in the genre, one opinion demands fact-checking.",
         "The Chronicles of Narnia is just a lazy copy of Christian theology!",
         "The claim should be about literature. The claim should be only a few words long. The tone of the claim should be aggressive. You are writing a tweet.",
         "1"
        ],
        [
         "836",
         "Sharing stories and anecdotes about famous literary feuds always spices up our coffee breaks. Especially when there's a lot of talk about rivalries that pushed the writers to new heights.",
         "Virginia Woolf once criticized Joyce's stream-of-consciousness style as being overrated.",
         "The claim should be about literature. The claim should be only a few words long. The claim should refer to a statement made by another person. Pretend you're a a blue collar worker.",
         "1"
        ],
        [
         "943",
         "I recently came across an article discussing the role of small businesses in global trade. Many of these businesses find ways to reach niche markets abroad. It's always inspiring to see such entrepreneurial spirit.",
         "Small businesses contribute to about 40% of trade in sewn goods.",
         "The claim should be about trade. The claim should be only a few words long. Pretend you're a a youtuber. The claim should contain a percentage.",
         "0"
        ],
        [
         "959",
         "During our break at the diner, we were fed up with Jay's relentless chatter about his new big screen TV. He went on about the football game he watched last night, but his claims seemed full of it.",
         "He said his TV is so advanced that it can distinguish between a player and the ball itself, providing different viewing angles simultaneously.",
         "The claim should be about television. You are writing a textual description of an image. The tone of the claim should be insulting. Pretend you're a a blue collar worker.",
         "1"
        ],
        [
         "1021",
         "The evolution of modern poetry is a fascinating subject, where even the most exceptional poets drew inspiration from seemingly odd sources. These influences often sparked a change in their stylistic approaches or thematic exploration.",
         "T.S. Eliot composed \"The Waste Land\" while working as a bank clerk.",
         "The claim should be about literature. Pretend you're a an influencer. You are writing a textbook. The claim should be only a few words long.",
         "1"
        ],
        [
         "1038",
         "At a local health seminar, a speaker passionately discussed various strategies for improving mental health. Midway through the session, a member of the audience raises a hand to add another perspective.",
         "I heard that looking at a full moon can instantly cure depression.",
         "The claim should be about health. The claim should make an outrageous statement. The claim should respond to a somebody else's statement. The claim should be very short.",
         "1"
        ],
        [
         "1085",
         "After a lecture on the cultural tapestry of the 1960s, a student raised the point about televised events changing public perception. I reflected on the era and added that while TV certainly played a role, other media were also significant.",
         "The cultural revolution of the 1960s was as influenced by print media and radio as it was by television.",
         "The claim should be about culture. The claim should refer to a historic event. Pretend you're a a liberal. The claim should respond to a somebody else's statement.",
         "0"
        ],
        [
         "1090",
         "During the discussion on healthcare reforms, onlookers noted how the new policy changes seem to neglect localized remedies. A number of panelists, however, insisted that everyone should maintain perspective on certain trivial issues.",
         "Vitamins are essential for a healthy lifestyle.",
         "The claim should be about medicine. Pretend you're a a populist. The tone of the claim should be defensive. The claim should be about recent events.",
         "0"
        ],
        [
         "1096",
         "Yesterday, I decided to take a closer look at local farmers markets. It's always intriguing to see the range of products they offer, from fresh produce to handmade crafts. I chatted with one of the vendors about how their sales fluctuate throughout the year.",
         "Farmers markets account for 30% of all local trade.",
         "The claim should be about trade. The claim should be only a few words long. Pretend you're a a youtuber. The claim should contain a percentage.",
         "0"
        ],
        [
         "1147",
         "Today, I was thinking about making a new video about international cuisines. There's just something so fascinating about how different ingredients are traded globally. While researching, I stumbled upon some interesting statistics about international spice trade.",
         "Spices make up 15% of trade in some regions.",
         "The claim should be about trade. The claim should be only a few words long. Pretend you're a a youtuber. The claim should contain a percentage.",
         "0"
        ],
        [
         "1165",
         "Over a family dinner, the conversation turned to global cultural exchanges and their historical roots. One participant highlighted a significant diplomatic event, which sparked an animated discussion around the table about its implications for world history. Everyone agreed that a closer look was warranted.",
         "Ping-pong diplomacy between the United States and China began in the early 1970s with the table tennis team visit in 1971.",
         "The claim should be about international relations. The claim should be about past events. The claim should be only a few words long. Pretend you're a a middle aged person.",
         "1"
        ],
        [
         "1181",
         "We were talking about those classic books the other day while leaning on the truck bed. Somebody mentioned how different authors tackled similar themes, and it got us thinking about who wrote what.",
         "Hemingway once accused Faulkner of having a limited vocabulary.",
         "The claim should be about literature. The claim should be only a few words long. The claim should refer to a statement made by another person. Pretend you're a a blue collar worker.",
         "1"
        ],
        [
         "1248",
         "We've been through so much together, haven't we? I was just thinking about the Civil Rights Movement and how vital it was for change. You were there too, but did you ever hear the story about the bus boycott in our city?",
         "It lasted over a year and was one of the longest and most effective in the whole state, some say.",
         "The claim should be about racism. The claim should directly address a conversation partner. The claim should be about past events. Pretend you're a an elderly person.",
         "1"
        ],
        [
         "1259",
         "Our chat at the coffee station turned to how celebrity parents balance their busy schedules with family life. Someone brought up an article about Dwayne \"The Rock\" Johnson. Amidst the discussion, a revealing detail came up.",
         "Dwayne Johnson makes it a point to personally drop his daughters off at school every single day, regardless of his filming schedule.",
         "The claim should be about parenting. You are writing a tweet. Pretend you're a a white collar worker. The claim should refer to a public figure.",
         "1"
        ],
        [
         "1314",
         "During a discussion on the effectiveness of exercise on mental health, one participant expressed concerns about its impact on productivity. Another participant shared their perspective on this matter.",
         "Exercise, while beneficial, is not a substitute for a balanced diet in managing stress levels.",
         "The claim should be about medicine. The tone of the claim should be neutral. The claim should respond to a somebody else's statement. You are writing a textbook.",
         "0"
        ],
        [
         "1319",
         "Lisa turned on the TV to catch up on the latest headlines. As the news anchor transitioned to a lighter segment, they discussed the local fruit market trend in New York City. She mentioned how apple prices have increased after the recent fair.",
         "The cost of apples in the local market is now just under five dollars for a pound.",
         "The claim should be about the news. The claim should be about ongoing events. The claim should refer to a currency. You are writing a tweet.",
         "0"
        ],
        [
         "1337",
         "In an online forum discussing surprising health facts, a user posted a video about the benefits of sleep. A skeptic chimes in with an eyebrow-raising comment that prompts immediate reactions.",
         "Apparently, you don't need sleep if you drink a gallon of milk before bed.",
         "The claim should be about health. The claim should make an outrageous statement. The claim should respond to a somebody else's statement. The claim should be very short.",
         "1"
        ],
        [
         "1370",
         "In an article discussing the impact of the British Invasion on global music culture, a journalist claimed that the phenomenon was overrated. Comments flooded in to debate the impact on different music genres.",
         "The Beatles never had a significant influence on the rock genre and hardly any bands cite them as an inspiration.",
         "The claim should be about music. The claim should tell an outright lie. The claim should counter an argument. The tone of the claim should be negative.",
         "1"
        ],
        [
         "1408",
         "In a recent parliamentary session, the senator addressed the growing unease about the country's diplomatic strategies. She referenced past commitments to allies and mentioned discrepancies in official statements. She recalled a previous briefing where she highlighted potential consequences of inaction.",
         "Our breach of treaty obligations with allies was forewarned in my address last year.",
         "The claim should be about foreign policy. The tone of the claim should be negative. The claim should be only a few words long. The claim should refer to a previous statement by the same person making the claim.",
         "1"
        ],
        [
         "1477",
         "At a recent sports club meeting, there was a heated discussion about the physical impact of football. Several members voiced concerns about the influence of the game on young athletes. As emotions peaked, one attendee made an exaggerated claim.",
         "Football is single-handedly to blame for declining youth intelligence.",
         "The claim should be about sports. The claim should tell an outright lie. Pretend you're a a social democrat. The tone of the claim should be negative.",
         "0"
        ]
       ],
       "shape": {
        "columns": 4,
        "rows": 65
       }
      },
      "text/html": [
       "<div>\n",
       "<style scoped>\n",
       "    .dataframe tbody tr th:only-of-type {\n",
       "        vertical-align: middle;\n",
       "    }\n",
       "\n",
       "    .dataframe tbody tr th {\n",
       "        vertical-align: top;\n",
       "    }\n",
       "\n",
       "    .dataframe thead th {\n",
       "        text-align: right;\n",
       "    }\n",
       "</style>\n",
       "<table border=\"1\" class=\"dataframe\">\n",
       "  <thead>\n",
       "    <tr style=\"text-align: right;\">\n",
       "      <th></th>\n",
       "      <th>context</th>\n",
       "      <th>Text</th>\n",
       "      <th>properties</th>\n",
       "      <th>class_label</th>\n",
       "    </tr>\n",
       "  </thead>\n",
       "  <tbody>\n",
       "    <tr>\n",
       "      <th>2</th>\n",
       "      <td>During a recent debate among fans, a discussio...</td>\n",
       "      <td>The claim that his defensive performance last ...</td>\n",
       "      <td>The claim should be about sports. The claim sh...</td>\n",
       "      <td>0</td>\n",
       "    </tr>\n",
       "    <tr>\n",
       "      <th>21</th>\n",
       "      <td>During a recent lecture at the law school, the...</td>\n",
       "      <td>Roman law has influenced many contemporary leg...</td>\n",
       "      <td>The claim should be about law. The claim shoul...</td>\n",
       "      <td>0</td>\n",
       "    </tr>\n",
       "    <tr>\n",
       "      <th>50</th>\n",
       "      <td>Everyone keeps raving about these so-called sc...</td>\n",
       "      <td>Water freezes at 0 degrees Celsius.</td>\n",
       "      <td>The claim should be about science. The tone of...</td>\n",
       "      <td>0</td>\n",
       "    </tr>\n",
       "    <tr>\n",
       "      <th>69</th>\n",
       "      <td>In a previous discussion, Professor Gardner sm...</td>\n",
       "      <td>If by trivial you mean government spending $25...</td>\n",
       "      <td>The claim should be about space. The claim sho...</td>\n",
       "      <td>1</td>\n",
       "    </tr>\n",
       "    <tr>\n",
       "      <th>103</th>\n",
       "      <td>Our discussion at the community center about p...</td>\n",
       "      <td>Did you realize that local ordinances prohibit...</td>\n",
       "      <td>The claim should be about law. The claim shoul...</td>\n",
       "      <td>1</td>\n",
       "    </tr>\n",
       "    <tr>\n",
       "      <th>...</th>\n",
       "      <td>...</td>\n",
       "      <td>...</td>\n",
       "      <td>...</td>\n",
       "      <td>...</td>\n",
       "    </tr>\n",
       "    <tr>\n",
       "      <th>1824</th>\n",
       "      <td>During the team meeting, we covered recent sci...</td>\n",
       "      <td>It is widely known that goldfish can develop i...</td>\n",
       "      <td>The claim should be about science. The claim s...</td>\n",
       "      <td>0</td>\n",
       "    </tr>\n",
       "    <tr>\n",
       "      <th>1834</th>\n",
       "      <td>In recent years, heated debates have erupted i...</td>\n",
       "      <td>Black hole event horizons are merely theoretic...</td>\n",
       "      <td>The claim should be about science. The claim s...</td>\n",
       "      <td>1</td>\n",
       "    </tr>\n",
       "    <tr>\n",
       "      <th>1886</th>\n",
       "      <td>At a town hall meeting focused on curriculum d...</td>\n",
       "      <td>Research indicates that traditional teaching m...</td>\n",
       "      <td>The claim should be about education. The claim...</td>\n",
       "      <td>1</td>\n",
       "    </tr>\n",
       "    <tr>\n",
       "      <th>1991</th>\n",
       "      <td>After reviewing the comments on the recent deb...</td>\n",
       "      <td>Racism is often used as a scapegoat for proble...</td>\n",
       "      <td>The claim should be about racism. The claim sh...</td>\n",
       "      <td>0</td>\n",
       "    </tr>\n",
       "    <tr>\n",
       "      <th>1995</th>\n",
       "      <td>The discussion at the book club was heating up...</td>\n",
       "      <td>That author's book is nothing but insipid drivel.</td>\n",
       "      <td>The claim should be about literature. You are ...</td>\n",
       "      <td>0</td>\n",
       "    </tr>\n",
       "  </tbody>\n",
       "</table>\n",
       "<p>65 rows × 4 columns</p>\n",
       "</div>"
      ],
      "text/plain": [
       "                                                context  \\\n",
       "2     During a recent debate among fans, a discussio...   \n",
       "21    During a recent lecture at the law school, the...   \n",
       "50    Everyone keeps raving about these so-called sc...   \n",
       "69    In a previous discussion, Professor Gardner sm...   \n",
       "103   Our discussion at the community center about p...   \n",
       "...                                                 ...   \n",
       "1824  During the team meeting, we covered recent sci...   \n",
       "1834  In recent years, heated debates have erupted i...   \n",
       "1886  At a town hall meeting focused on curriculum d...   \n",
       "1991  After reviewing the comments on the recent deb...   \n",
       "1995  The discussion at the book club was heating up...   \n",
       "\n",
       "                                                   Text  \\\n",
       "2     The claim that his defensive performance last ...   \n",
       "21    Roman law has influenced many contemporary leg...   \n",
       "50                  Water freezes at 0 degrees Celsius.   \n",
       "69    If by trivial you mean government spending $25...   \n",
       "103   Did you realize that local ordinances prohibit...   \n",
       "...                                                 ...   \n",
       "1824  It is widely known that goldfish can develop i...   \n",
       "1834  Black hole event horizons are merely theoretic...   \n",
       "1886  Research indicates that traditional teaching m...   \n",
       "1991  Racism is often used as a scapegoat for proble...   \n",
       "1995  That author's book is nothing but insipid drivel.   \n",
       "\n",
       "                                             properties  class_label  \n",
       "2     The claim should be about sports. The claim sh...            0  \n",
       "21    The claim should be about law. The claim shoul...            0  \n",
       "50    The claim should be about science. The tone of...            0  \n",
       "69    The claim should be about space. The claim sho...            1  \n",
       "103   The claim should be about law. The claim shoul...            1  \n",
       "...                                                 ...          ...  \n",
       "1824  The claim should be about science. The claim s...            0  \n",
       "1834  The claim should be about science. The claim s...            1  \n",
       "1886  The claim should be about education. The claim...            1  \n",
       "1991  The claim should be about racism. The claim sh...            0  \n",
       "1995  The claim should be about literature. You are ...            0  \n",
       "\n",
       "[65 rows x 4 columns]"
      ]
     },
     "execution_count": 46,
     "metadata": {},
     "output_type": "execute_result"
    }
   ],
   "source": [
    "misclassified_synth_test[0]"
   ]
  },
  {
   "cell_type": "code",
   "execution_count": 47,
   "id": "6a181085",
   "metadata": {},
   "outputs": [],
   "source": [
    "#majority_misclassified_ct24 = intersect_misclassifications(misclassified_ct24, min_num_misclassified=1)\n",
    "#majority_misclassified_ct24_double = intersect_misclassifications(misclassified_ct24_double, min_num_misclassified=1)"
   ]
  },
  {
   "cell_type": "code",
   "execution_count": 48,
   "id": "9f63d0bc",
   "metadata": {},
   "outputs": [],
   "source": [
    "#exclusive_ct24, exclusive_ct24_double = exclusive_misclassifications(majority_misclassified_ct24, majority_misclassified_ct24_double)"
   ]
  },
  {
   "cell_type": "code",
   "execution_count": 49,
   "id": "ac32f940",
   "metadata": {},
   "outputs": [],
   "source": [
    "#plot_misclassifications(exclusive_ct24, \"CT24 exclusive misclassification distribution\")\n",
    "#plot_misclassifications(exclusive_ct24_double, \"CT24 double exclusive misclassification distribution\")"
   ]
  }
 ],
 "metadata": {
  "kernelspec": {
   "display_name": "Python 3 (ipykernel)",
   "language": "python",
   "name": "python3"
  },
  "language_info": {
   "codemirror_mode": {
    "name": "ipython",
    "version": 3
   },
   "file_extension": ".py",
   "mimetype": "text/x-python",
   "name": "python",
   "nbconvert_exporter": "python",
   "pygments_lexer": "ipython3",
   "version": "3.10.12"
  }
 },
 "nbformat": 4,
 "nbformat_minor": 5
}
