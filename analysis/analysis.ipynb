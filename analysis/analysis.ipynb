{
 "cells": [
  {
   "cell_type": "code",
   "execution_count": 50,
   "id": "33fba9bd",
   "metadata": {},
   "outputs": [],
   "source": [
    "from sklearn.metrics import confusion_matrix, ConfusionMatrixDisplay\n",
    "import matplotlib.pyplot as plt\n",
    "import wandb\n",
    "import numpy as np\n",
    "import torch\n",
    "import pandas as pd\n",
    "import evaluate"
   ]
  },
  {
   "cell_type": "code",
   "execution_count": 51,
   "id": "d6194c8d",
   "metadata": {},
   "outputs": [],
   "source": [
    "api = wandb.Api()"
   ]
  },
  {
   "cell_type": "code",
   "execution_count": 52,
   "id": "30f546a8",
   "metadata": {},
   "outputs": [],
   "source": [
    "metric = evaluate.combine([\"precision\", \"recall\", \"accuracy\", \"f1\"])"
   ]
  },
  {
   "cell_type": "code",
   "execution_count": 53,
   "id": "ac13fee2",
   "metadata": {},
   "outputs": [],
   "source": [
    "def download_predictions(run_name: str, invert:bool = False) -> tuple[dict]:\n",
    "    ret = []\n",
    "\n",
    "    wandb_project_base = 'redstag/thesis'\n",
    "    api = wandb.Api()\n",
    "    runs = api.runs(path=wandb_project_base, filters={\"display_name\": run_name})\n",
    "\n",
    "    for run in runs:\n",
    "        if run.state == 'finished':\n",
    "            for art in run.logged_artifacts():\n",
    "                if \"test_predictions\" in art.name:\n",
    "                    artifact = api.artifact(f\"{wandb_project_base}/{art.name}\")\n",
    "                    path = artifact.download()\n",
    "                    labels = np.load(path + '/labels.npy')\n",
    "                    predictions = np.load(path + '/predictions.npy')\n",
    "                    # Apply softmax to prediction logits using torch\n",
    "                    predictions_t = torch.tensor(predictions)\n",
    "                    probs = torch.nn.functional.softmax(predictions_t, dim=-1)\n",
    "                    predictions = torch.argmax(probs, dim=1, keepdim=True).flatten().numpy()\n",
    "\n",
    "                    # Invert if desired\n",
    "                    if invert:\n",
    "                        predictions = np.abs(predictions - 1)\n",
    "\n",
    "                    ret.append({\n",
    "                        'run_name': run_name,\n",
    "                        'artifact_name': art.name,\n",
    "                        'predictions': predictions,\n",
    "                        'labels': labels})\n",
    "    \n",
    "    return tuple(ret)"
   ]
  },
  {
   "cell_type": "code",
   "execution_count": 76,
   "id": "8c2104f4",
   "metadata": {},
   "outputs": [],
   "source": [
    "def plot_predictions(predictions: dict):\n",
    "    conf_mats_ct24 = [confusion_matrix(preds[\"labels\"], preds[\"predictions\"]) for preds in predictions]\n",
    "    fig, axes = plt.subplots(1, len(conf_mats_ct24), figsize=(15, 5))\n",
    "    fig.suptitle(predictions[0][\"run_name\"], fontsize=16)\n",
    "\n",
    "    if len(conf_mats_ct24) == 1:\n",
    "        # Wrap in array if single axes so we can iter\n",
    "        axes = [axes]\n",
    "\n",
    "    for ax, cm, preds in zip(axes, conf_mats_ct24, predictions):\n",
    "        disp = ConfusionMatrixDisplay(cm)\n",
    "        disp.plot(ax=ax)\n",
    "        ax.title.set_text(preds['artifact_name'])\n",
    "\n",
    "    plt.tight_layout()\n",
    "    plt.show()\n",
    "\n",
    "    metrics = [metric.compute(predictions=preds[\"predictions\"], references=preds[\"labels\"]) for preds in predictions]\n",
    "    metrics_frame = pd.DataFrame(metrics)\n",
    "    print(metrics_frame)\n",
    "    print(\"--mean--\")\n",
    "    print(metrics_frame.mean())"
   ]
  },
  {
   "cell_type": "code",
   "execution_count": 55,
   "id": "ff53817f",
   "metadata": {},
   "outputs": [],
   "source": [
    "def get_misclassified_samples(predictions: np.array, data_path: str, trunc_data: int | bool = False):\n",
    "    # Load the dataframe from the provided data path\n",
    "    df = pd.read_csv(data_path)\n",
    "\n",
    "    if trunc_data:\n",
    "        df = df.head(trunc_data)\n",
    "    \n",
    "    # Convert the \"class_label\" column to integers (Yes -> 1, No -> 0)\n",
    "    df['class_label'] = df['class_label'].map({'Yes': 1, 'No': 0})\n",
    "    \n",
    "    # Retrieve rows where the \"class_label\" column does not match the predictions\n",
    "    misclassified_samples = df[df['class_label'] != predictions]\n",
    "    \n",
    "    return misclassified_samples"
   ]
  },
  {
   "cell_type": "code",
   "execution_count": null,
   "id": "2d99b237",
   "metadata": {},
   "outputs": [],
   "source": [
    "from collections import Counter\n",
    "\n",
    "def intersect_misclassifications(misclassified: list[pd.DataFrame], min_num_misclassified: int):\n",
    "    # Combine all misclassified dataframes into a single dataframe with an identifier for each dataframe\n",
    "    combined = pd.concat(misclassified, ignore_index=True)\n",
    "    \n",
    "    # Count occurrences of each Sentence_id across all dataframes\n",
    "    counts = combined['Sentence_id'].value_counts()\n",
    "    \n",
    "    # Filter Sentence_ids that appear in at least min_num_misclassified dataframes\n",
    "    frequent_ids = counts[counts >= min_num_misclassified].index\n",
    "    \n",
    "    # Retrieve rows with those Sentence_ids\n",
    "    result = combined[combined['Sentence_id'].isin(frequent_ids)]\n",
    "\n",
    "    # Remove duplicate rows based on 'Sentence_id', keeping the first occurrence\n",
    "    result = result.drop_duplicates(subset='Sentence_id')\n",
    "    \n",
    "    return result"
   ]
  },
  {
   "cell_type": "code",
   "execution_count": 57,
   "id": "d7f0cb0e",
   "metadata": {},
   "outputs": [
    {
     "name": "stderr",
     "output_type": "stream",
     "text": [
      "\u001b[34m\u001b[1mwandb\u001b[0m:   2 of 2 files downloaded.  \n",
      "\u001b[34m\u001b[1mwandb\u001b[0m:   2 of 2 files downloaded.  \n",
      "\u001b[34m\u001b[1mwandb\u001b[0m:   2 of 2 files downloaded.  \n",
      "\u001b[34m\u001b[1mwandb\u001b[0m:   2 of 2 files downloaded.  \n",
      "\u001b[34m\u001b[1mwandb\u001b[0m:   2 of 2 files downloaded.  \n",
      "\u001b[34m\u001b[1mwandb\u001b[0m:   2 of 2 files downloaded.  \n"
     ]
    }
   ],
   "source": [
    "invert = False\n",
    "predictions_ct24 = download_predictions(\"ct24_general_claim_eval\", invert=invert)\n",
    "predictions_ct24_double = download_predictions(\"ct24_double_general_claim_eval\", invert=invert)"
   ]
  },
  {
   "cell_type": "code",
   "execution_count": 77,
   "id": "b7b6a4ea",
   "metadata": {},
   "outputs": [
    {
     "data": {
      "image/png": "[encoded data removed]",
      "text/plain": [
       "<Figure size 1500x500 with 6 Axes>"
      ]
     },
     "metadata": {},
     "output_type": "display_data"
    },
    {
     "name": "stdout",
     "output_type": "stream",
     "text": [
      "   precision    recall  accuracy        f1\n",
      "0   0.699298  0.386971   0.72720  0.498234\n",
      "1   0.677823  0.386514   0.72098  0.492303\n",
      "2   0.696550  0.414229   0.73182  0.519511\n",
      "--mean--\n",
      "precision    0.691224\n",
      "recall       0.395905\n",
      "accuracy     0.726667\n",
      "f1           0.503350\n",
      "dtype: float64\n"
     ]
    }
   ],
   "source": [
    "plot_predictions(predictions_ct24)"
   ]
  },
  {
   "cell_type": "code",
   "execution_count": 78,
   "id": "28a831b8",
   "metadata": {},
   "outputs": [
    {
     "data": {
      "image/png": "[encoded data removed]",
      "text/plain": [
       "<Figure size 1500x500 with 6 Axes>"
      ]
     },
     "metadata": {},
     "output_type": "display_data"
    },
    {
     "name": "stdout",
     "output_type": "stream",
     "text": [
      "   precision    recall  accuracy        f1\n",
      "0   0.698508  0.457543   0.74102  0.552912\n",
      "1   0.692031  0.439143   0.73530  0.537319\n",
      "2   0.700310  0.451200   0.74034  0.548810\n",
      "--mean--\n",
      "precision    0.696950\n",
      "recall       0.449295\n",
      "accuracy     0.738887\n",
      "f1           0.546347\n",
      "dtype: float64\n"
     ]
    }
   ],
   "source": [
    "plot_predictions(predictions_ct24_double)"
   ]
  },
  {
   "cell_type": "code",
   "execution_count": 96,
   "id": "0e82ba45",
   "metadata": {},
   "outputs": [],
   "source": [
    "eval_file_path = \"../data/general_claim/general-claim-filtered.csv\"\n",
    "misclassified_ct24 = [get_misclassified_samples(preds[\"predictions\"], eval_file_path, trunc_data=50000) for preds in predictions_ct24]\n",
    "misclassified_ct24_double = [get_misclassified_samples(preds[\"predictions\"], eval_file_path, trunc_data=50000) for preds in predictions_ct24_double]"
   ]
  },
  {
   "cell_type": "code",
   "execution_count": null,
   "id": "6a181085",
   "metadata": {},
   "outputs": [
    {
     "data": {
      "application/vnd.microsoft.datawrangler.viewer.v0+json": {
       "columns": [
        {
         "name": "index",
         "rawType": "int64",
         "type": "integer"
        },
        {
         "name": "Sentence_id",
         "rawType": "int64",
         "type": "integer"
        },
        {
         "name": "topic",
         "rawType": "object",
         "type": "string"
        },
        {
         "name": "style",
         "rawType": "object",
         "type": "string"
        },
        {
         "name": "source",
         "rawType": "object",
         "type": "string"
        },
        {
         "name": "class_label",
         "rawType": "int64",
         "type": "integer"
        },
        {
         "name": "Text",
         "rawType": "object",
         "type": "string"
        }
       ],
       "conversionMethod": "pd.DataFrame",
       "ref": "990f2aa4-f6dc-428f-8669-c2f5b7f91cb7",
       "rows": [
        [
         "0",
         "349195",
         "politics",
         "structured",
         "various",
         "0",
         "The plutonium , stripped out of American nuclear weapons , will then be transported back across the Atlantic to Cherbourg in northern France . "
        ],
        [
         "1",
         "433583",
         "various",
         "semi",
         "Fact-Checks",
         "1",
         "Korean newscaster bursts out laughing while reporting China motorcycle ban"
        ],
        [
         "2",
         "567704",
         "various",
         "semi",
         "Fact-Checks",
         "1",
         "Image shows an elephant beaten in Tamil Nadu"
        ],
        [
         "3",
         "599612",
         "politics",
         "semi",
         "PolitiFact",
         "0",
         "Downstream Gas operates across the gas value chain from the wellhead to the burner tip with a fully integrated gas business.1 It includes the Group’s power business activities, with one gas- fired power plant in Romania."
        ],
        [
         "4",
         "476682",
         "various",
         "semi",
         "Fact-Checks",
         "1",
         "\"I am certain we won't be denied the World Cup.”"
        ],
        [
         "5",
         "305048",
         "various",
         "structured",
         "Persuasive Essay",
         "1",
         "It is a positive encouragement for many more talented people to contribute to the world of athletics and entertainment , giving us awesome performances to enjoy . "
        ],
        [
         "6",
         "366871",
         "politics",
         "structured",
         "various",
         "1",
         "If this God exists , and we must obey him unconditionally , then anything whatever might turn out to be permissible . "
        ],
        [
         "8",
         "357873",
         "politics",
         "structured",
         "various",
         "1",
         "It cannot be any spatial or temporal object . "
        ],
        [
         "9",
         "370177",
         "politics",
         "structured",
         "various",
         "1",
         "The Japanese people need to take that statement humbly , for there are still many people , including politicians , who seem to glorify or whitewash some of our nation ' s misdeeds . "
        ],
        [
         "10",
         "398258",
         "various",
         "structured",
         "Web Discourse",
         "1",
         "Prayer in schools should not be led by a school official ( who is a gov ' t official if we are talking about public schools ) . "
        ],
        [
         "12",
         "278348",
         "various",
         "structured",
         "Persuasive Essay",
         "1",
         "Finally , a visit to the zoo will help increasing someone ' s respect and appreciation for animals . "
        ],
        [
         "13",
         "497955",
         "various",
         "semi",
         "Fact-Checks",
         "1",
         "Photograph shows a U.S. flag bearing an image of Barack Obama flying over a Florida county’s Democratic headquarters"
        ],
        [
         "14",
         "584974",
         "various",
         "semi",
         "Fact-Checks",
         "1",
         "people Chasing Away COVID-19 Vaccination Squad"
        ],
        [
         "16",
         "325366",
         "various",
         "structured",
         "Persuasive Essay",
         "1",
         "In conclusion , working in the office is obviously better than working at home in terms of efficiency . "
        ],
        [
         "17",
         "329485",
         "various",
         "structured",
         "Persuasive Essay",
         "1",
         "Some people prefer to recognize globalization as a threat to ethnic and religious values of people of their country . "
        ],
        [
         "18",
         "213207",
         "various",
         "semi",
         "Wiki Talk Pages",
         "0",
         "WP : UNDUE is about the proportion of total article space space dedicated to issues , particularly to minority views : \" . . . in proportion to the prominence of each \" . "
        ],
        [
         "20",
         "202109",
         "various",
         "semi",
         "Wiki Talk Pages",
         "0",
         "It apposes the sexual act between somebody of the same sex but also says . . . 2358 The number of men and women who have deep-seated homosexual tendencies is not negligible . "
        ],
        [
         "21",
         "476714",
         "various",
         "semi",
         "Fact-Checks",
         "1",
         "Viral Video of Giant Sandstorm in China is Real"
        ],
        [
         "22",
         "259293",
         "various",
         "semi",
         "Wiki Talk Pages",
         "0",
         "I have also slightly changed the definition of sacraments , which just says they are \" rituals \" , and removed reference to US sex abuse scandals , which certainly do not belong in the introduction . "
        ],
        [
         "24",
         "413349",
         "various",
         "semi",
         "Fact-Checks",
         "1",
         "Photo shows Don Lemon and Jeffrey Epstein embracing."
        ],
        [
         "25",
         "337649",
         "various",
         "structured",
         "Persuasive Essay",
         "1",
         "In conclusion , I strongly believe that we have to assit animals and provide them the best quality of life possible . "
        ],
        [
         "26",
         "492462",
         "various",
         "semi",
         "Fact-Checks",
         "1",
         "Former First Lady of the Philippines Imelda Marcos died of a cardiac arrest in June 2017."
        ],
        [
         "27",
         "494101",
         "various",
         "semi",
         "Fact-Checks",
         "1",
         "A photograph shows an opulent Vermont mansion owned by U.S. Sen. Bernie Sanders."
        ],
        [
         "28",
         "235929",
         "various",
         "semi",
         "Wiki Talk Pages",
         "0",
         "So far I ' ve only seen one legitmate source that argues that the band isn ' t nu metal on this page , when I and Rockgenre have provided several that say that they are , one of which is one of the major sources used for this article . "
        ],
        [
         "29",
         "577367",
         "various",
         "semi",
         "Fact-Checks",
         "1",
         "Video shows Kashmiri people celebrating Pakistans win against India after the T20 World Cup 2021 match on October 24, 2021."
        ],
        [
         "32",
         "326643",
         "various",
         "structured",
         "Persuasive Essay",
         "1",
         "It seems to me that students should start learning that as they start school . "
        ],
        [
         "33",
         "452944",
         "various",
         "semi",
         "Fact-Checks",
         "1",
         "Your Eyes Are A Map Of The Body"
        ],
        [
         "34",
         "212938",
         "various",
         "semi",
         "Wiki Talk Pages",
         "1",
         "That ' s the crucial difference . "
        ],
        [
         "35",
         "162795",
         "various",
         "semi",
         "LiveJournal",
         "1",
         "My thoughts are with you and your family . "
        ],
        [
         "37",
         "248322",
         "various",
         "semi",
         "Wiki Talk Pages",
         "0",
         "If it ' s any consolation , the Presidency of Barack Obama article uses the word criticism four times , and the Presidency of George W . Bush article doesn ' t use the word at all . "
        ],
        [
         "38",
         "309070",
         "various",
         "structured",
         "Persuasive Essay",
         "1",
         "However , people should concern more about their living environment than job . "
        ],
        [
         "39",
         "452448",
         "various",
         "semi",
         "Fact-Checks",
         "1",
         "Visuals showing PM Modi ignoring Ram Nath Kovind while he is greeting him"
        ],
        [
         "40",
         "355148",
         "politics",
         "structured",
         "various",
         "0",
         "Prime Minister Sharon came forward with an opportunity : the elimination of settlements in Gaza and the beginning of the elimination of settlements in the West Bank . "
        ],
        [
         "41",
         "351225",
         "politics",
         "structured",
         "various",
         "0",
         "Saddam was as bad a guy as one can get , but there is no law-national or international-that sanctions attacks on guys because you have good reason to believe they are bad , and could threaten you ( see infographic ) . "
        ],
        [
         "42",
         "375352",
         "various",
         "structured",
         "Web Discourse",
         "0",
         "Muslim prayer is strictly segregated . "
        ],
        [
         "43",
         "320559",
         "various",
         "structured",
         "Persuasive Essay",
         "1",
         "Hence , it is evident that individuals born with talents have also a high chance to be successful . "
        ],
        [
         "44",
         "283652",
         "various",
         "structured",
         "Persuasive Essay",
         "1",
         "Another reason is that from part time jobs students can earn money , which can help their parents . "
        ],
        [
         "45",
         "500472",
         "various",
         "semi",
         "Fact-Checks",
         "1",
         "Redeem 500 cedi prize after participating in a survey to celebrate Bank of Ghana's 64th anniversary"
        ],
        [
         "46",
         "600055",
         "politics",
         "semi",
         "PolitiFact",
         "1",
         "At the same time, it is natural for us to act in as environmentally friendly a manner as possible in our own operation."
        ],
        [
         "47",
         "270937",
         "various",
         "structured",
         "Microtext",
         "1",
         "We should go to the Baltic Sea on the weekend . "
        ],
        [
         "48",
         "73403",
         "politics",
         "semi",
         "PolitiFact",
         "1",
         "Your family got three and a half million dollars and you know someday, you're gonna have to explain - why did you get three and a half?"
        ],
        [
         "49",
         "318089",
         "various",
         "structured",
         "Persuasive Essay",
         "1",
         "Students who take break , gain lot of benefits by traveling around the places or by working . "
        ],
        [
         "50",
         "259141",
         "various",
         "semi",
         "Wiki Talk Pages",
         "1",
         "There is no question there is big time bias here . "
        ],
        [
         "51",
         "198351",
         "various",
         "semi",
         "Wiki Talk Pages",
         "0",
         "Taxes were not remitted to Dublin , public servants didn ' t take their orders from Dublin , the tricolour did fly over govt premises in Belfast . "
        ],
        [
         "52",
         "243677",
         "various",
         "semi",
         "Wiki Talk Pages",
         "0",
         "Wikipedia also forbids the use of role accounts , such as "
        ],
        [
         "53",
         "338240",
         "various",
         "structured",
         "Persuasive Essay",
         "0",
         "To picture it , recently , Putin was pleased to open the last winter Olympic games and gather international countries , but actually it has been just facade and Putin didn ' t listen international warning after he conquered the Crimea . "
        ],
        [
         "54",
         "459705",
         "various",
         "semi",
         "Fact-Checks",
         "1",
         "Bollywood actor Shahrukh Khan gets grand welcome at Qatar World Cup 2022"
        ],
        [
         "55",
         "366644",
         "politics",
         "structured",
         "various",
         "1",
         "O that they should love one other ! "
        ],
        [
         "56",
         "225961",
         "various",
         "semi",
         "Wiki Talk Pages",
         "1",
         "I DID NOT \" twist your words \" . "
        ],
        [
         "57",
         "438279",
         "various",
         "semi",
         "Fact-Checks",
         "1",
         "Pfizer Inoculations Do More Harm Than Good"
        ]
       ],
       "shape": {
        "columns": 6,
        "rows": 12408
       }
      },
      "text/html": [
       "<div>\n",
       "<style scoped>\n",
       "    .dataframe tbody tr th:only-of-type {\n",
       "        vertical-align: middle;\n",
       "    }\n",
       "\n",
       "    .dataframe tbody tr th {\n",
       "        vertical-align: top;\n",
       "    }\n",
       "\n",
       "    .dataframe thead th {\n",
       "        text-align: right;\n",
       "    }\n",
       "</style>\n",
       "<table border=\"1\" class=\"dataframe\">\n",
       "  <thead>\n",
       "    <tr style=\"text-align: right;\">\n",
       "      <th></th>\n",
       "      <th>Sentence_id</th>\n",
       "      <th>topic</th>\n",
       "      <th>style</th>\n",
       "      <th>source</th>\n",
       "      <th>class_label</th>\n",
       "      <th>Text</th>\n",
       "    </tr>\n",
       "  </thead>\n",
       "  <tbody>\n",
       "    <tr>\n",
       "      <th>0</th>\n",
       "      <td>349195</td>\n",
       "      <td>politics</td>\n",
       "      <td>structured</td>\n",
       "      <td>various</td>\n",
       "      <td>0</td>\n",
       "      <td>The plutonium , stripped out of American nucle...</td>\n",
       "    </tr>\n",
       "    <tr>\n",
       "      <th>1</th>\n",
       "      <td>433583</td>\n",
       "      <td>various</td>\n",
       "      <td>semi</td>\n",
       "      <td>Fact-Checks</td>\n",
       "      <td>1</td>\n",
       "      <td>Korean newscaster bursts out laughing while re...</td>\n",
       "    </tr>\n",
       "    <tr>\n",
       "      <th>2</th>\n",
       "      <td>567704</td>\n",
       "      <td>various</td>\n",
       "      <td>semi</td>\n",
       "      <td>Fact-Checks</td>\n",
       "      <td>1</td>\n",
       "      <td>Image shows an elephant beaten in Tamil Nadu</td>\n",
       "    </tr>\n",
       "    <tr>\n",
       "      <th>3</th>\n",
       "      <td>599612</td>\n",
       "      <td>politics</td>\n",
       "      <td>semi</td>\n",
       "      <td>PolitiFact</td>\n",
       "      <td>0</td>\n",
       "      <td>Downstream Gas operates across the gas value c...</td>\n",
       "    </tr>\n",
       "    <tr>\n",
       "      <th>4</th>\n",
       "      <td>476682</td>\n",
       "      <td>various</td>\n",
       "      <td>semi</td>\n",
       "      <td>Fact-Checks</td>\n",
       "      <td>1</td>\n",
       "      <td>\"I am certain we won't be denied the World Cup.”</td>\n",
       "    </tr>\n",
       "    <tr>\n",
       "      <th>...</th>\n",
       "      <td>...</td>\n",
       "      <td>...</td>\n",
       "      <td>...</td>\n",
       "      <td>...</td>\n",
       "      <td>...</td>\n",
       "      <td>...</td>\n",
       "    </tr>\n",
       "    <tr>\n",
       "      <th>13634</th>\n",
       "      <td>433595</td>\n",
       "      <td>various</td>\n",
       "      <td>semi</td>\n",
       "      <td>Fact-Checks</td>\n",
       "      <td>1</td>\n",
       "      <td>Snowfall in Lagos</td>\n",
       "    </tr>\n",
       "    <tr>\n",
       "      <th>13636</th>\n",
       "      <td>114178</td>\n",
       "      <td>various</td>\n",
       "      <td>semi</td>\n",
       "      <td>LiveJournal</td>\n",
       "      <td>1</td>\n",
       "      <td>: ' ( It ' s pretty hopeless . . .</td>\n",
       "    </tr>\n",
       "    <tr>\n",
       "      <th>13637</th>\n",
       "      <td>411292</td>\n",
       "      <td>various</td>\n",
       "      <td>semi</td>\n",
       "      <td>Fact-Checks</td>\n",
       "      <td>1</td>\n",
       "      <td>\"Nobody\" in the Republican Party \"condemns\" th...</td>\n",
       "    </tr>\n",
       "    <tr>\n",
       "      <th>13638</th>\n",
       "      <td>335840</td>\n",
       "      <td>various</td>\n",
       "      <td>structured</td>\n",
       "      <td>Persuasive Essay</td>\n",
       "      <td>1</td>\n",
       "      <td>Because of that , tourism should not be alledg...</td>\n",
       "    </tr>\n",
       "    <tr>\n",
       "      <th>13639</th>\n",
       "      <td>93225</td>\n",
       "      <td>various</td>\n",
       "      <td>semi</td>\n",
       "      <td>LiveJournal</td>\n",
       "      <td>1</td>\n",
       "      <td>Now you ' ve got me jonesing for some IHOP .</td>\n",
       "    </tr>\n",
       "  </tbody>\n",
       "</table>\n",
       "<p>12408 rows × 6 columns</p>\n",
       "</div>"
      ],
      "text/plain": [
       "       Sentence_id     topic       style            source  class_label  \\\n",
       "0           349195  politics  structured           various            0   \n",
       "1           433583   various        semi       Fact-Checks            1   \n",
       "2           567704   various        semi       Fact-Checks            1   \n",
       "3           599612  politics        semi        PolitiFact            0   \n",
       "4           476682   various        semi       Fact-Checks            1   \n",
       "...            ...       ...         ...               ...          ...   \n",
       "13634       433595   various        semi       Fact-Checks            1   \n",
       "13636       114178   various        semi       LiveJournal            1   \n",
       "13637       411292   various        semi       Fact-Checks            1   \n",
       "13638       335840   various  structured  Persuasive Essay            1   \n",
       "13639        93225   various        semi       LiveJournal            1   \n",
       "\n",
       "                                                    Text  \n",
       "0      The plutonium , stripped out of American nucle...  \n",
       "1      Korean newscaster bursts out laughing while re...  \n",
       "2           Image shows an elephant beaten in Tamil Nadu  \n",
       "3      Downstream Gas operates across the gas value c...  \n",
       "4       \"I am certain we won't be denied the World Cup.”  \n",
       "...                                                  ...  \n",
       "13634                                  Snowfall in Lagos  \n",
       "13636                : ' ( It ' s pretty hopeless . . .   \n",
       "13637  \"Nobody\" in the Republican Party \"condemns\" th...  \n",
       "13638  Because of that , tourism should not be alledg...  \n",
       "13639      Now you ' ve got me jonesing for some IHOP .   \n",
       "\n",
       "[12408 rows x 6 columns]"
      ]
     },
     "execution_count": 95,
     "metadata": {},
     "output_type": "execute_result"
    }
   ],
   "source": [
    "intersect_misclassifications(misclassified_ct24, min_num_misclassified=len(misclassified_ct24))"
   ]
  }
 ],
 "metadata": {
  "kernelspec": {
   "display_name": "Python 3 (ipykernel)",
   "language": "python",
   "name": "python3"
  },
  "language_info": {
   "codemirror_mode": {
    "name": "ipython",
    "version": 3
   },
   "file_extension": ".py",
   "mimetype": "text/x-python",
   "name": "python",
   "nbconvert_exporter": "python",
   "pygments_lexer": "ipython3",
   "version": "3.10.12"
  }
 },
 "nbformat": 4,
 "nbformat_minor": 5
}
