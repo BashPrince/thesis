{
 "cells": [
  {
   "cell_type": "code",
   "execution_count": 1,
   "id": "484b0a69",
   "metadata": {},
   "outputs": [],
   "source": [
    "import pandas as pd"
   ]
  },
  {
   "cell_type": "code",
   "execution_count": 2,
   "id": "50333813",
   "metadata": {},
   "outputs": [
    {
     "data": {
      "application/vnd.microsoft.datawrangler.viewer.v0+json": {
       "columns": [
        {
         "name": "index",
         "rawType": "int64",
         "type": "integer"
        },
        {
         "name": "Sentence_id",
         "rawType": "int64",
         "type": "integer"
        },
        {
         "name": "topic",
         "rawType": "object",
         "type": "string"
        },
        {
         "name": "style",
         "rawType": "object",
         "type": "string"
        },
        {
         "name": "source",
         "rawType": "object",
         "type": "string"
        },
        {
         "name": "class_label",
         "rawType": "object",
         "type": "string"
        },
        {
         "name": "Text",
         "rawType": "object",
         "type": "string"
        }
       ],
       "ref": "7b0cfd75-39fb-4a0f-ad29-64eb6fd67098",
       "rows": [
        [
         "0",
         "499502",
         "various",
         "semi",
         "Fact-Checks",
         "Yes",
         "Members of a Houston mosque barricaded themselves inside and refused to help people evacuating Hurricane Harvey."
        ],
        [
         "1",
         "349195",
         "politics",
         "structured",
         "various",
         "No",
         "The plutonium , stripped out of American nuclear weapons , will then be transported back across the Atlantic to Cherbourg in northern France . "
        ],
        [
         "2",
         "371473",
         "various",
         "structured",
         "Web Discourse",
         "No",
         "Now , you even show your child a belt with the intention of hitting him / her and your own child can sue you . "
        ],
        [
         "3",
         "134263",
         "various",
         "semi",
         "LiveJournal",
         "No",
         "Thanks ! "
        ],
        [
         "4",
         "135347",
         "various",
         "semi",
         "LiveJournal",
         "No",
         "The usual . "
        ],
        [
         "5",
         "264369",
         "various",
         "semi",
         "Wiki Talk Pages",
         "No",
         "A quote can easily state , \" translated by the gift and power of god \" as long as it is attributed or referenced . "
        ],
        [
         "6",
         "424132",
         "various",
         "semi",
         "Fact-Checks",
         "Yes",
         "Sergeant at arms asked for National Guard 6 times but Pelosi said no"
        ],
        [
         "7",
         "277751",
         "various",
         "structured",
         "Persuasive Essay",
         "No",
         "Some may argue that universities can support themselve well by donation or invention , but this argument is invalid . "
        ],
        [
         "8",
         "595523",
         "various",
         "semi",
         "Fact-Checks",
         "Yes",
         "A Pentagon cop was arrested for dealing fentanyl to kids"
        ],
        [
         "9",
         "370347",
         "politics",
         "structured",
         "various",
         "No",
         "That it s quite an easy argument , it doesn t really get you very far in terms of anti militarism . "
        ],
        [
         "10",
         "121071",
         "various",
         "semi",
         "LiveJournal",
         "No",
         "Still , it ' s her own stupid fault for telling that person \" HEY ! "
        ],
        [
         "11",
         "155868",
         "various",
         "semi",
         "LiveJournal",
         "No",
         "wtf . "
        ],
        [
         "12",
         "484106",
         "various",
         "semi",
         "Fact-Checks",
         "Yes",
         "Claims the military sentenced former President George W. Bush to death after convicting him of treason and murder as a conspirator in the Sept. 11, 2001 terrorist attacks."
        ],
        [
         "13",
         "263470",
         "various",
         "semi",
         "Wiki Talk Pages",
         "No",
         "I agree completely with Bookkeeper and Realist2 . "
        ],
        [
         "14",
         "278845",
         "various",
         "structured",
         "Persuasive Essay",
         "No",
         "Living in the 21st century , people are firmly convinced that technology is the main driving force behind productivity . "
        ],
        [
         "15",
         "291851",
         "various",
         "structured",
         "Persuasive Essay",
         "No",
         "There is no denying that our environment is damaged day by day due to the fact that excessive pursuit of economic development at expense of eco-system , which pose a great threat to the survival of wild animals . "
        ],
        [
         "16",
         "433583",
         "various",
         "semi",
         "Fact-Checks",
         "Yes",
         "Korean newscaster bursts out laughing while reporting China motorcycle ban"
        ],
        [
         "17",
         "405123",
         "various",
         "structured",
         "Web Discourse",
         "No",
         "You could call that in itself a very narrow prospect . "
        ],
        [
         "18",
         "108727",
         "various",
         "semi",
         "LiveJournal",
         "No",
         "that ' s a much more sarcastic and cynical comic than I ' ve seen you do before . . . . "
        ],
        [
         "19",
         "567704",
         "various",
         "semi",
         "Fact-Checks",
         "Yes",
         "Image shows an elephant beaten in Tamil Nadu"
        ],
        [
         "20",
         "144329",
         "various",
         "semi",
         "LiveJournal",
         "No",
         "Also , it has a sense of humour ( search for ' porn ' and it tells you ' officially we dont allow this stuff but umm . . . if youre sure , we can show you what comes up ! ' ) . . . "
        ],
        [
         "21",
         "175561",
         "various",
         "semi",
         "LiveJournal",
         "No",
         "I ' m kind of amazed how much of a dick he is . "
        ],
        [
         "22",
         "157274",
         "various",
         "semi",
         "LiveJournal",
         "No",
         "Damn you , Final Fantasy XIII . "
        ],
        [
         "23",
         "476682",
         "various",
         "semi",
         "Fact-Checks",
         "Yes",
         "\"I am certain we won't be denied the World Cup.”"
        ],
        [
         "24",
         "305048",
         "various",
         "structured",
         "Persuasive Essay",
         "Yes",
         "It is a positive encouragement for many more talented people to contribute to the world of athletics and entertainment , giving us awesome performances to enjoy . "
        ],
        [
         "25",
         "236077",
         "various",
         "semi",
         "Wiki Talk Pages",
         "No",
         "How , honestly , were Deep Purple so much more blues-based than Sabbath in your eyes ? "
        ],
        [
         "26",
         "161206",
         "various",
         "semi",
         "LiveJournal",
         "No",
         "Goldfish . "
        ],
        [
         "27",
         "246689",
         "various",
         "semi",
         "Wiki Talk Pages",
         "No",
         "If it says Zionist regime it should say so in the quote . "
        ],
        [
         "28",
         "212753",
         "various",
         "semi",
         "Wiki Talk Pages",
         "No",
         "This can certainly be argued for things like gcc , but not the userspace . "
        ],
        [
         "29",
         "158151",
         "various",
         "semi",
         "LiveJournal",
         "No",
         "b ) Yes , thanks again . "
        ],
        [
         "30",
         "366871",
         "politics",
         "structured",
         "various",
         "Yes",
         "If this God exists , and we must obey him unconditionally , then anything whatever might turn out to be permissible . "
        ],
        [
         "31",
         "106144",
         "various",
         "semi",
         "LiveJournal",
         "No",
         "Scared about ? "
        ],
        [
         "32",
         "91121",
         "various",
         "semi",
         "LiveJournal",
         "No",
         "It won ' t happen again . "
        ],
        [
         "33",
         "143950",
         "various",
         "semi",
         "LiveJournal",
         "No",
         "Let ' s try this again . "
        ],
        [
         "34",
         "493120",
         "various",
         "semi",
         "Fact-Checks",
         "Yes",
         "More people are waiting more than four hours to be seen in A&E since the Conservatives took power."
        ],
        [
         "35",
         "473918",
         "various",
         "semi",
         "Fact-Checks",
         "Yes",
         "A casting call for a Latina actress to play a \"Donald Trump Executive Assistant Supporter\" was posted by the republican presidential candidate."
        ],
        [
         "36",
         "478372",
         "various",
         "semi",
         "Fact-Checks",
         "Yes",
         "The average family are now paying £1,500 more per year for nursery fees than in 2010."
        ],
        [
         "37",
         "130505",
         "various",
         "semi",
         "LiveJournal",
         "No",
         "A stylistic decision makes a very good hat . "
        ],
        [
         "38",
         "214382",
         "various",
         "semi",
         "Wiki Talk Pages",
         "No",
         "Quoting Nunh-huh , It ' s data that matters in science , not opinions , and not argument from authority . . "
        ],
        [
         "39",
         "211165",
         "various",
         "semi",
         "Wiki Talk Pages",
         "No",
         "I gave an example text above which eschews the blame game and other details best explored elsewhere , although I conceded at the time that it was only an initial draft . "
        ],
        [
         "40",
         "119854",
         "various",
         "semi",
         "LiveJournal",
         "No",
         "We killed Lich King . "
        ],
        [
         "41",
         "466708",
         "various",
         "semi",
         "Fact-Checks",
         "Yes",
         "claims to show a NASA picture of the Himalayas from space."
        ],
        [
         "42",
         "292295",
         "various",
         "structured",
         "Persuasive Essay",
         "No",
         "Moreover , e-mail doesn ' t take too much time : just a click . "
        ],
        [
         "43",
         "396190",
         "various",
         "structured",
         "Web Discourse",
         "No",
         "I ' m all right Jack . . . bugger you is a great attitude , especially for a teacher . "
        ],
        [
         "44",
         "357873",
         "politics",
         "structured",
         "various",
         "Yes",
         "It cannot be any spatial or temporal object . "
        ],
        [
         "45",
         "260136",
         "various",
         "semi",
         "Wiki Talk Pages",
         "No",
         "Your indentation , FFMG , is unnecessarily restricting the space for replies and making it more difficult to edit . "
        ],
        [
         "46",
         "185001",
         "various",
         "semi",
         "Wiki Talk Pages",
         "No",
         "I have removed the remaining insignificant examples . "
        ],
        [
         "47",
         "289669",
         "various",
         "structured",
         "Persuasive Essay",
         "No",
         "Cars depend on gasoline , which is a non-renewable resource . "
        ],
        [
         "48",
         "398603",
         "various",
         "structured",
         "Web Discourse",
         "No",
         "But then we have studies that show the numbers . "
        ],
        [
         "49",
         "358276",
         "politics",
         "structured",
         "various",
         "No",
         "We can sit in them , bump into them . "
        ]
       ],
       "shape": {
        "columns": 6,
        "rows": 418749
       }
      },
      "text/html": [
       "<div>\n",
       "<style scoped>\n",
       "    .dataframe tbody tr th:only-of-type {\n",
       "        vertical-align: middle;\n",
       "    }\n",
       "\n",
       "    .dataframe tbody tr th {\n",
       "        vertical-align: top;\n",
       "    }\n",
       "\n",
       "    .dataframe thead th {\n",
       "        text-align: right;\n",
       "    }\n",
       "</style>\n",
       "<table border=\"1\" class=\"dataframe\">\n",
       "  <thead>\n",
       "    <tr style=\"text-align: right;\">\n",
       "      <th></th>\n",
       "      <th>Sentence_id</th>\n",
       "      <th>topic</th>\n",
       "      <th>style</th>\n",
       "      <th>source</th>\n",
       "      <th>class_label</th>\n",
       "      <th>Text</th>\n",
       "    </tr>\n",
       "  </thead>\n",
       "  <tbody>\n",
       "    <tr>\n",
       "      <th>0</th>\n",
       "      <td>499502</td>\n",
       "      <td>various</td>\n",
       "      <td>semi</td>\n",
       "      <td>Fact-Checks</td>\n",
       "      <td>Yes</td>\n",
       "      <td>Members of a Houston mosque barricaded themsel...</td>\n",
       "    </tr>\n",
       "    <tr>\n",
       "      <th>1</th>\n",
       "      <td>349195</td>\n",
       "      <td>politics</td>\n",
       "      <td>structured</td>\n",
       "      <td>various</td>\n",
       "      <td>No</td>\n",
       "      <td>The plutonium , stripped out of American nucle...</td>\n",
       "    </tr>\n",
       "    <tr>\n",
       "      <th>2</th>\n",
       "      <td>371473</td>\n",
       "      <td>various</td>\n",
       "      <td>structured</td>\n",
       "      <td>Web Discourse</td>\n",
       "      <td>No</td>\n",
       "      <td>Now , you even show your child a belt with the...</td>\n",
       "    </tr>\n",
       "    <tr>\n",
       "      <th>3</th>\n",
       "      <td>134263</td>\n",
       "      <td>various</td>\n",
       "      <td>semi</td>\n",
       "      <td>LiveJournal</td>\n",
       "      <td>No</td>\n",
       "      <td>Thanks !</td>\n",
       "    </tr>\n",
       "    <tr>\n",
       "      <th>4</th>\n",
       "      <td>135347</td>\n",
       "      <td>various</td>\n",
       "      <td>semi</td>\n",
       "      <td>LiveJournal</td>\n",
       "      <td>No</td>\n",
       "      <td>The usual .</td>\n",
       "    </tr>\n",
       "    <tr>\n",
       "      <th>...</th>\n",
       "      <td>...</td>\n",
       "      <td>...</td>\n",
       "      <td>...</td>\n",
       "      <td>...</td>\n",
       "      <td>...</td>\n",
       "      <td>...</td>\n",
       "    </tr>\n",
       "    <tr>\n",
       "      <th>418744</th>\n",
       "      <td>321517</td>\n",
       "      <td>various</td>\n",
       "      <td>structured</td>\n",
       "      <td>Persuasive Essay</td>\n",
       "      <td>No</td>\n",
       "      <td>Another perspective , using of these facilitie...</td>\n",
       "    </tr>\n",
       "    <tr>\n",
       "      <th>418745</th>\n",
       "      <td>439102</td>\n",
       "      <td>various</td>\n",
       "      <td>semi</td>\n",
       "      <td>Fact-Checks</td>\n",
       "      <td>Yes</td>\n",
       "      <td>Malcolm X’s Daughter: ‘My Dad Would Be Ashamed...</td>\n",
       "    </tr>\n",
       "    <tr>\n",
       "      <th>418746</th>\n",
       "      <td>194271</td>\n",
       "      <td>various</td>\n",
       "      <td>semi</td>\n",
       "      <td>Wiki Talk Pages</td>\n",
       "      <td>No</td>\n",
       "      <td>Not sure if he married the mother .</td>\n",
       "    </tr>\n",
       "    <tr>\n",
       "      <th>418747</th>\n",
       "      <td>209206</td>\n",
       "      <td>various</td>\n",
       "      <td>semi</td>\n",
       "      <td>Wiki Talk Pages</td>\n",
       "      <td>No</td>\n",
       "      <td>The argument consistently is \" well , this guy...</td>\n",
       "    </tr>\n",
       "    <tr>\n",
       "      <th>418748</th>\n",
       "      <td>184297</td>\n",
       "      <td>various</td>\n",
       "      <td>semi</td>\n",
       "      <td>Wiki Talk Pages</td>\n",
       "      <td>Yes</td>\n",
       "      <td>It doesn ' t matter what you put here , they w...</td>\n",
       "    </tr>\n",
       "  </tbody>\n",
       "</table>\n",
       "<p>418749 rows × 6 columns</p>\n",
       "</div>"
      ],
      "text/plain": [
       "        Sentence_id     topic       style            source class_label  \\\n",
       "0            499502   various        semi       Fact-Checks         Yes   \n",
       "1            349195  politics  structured           various          No   \n",
       "2            371473   various  structured     Web Discourse          No   \n",
       "3            134263   various        semi       LiveJournal          No   \n",
       "4            135347   various        semi       LiveJournal          No   \n",
       "...             ...       ...         ...               ...         ...   \n",
       "418744       321517   various  structured  Persuasive Essay          No   \n",
       "418745       439102   various        semi       Fact-Checks         Yes   \n",
       "418746       194271   various        semi   Wiki Talk Pages          No   \n",
       "418747       209206   various        semi   Wiki Talk Pages          No   \n",
       "418748       184297   various        semi   Wiki Talk Pages         Yes   \n",
       "\n",
       "                                                     Text  \n",
       "0       Members of a Houston mosque barricaded themsel...  \n",
       "1       The plutonium , stripped out of American nucle...  \n",
       "2       Now , you even show your child a belt with the...  \n",
       "3                                               Thanks !   \n",
       "4                                            The usual .   \n",
       "...                                                   ...  \n",
       "418744  Another perspective , using of these facilitie...  \n",
       "418745  Malcolm X’s Daughter: ‘My Dad Would Be Ashamed...  \n",
       "418746               Not sure if he married the mother .   \n",
       "418747  The argument consistently is \" well , this guy...  \n",
       "418748  It doesn ' t matter what you put here , they w...  \n",
       "\n",
       "[418749 rows x 6 columns]"
      ]
     },
     "execution_count": 2,
     "metadata": {},
     "output_type": "execute_result"
    }
   ],
   "source": [
    "df = pd.read_csv(\"../data/general_claim/general-claim-filtered-v2.csv\")\n",
    "df"
   ]
  },
  {
   "cell_type": "code",
   "execution_count": 3,
   "id": "5ab149a1",
   "metadata": {},
   "outputs": [
    {
     "data": {
      "application/vnd.microsoft.datawrangler.viewer.v0+json": {
       "columns": [
        {
         "name": "source",
         "rawType": "object",
         "type": "string"
        },
        {
         "name": "count",
         "rawType": "int64",
         "type": "integer"
        }
       ],
       "ref": "4d35512d-eaba-4456-af93-c377ddec6c90",
       "rows": [
        [
         "Fact-Checks",
         "98220"
        ],
        [
         "Wiki Talk Pages",
         "90533"
        ],
        [
         "LiveJournal",
         "88711"
        ],
        [
         "Persuasive Essay",
         "71160"
        ],
        [
         "Web Discourse",
         "37789"
        ],
        [
         "various",
         "27846"
        ],
        [
         "Microtext",
         "4490"
        ]
       ],
       "shape": {
        "columns": 1,
        "rows": 7
       }
      },
      "text/plain": [
       "source\n",
       "Fact-Checks         98220\n",
       "Wiki Talk Pages     90533\n",
       "LiveJournal         88711\n",
       "Persuasive Essay    71160\n",
       "Web Discourse       37789\n",
       "various             27846\n",
       "Microtext            4490\n",
       "Name: count, dtype: int64"
      ]
     },
     "execution_count": 3,
     "metadata": {},
     "output_type": "execute_result"
    }
   ],
   "source": [
    "df[\"source\"].value_counts()"
   ]
  },
  {
   "cell_type": "code",
   "execution_count": 4,
   "id": "f2c8061a",
   "metadata": {},
   "outputs": [
    {
     "data": {
      "application/vnd.microsoft.datawrangler.viewer.v0+json": {
       "columns": [
        {
         "name": "topic",
         "rawType": "object",
         "type": "string"
        },
        {
         "name": "count",
         "rawType": "int64",
         "type": "integer"
        }
       ],
       "ref": "380fa7e5-5e06-4f68-be0b-6b36e99153f1",
       "rows": [
        [
         "various",
         "390903"
        ],
        [
         "politics",
         "27846"
        ]
       ],
       "shape": {
        "columns": 1,
        "rows": 2
       }
      },
      "text/plain": [
       "topic\n",
       "various     390903\n",
       "politics     27846\n",
       "Name: count, dtype: int64"
      ]
     },
     "execution_count": 4,
     "metadata": {},
     "output_type": "execute_result"
    }
   ],
   "source": [
    "df[\"topic\"].value_counts()"
   ]
  },
  {
   "cell_type": "code",
   "execution_count": 5,
   "id": "f956b2c4",
   "metadata": {},
   "outputs": [],
   "source": [
    "# Restrict positive samples to Fact-Checks\n",
    "df_subset = df[(df[\"source\"] == \"Fact-Checks\") | (df[\"class_label\"] == \"No\")]\n",
    "# No newlines\n",
    "df_subset = df_subset[df_subset[\"Text\"].str.count('\\n') == 0]\n",
    "# Min text length\n",
    "df_subset = df_subset[df_subset[\"Text\"].str.len() > 15]"
   ]
  },
  {
   "cell_type": "code",
   "execution_count": 6,
   "id": "985af288",
   "metadata": {},
   "outputs": [],
   "source": [
    "pos = df_subset[df_subset[\"class_label\"] == \"Yes\"].sample(n=7000)\n",
    "neg = df_subset[df_subset[\"class_label\"] == \"No\"]\n",
    "neg = neg.sample(n=7000)\n",
    "\n",
    "pos_splits = [pos[:5000], pos[5000:5500], pos[5500:]]\n",
    "neg_splits = [neg[:5000], neg[5000:5500], neg[5500:]]"
   ]
  },
  {
   "cell_type": "code",
   "execution_count": 7,
   "id": "3231343f",
   "metadata": {},
   "outputs": [],
   "source": [
    "train = pd.concat([pos_splits[0], neg_splits[0]]).sample(frac=1)\n",
    "dev = pd.concat([pos_splits[1], neg_splits[1]]).sample(frac=1)\n",
    "test = pd.concat([pos_splits[2], neg_splits[2]]).sample(frac=1)\n",
    "train.to_csv(\"../data/general_claim/gc_fact-check-pos-train.csv\", index=False)\n",
    "dev.to_csv(\"../data/general_claim/gc_fact-check-pos-dev.csv\", index=False)\n",
    "test.to_csv(\"../data/general_claim/gc_fact-check-pos-test.csv\", index=False)\n",
    "# len(df_subset)"
   ]
  }
 ],
 "metadata": {
  "kernelspec": {
   "display_name": "Python 3 (ipykernel)",
   "language": "python",
   "name": "python3"
  },
  "language_info": {
   "codemirror_mode": {
    "name": "ipython",
    "version": 3
   },
   "file_extension": ".py",
   "mimetype": "text/x-python",
   "name": "python",
   "nbconvert_exporter": "python",
   "pygments_lexer": "ipython3",
   "version": "3.10.12"
  }
 },
 "nbformat": 4,
 "nbformat_minor": 5
}
