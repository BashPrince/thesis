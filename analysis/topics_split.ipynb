{
 "cells": [
  {
   "cell_type": "code",
   "execution_count": 1,
   "id": "5ce4b77c",
   "metadata": {},
   "outputs": [],
   "source": [
    "import os\n",
    "from bertopic import BERTopic\n",
    "from umap import UMAP\n",
    "from sentence_transformers import SentenceTransformer\n",
    "from sklearn.feature_extraction.text import CountVectorizer\n",
    "from sklearn.model_selection import train_test_split\n",
    "import pandas as pd\n",
    "import numpy as np"
   ]
  },
  {
   "cell_type": "code",
   "execution_count": 2,
   "id": "66a86060",
   "metadata": {},
   "outputs": [],
   "source": [
    "def get_topic_info(topic_model: BERTopic, text_list: list[str], dataframe: pd.DataFrame):\n",
    "    doc_info = topic_model.get_document_info(text_list)\n",
    "    doc_info[\"class_label\"] = dataframe[\"class_label\"]\n",
    "\n",
    "    # Calculate Yes/No class counts per topic\n",
    "    topic_class_counts = doc_info.groupby(['Topic', 'Name'])['class_label'].value_counts().unstack(fill_value=0).reset_index()\n",
    "    topic_class_counts[\"count\"] = topic_class_counts[\"Yes\"] + topic_class_counts[\"No\"]\n",
    "    topic_class_counts[\"pos_ratio\"] = topic_class_counts[\"Yes\"] / (topic_class_counts[\"Yes\"] + topic_class_counts[\"No\"])\n",
    "\n",
    "    # Add class counts to topic info\n",
    "    topic_info = topic_model.get_topic_info()\n",
    "    topic_info[\"No\"] = topic_class_counts[\"No\"]\n",
    "    topic_info[\"Yes\"] = topic_class_counts[\"Yes\"]\n",
    "    topic_info[\"pos_ratio\"] = topic_class_counts[\"pos_ratio\"]\n",
    "\n",
    "    return topic_info"
   ]
  },
  {
   "cell_type": "code",
   "execution_count": 3,
   "id": "28e1e954",
   "metadata": {},
   "outputs": [],
   "source": [
    "def reduce_topic(topic_model: BERTopic, topic_id, text_list, topics, threshold, strategy, embeddings=None):\n",
    "    old_topic_info = topic_model.get_topic_info()\n",
    "    new_topics = topic_model.reduce_outliers(text_list, topics, threshold=threshold, strategy=strategy, embeddings=embeddings, topic_id=topic_id)\n",
    "    topic_model.update_topics(docs=text_list, topics=new_topics)\n",
    "    new_topic_info = topic_model.get_topic_info()\n",
    "    \n",
    "    # How many docs changed topic\n",
    "    num_reassigned = old_topic_info.loc[old_topic_info[\"Topic\"] == topic_id][\"Count\"] - new_topic_info.loc[new_topic_info[\"Topic\"] == topic_id][\"Count\"]\n",
    "    num_reassigned = num_reassigned.iloc[0]\n",
    "    \n",
    "    # How many target topics did the docs change to\n",
    "    num_changed = (old_topic_info[\"Count\"] != new_topic_info[\"Count\"]).sum() - (1 if num_reassigned != 0 else 0)\n",
    "    old_topic_name = (old_topic_info.loc[old_topic_info[\"Topic\"] == topic_id][\"Name\"]).iloc[0]\n",
    "\n",
    "    print(f\"Reassigned {num_reassigned} documents from \\\"{old_topic_name}\\\" to {num_changed} new topics\")\n",
    "\n",
    "    return new_topics"
   ]
  },
  {
   "cell_type": "code",
   "execution_count": 4,
   "id": "0ed6d2c6",
   "metadata": {},
   "outputs": [],
   "source": [
    "df_train = pd.read_csv(\"../data/CT24_checkworthy_english/train.csv\")\n",
    "df_dev = pd.read_csv(\"../data/CT24_checkworthy_english/dev.csv\")\n",
    "df_dev_test = pd.read_csv(\"../data/CT24_checkworthy_english/dev-test.csv\")\n",
    "df_test_gold = pd.read_csv(\"../data/CT24_checkworthy_english/test-gold.csv\")\n",
    "df = pd.concat([df_train, df_dev, df_dev_test, df_test_gold], ignore_index=True)\n",
    "text_list = df.Text.to_list()"
   ]
  },
  {
   "cell_type": "code",
   "execution_count": 5,
   "id": "8b2972e8",
   "metadata": {},
   "outputs": [
    {
     "data": {
      "application/vnd.jupyter.widget-view+json": {
       "model_id": "c97619b6f1574692bebc42bc37c64383",
       "version_major": 2,
       "version_minor": 0
      },
      "text/plain": [
       "Batches:   0%|          | 0/756 [00:00<?, ?it/s]"
      ]
     },
     "metadata": {},
     "output_type": "display_data"
    }
   ],
   "source": [
    "# Pre-calculate embeddings\n",
    "embedding_model = SentenceTransformer(\"all-MiniLM-L6-v2\")\n",
    "embeddings = embedding_model.encode(text_list, show_progress_bar=True)"
   ]
  },
  {
   "cell_type": "code",
   "execution_count": 6,
   "id": "f529ead3",
   "metadata": {},
   "outputs": [],
   "source": [
    "umap_model = UMAP(n_neighbors=30, n_components=5, min_dist=0.0, metric='cosine', random_state=42)\n",
    "vectorizer_model = CountVectorizer(stop_words=\"english\", min_df=2, ngram_range=(1, 2))\n",
    "topic_model = BERTopic(min_topic_size=50, umap_model=umap_model, vectorizer_model=vectorizer_model)\n",
    "topics, probs = topic_model.fit_transform(documents=text_list, embeddings=embeddings)"
   ]
  },
  {
   "cell_type": "code",
   "execution_count": 7,
   "id": "500794a0",
   "metadata": {},
   "outputs": [
    {
     "data": {
      "application/vnd.microsoft.datawrangler.viewer.v0+json": {
       "columns": [
        {
         "name": "index",
         "rawType": "int64",
         "type": "integer"
        },
        {
         "name": "Topic",
         "rawType": "int64",
         "type": "integer"
        },
        {
         "name": "Count",
         "rawType": "int64",
         "type": "integer"
        },
        {
         "name": "Name",
         "rawType": "object",
         "type": "string"
        },
        {
         "name": "Representation",
         "rawType": "object",
         "type": "unknown"
        },
        {
         "name": "Representative_Docs",
         "rawType": "object",
         "type": "unknown"
        },
        {
         "name": "No",
         "rawType": "int64",
         "type": "integer"
        },
        {
         "name": "Yes",
         "rawType": "int64",
         "type": "integer"
        },
        {
         "name": "pos_ratio",
         "rawType": "float64",
         "type": "float"
        }
       ],
       "ref": "d79f8e3d-ab2b-43b1-a1a9-6ed29bc14d43",
       "rows": [
        [
         "0",
         "-1",
         "12844",
         "-1_people_think_going_country",
         "['people', 'think', 'going', 'country', 'know', 'president', 'dont', 'said', 'thats', 'world']",
         "['You know, back in 1987, he took out a $100,000 ad in the New York Times, during the time when President Reagan was president, and basically said exactly what he just said now, that we were the laughingstock of the world.', \"You know, we have five percent of the world's population in this country.\", 'You know, the American people are fair.']",
         "10101",
         "2743",
         "0.21356275303643724"
        ],
        [
         "1",
         "0",
         "1280",
         "0_health_care_social security_social",
         "['health', 'care', 'social security', 'social', 'medicare', 'health care', 'insurance', 'security', 'drugs', 'seniors']",
         "['I want to do something about Social Security.', 'There is something else about Social Security.', 'Now, Social Security has never done that.']",
         "775",
         "505",
         "0.39453125"
        ],
        [
         "2",
         "1",
         "756",
         "1_tax_taxes_tax cut_cut",
         "['tax', 'taxes', 'tax cut', 'cut', 'tax cuts', 'increase', 'relief', 'cuts', 'raise', 'percent']",
         "['This is a family tax cut.', 'I have a tax cut.', 'They have a VAT tax.']",
         "403",
         "353",
         "0.4669312169312169"
        ],
        [
         "3",
         "2",
         "542",
         "2_jobs_unemployment_million_small",
         "['jobs', 'unemployment', 'million', 'small', 'business', 'new jobs', 'job', 'create', 'businesses', 'manufacturing']",
         "['Most small businesses -- 70 percent of the new jobs in America are created by small businesses.', 'For me, this is about jobs.', 'And for me, this is about jobs.']",
         "305",
         "237",
         "0.43726937269372695"
        ],
        [
         "4",
         "3",
         "532",
         "3_schools_education_school_teachers",
         "['schools', 'education', 'school', 'teachers', 'college', 'public', 'children', 'kids', 'public schools', 'federal']",
         "['We can do better in our public schools.', \"We can't do it just in the schools.\", 'Not to the schools but to -- you know, 46% of the teachers in Chicago, public school teachers, send their kids to private school.']",
         "387",
         "145",
         "0.2725563909774436"
        ],
        [
         "5",
         "4",
         "504",
         "4_work_thats_going_weve got",
         "['work', 'thats', 'going', 'weve got', 'better', 'weve', 'got', 'im', 'way', 'im going']",
         "[\"And they're going to do that.\", 'There is more work to be done.', \"I don't think that'll work.\"]",
         "494",
         "10",
         "0.01984126984126984"
        ],
        [
         "6",
         "5",
         "417",
         "5_energy_oil_coal_gas",
         "['energy', 'oil', 'coal', 'gas', 'production', 'solar', 'clean', 'drilling', 'wind', 'natural gas']",
         "[\"So he's got the oil and gas part, but he doesn't have the clean energy part.\", 'I want to control our own energy by developing oil and natural gas but also the energy sources of the future.', 'It had everything to do with energy.']",
         "245",
         "172",
         "0.41247002398081534"
        ],
        [
         "7",
         "6",
         "393",
         "6_let_answer_respond_question",
         "['let', 'answer', 'respond', 'question', 'tell', 'let just', 'just', 'say', 'ill', 'point']",
         "[\"But, I'll let you all parse that out.\", 'So let me get to that.', 'Well, let me just say -- let me just say.']",
         "389",
         "4",
         "0.010178117048346057"
        ],
        [
         "8",
         "7",
         "352",
         "7_shes_hillary_emails_wants",
         "['shes', 'hillary', 'emails', 'wants', 'woman', 'said', 'hillary clinton', '33000', 'know', '33000 emails']",
         "[\"The problem is, you talk, but you don't get anything done, Hillary.\", \"I don't believe Hillary will.\", 'I will say this about Hillary.']",
         "273",
         "79",
         "0.22443181818181818"
        ],
        [
         "9",
         "8",
         "302",
         "8_president_president united_united states_united",
         "['president', 'president united', 'united states', 'united', 'states', 'president president', 'white house', 'white', 'house', 'im']",
         "[\"But if you're a president, it's not.\", 'This is what a president has to do.', 'I will be the president and we will get it done.']",
         "292",
         "10",
         "0.033112582781456956"
        ],
        [
         "10",
         "9",
         "281",
         "9_soviet_soviet union_russia_union",
         "['soviet', 'soviet union', 'russia', 'union', 'putin', 'russians', 'georgia', 'cold war', 'cold', 'russian']",
         "['I would not let the Soviet Union get their hands on it at all.', 'We have serious differences with the Soviet Union.', 'We find that the Soviet Union is a very primitive economy.']",
         "199",
         "82",
         "0.2918149466192171"
        ],
        [
         "11",
         "10",
         "254",
         "10_israel_middle east_east_middle",
         "['israel', 'middle east', 'east', 'middle', 'syria', 'isis', 'arab', 'assad', 'muslims', 'muslim']",
         "[\"Peace in the Middle East is in our nation's interests.\", \"I've got a strategy for the Middle East.\", \"They've taken over the Middle East.\"]",
         "177",
         "77",
         "0.3031496062992126"
        ],
        [
         "12",
         "11",
         "249",
         "11_nuclear_weapons_nuclear weapons_missiles",
         "['nuclear', 'weapons', 'nuclear weapons', 'missiles', 'atomic', 'proliferation', 'missile', 'cruise', 'nuclear power', 'warheads']",
         "['The president is the one that said, \"We can\\'t allow countries to get nuclear weapons.\"', \"It's important for the nuclear weapons.\", 'All the nuclear weapons are not dismantled.']",
         "167",
         "82",
         "0.3293172690763052"
        ],
        [
         "13",
         "12",
         "240",
         "12_debt_deficit_trillion_deficits",
         "['debt', 'deficit', 'trillion', 'deficits', 'national debt', 'trillion debt', 'billion', 'surplus', 'national', '20 trillion']",
         "['We have right now almost $20 trillion in debt.', \"We've gone from $10 trillion of national debt, to $16 trillion of national debt.\", \"Well, we're $4 trillion in debt.\"]",
         "104",
         "136",
         "0.5666666666666667"
        ],
        [
         "14",
         "13",
         "216",
         "13_law_police_crime_lawyers",
         "['law', 'police', 'crime', 'lawyers', 'trial', 'laws', 'police officers', 'trial lawyers', 'officers', 'enforce']",
         "[\"Well, I don't know in the case of the trial lawyers.\", 'We have to work with the police.', 'Thirty years ago there were three police officers on the street for every crime; today there are three crimes for every police officer.']",
         "151",
         "65",
         "0.30092592592592593"
        ],
        [
         "15",
         "14",
         "172",
         "14_budget_spending_balanced_balanced budget",
         "['budget', 'spending', 'balanced', 'balanced budget', 'balance', 'balance budget', 'budgets', 'cut spending', 'year', 'line']",
         "['Number four, get to us a balanced budget.', 'I believe in the balanced budget.', \"And then we're going to have to get to a balanced budget.\"]",
         "133",
         "39",
         "0.22674418604651161"
        ],
        [
         "16",
         "15",
         "169",
         "15_senator_obama_republican_senator obama",
         "['senator', 'obama', 'republican', 'senator obama', 'senate', 'voted', 'democrat', 'liberal', 'democrats', 'republicans']",
         "['Of course, we have to do some things tactically, some of which Senator Obama is correct on.', 'Senator Obama has opposed that.', \"But I'm not going to telegraph my punches, which is what Senator Obama did.\"]",
         "115",
         "54",
         "0.31952662721893493"
        ],
        [
         "17",
         "16",
         "155",
         "16_issue_problem_fix_problems",
         "['issue', 'problem', 'fix', 'problems', 'important issue', 'issues', 'solve', 'issue issue', 'solve problem', 'important']",
         "['The issue is what you do about it.', 'And so -- on the logging issue.', 'Now, that is the issue.']",
         "150",
         "5",
         "0.03225806451612903"
        ],
        [
         "18",
         "17",
         "149",
         "17_military_troops_forces_war",
         "['military', 'troops', 'forces', 'war', 'win war', 'divisions', 'rebuild', 'morale', 'mission', 'world']",
         "['Some of our troops are not well-equipped.', \"But the military -- let's get back to the military, though.\", 'We have a depleted military.']",
         "124",
         "25",
         "0.16778523489932887"
        ],
        [
         "19",
         "18",
         "147",
         "18_court_judges_amendment_supreme court",
         "['court', 'judges', 'amendment', 'supreme court', 'supreme', 'second amendment', 'constitution', 'justices', 'second', 'appoint']",
         "['A governor gets to name supreme court judges.', 'The question was about the Supreme Court.', \"The Supreme Court: It's what it's all about.\"]",
         "123",
         "24",
         "0.16326530612244897"
        ],
        [
         "20",
         "19",
         "135",
         "19_trade_free trade_deals_agreements",
         "['trade', 'free trade', 'deals', 'agreements', 'free', 'nafta', 'trade agreements', 'trade agreement', 'agreement', 'fair trade']",
         "[\"We don't have free trade.\", 'That is not free trade.', 'Many would trade for it.']",
         "100",
         "35",
         "0.25925925925925924"
        ],
        [
         "21",
         "20",
         "133",
         "20_government_federal government_federal_reform",
         "['government', 'federal government', 'federal', 'reform', 'role', 'local', 'bureaucratic', 'big', 'level', 'role government']",
         "[\"I'd like the government to have that.\", 'Here is the role of the federal government.', \"Federal government doesn't do that.\"]",
         "121",
         "12",
         "0.09022556390977443"
        ],
        [
         "22",
         "21",
         "132",
         "21_abortion_unborn_wade_roe",
         "['abortion', 'unborn', 'wade', 'roe', 'roe wade', 'child', 'woman', 'birth', 'women', 'parenthood']",
         "[\"I - I'm strongly against a- abortion.\", \"These weren't taken from abortion or something like that.\", 'Take, for example, the ban on partial birth abortion.']",
         "100",
         "32",
         "0.24242424242424243"
        ],
        [
         "23",
         "22",
         "129",
         "22_washington_congress_washington dc_dc",
         "['washington', 'congress', 'washington dc', 'dc', 'members congress', 'house', 'members', 'new congress', 'senate', 'congress united']",
         "[\"That's what we need more of, and that's what I've done in Washington.\", \"We've got to do that in Washington.\", \"Washington, by itself, can't do it all.\"]",
         "117",
         "12",
         "0.09302325581395349"
        ],
        [
         "24",
         "23",
         "129",
         "23_gun_guns_criminals_registration",
         "['gun', 'guns', 'criminals', 'registration', 'background', 'hands', 'background checks', 'check', 'instant', 'crime']",
         "[\"I believe in background checks at gun shows or anywhere to make sure that guns don't get in the hands of people that shouldn't have them.\", \"If it says tilt, you don't get any gun.\", \"You don't get any gun.\"]",
         "96",
         "33",
         "0.2558139534883721"
        ],
        [
         "25",
         "24",
         "127",
         "24_parents_children_family_kids",
         "['parents', 'children', 'family', 'kids', 'families', 'child', 'parental', 'parent', 'child care', 'strengthen']",
         "['Parents are going to have to show more responsibility.', \"And recently the Federal Trade Commission pointed out that some of these entertainment companies have warned parents that the material is inappropriate for children, and then they've turned around behind the backs of the parents and advertised that same adult material directly to children.\", 'And by that I want to have child care where the families, the parents, have control.']",
         "117",
         "10",
         "0.07874015748031496"
        ],
        [
         "26",
         "25",
         "126",
         "25_american people_american_america_think american",
         "['american people', 'american', 'america', 'think american', 'people', 'americans', 'think', 'truth', 'country', 'thats']",
         "['And I think this is something the American people see.', 'But are the American people?', 'Put it to you bluntly, American people.']",
         "122",
         "4",
         "0.031746031746031744"
        ],
        [
         "27",
         "26",
         "120",
         "26_thank_jim_university_bob",
         "['thank', 'jim', 'university', 'bob', 'want thank', 'hosting', 'like thank', 'thank people', 'let', 'tonight']",
         "['Thank you, Jim, very much.', 'Thank you very much, Jim.', 'Jim, thank you very much.']",
         "118",
         "2",
         "0.016666666666666666"
        ],
        [
         "28",
         "27",
         "120",
         "27_economy_economy going_economic_grow economy",
         "['economy', 'economy going', 'economic', 'grow economy', 'economic package', 'grow', 'package', 'economy growing', 'economy think', 'growing']",
         "['We can get this economy going again.', \"And we'll get our economy going again.\", 'We have to get our economy going.']",
         "109",
         "11",
         "0.09166666666666666"
        ],
        [
         "29",
         "28",
         "120",
         "28_afghanistan_bin_laden_bin laden",
         "['afghanistan', 'bin', 'laden', 'bin laden', 'al', 'al qaida', 'qaida', 'osama', 'osama bin', 'afghan']",
         "[\"I'll get Osama bin Laden, my friends.\", 'We had to go in there to get Osama bin Laden.', \"And that's what Osama bin Laden's handbook said, because we captured it in Afghanistan.\"]",
         "73",
         "47",
         "0.39166666666666666"
        ],
        [
         "30",
         "29",
         "120",
         "29_iran_nuclear_sanctions_iranians",
         "['iran', 'nuclear', 'sanctions', 'iranians', 'iranian', 'ahmadinejad', 'threat', 'nuclear weapon', 'deal', 'weapon']",
         "[\"Number two, with regards to Iran and the threat of Iran, there's no question but that a nuclear Iran, a nuclear-capable Iran is unacceptable to America.\", 'It was not my administration that put the sanctions on Iran.', \"But to the issue of Iran, as long as I'm president of the United States Iran will not get a nuclear weapon.\"]",
         "73",
         "47",
         "0.39166666666666666"
        ],
        [
         "31",
         "30",
         "119",
         "30_cuba_latin_latin america_castro",
         "['cuba', 'latin', 'latin america', 'castro', 'america', 'haiti', 'central america', 'central', 'influence', 'cuban']",
         "['If the United States had stronger prestige and influence in Latin America it could persuade - as Franklin Roosevelt did in 1940 - the countries of Latin America to join in an economic quarantine of Castro.', 'I have seen Communist influence and Castro influence rise in Latin America.', 'Number three, Castro is only the beginning of our difficulties throughout Latin America.']",
         "71",
         "48",
         "0.40336134453781514"
        ],
        [
         "32",
         "31",
         "119",
         "31_governor_governors_governor clinton_clinton",
         "['governor', 'governors', 'governor clinton', 'clinton', 'state', 'think governor', 'georgia', 'governor georgia', 'governor state', 'heard']",
         "[\"The governors -- and I believe Governor Clinton was in on this -- but maybe -- I don't want to invoke him here.\", 'Let me help the governor.', \"Governor -- here -- here's -- here's one thing...\"]",
         "85",
         "34",
         "0.2857142857142857"
        ],
        [
         "33",
         "32",
         "113",
         "32_election_campaign_elections_election thats",
         "['election', 'campaign', 'elections', 'election thats', 'polls', 'thats', 'campaigns', 'weeks', 'whats stake', 'stake']",
         "[\"That's what the election's about.\", 'And so the election is all-', \"But that's what the election's about.\"]",
         "105",
         "8",
         "0.07079646017699115"
        ],
        [
         "34",
         "33",
         "113",
         "33_veto_vetoed_bills_passed",
         "['veto', 'vetoed', 'bills', 'passed', 'congress', 'president', 'line item', 'item', 'vetoes', 'signed']",
         "['I vetoed a number of bills of that kind myself, when I was in California.', \"If you care about it, why don't you veto it?\", \"The President shouldn't have vetoed that bill.\"]",
         "52",
         "61",
         "0.5398230088495575"
        ],
        [
         "35",
         "34",
         "98",
         "34_billion_trillion_dollars_billion dollars",
         "['billion', 'trillion', 'dollars', 'billion dollars', 'spent', '10 billion', '10', 'year', 'billion year', '25 trillion']",
         "['I just told this lady over here we spent -- went from $10 billion to $30 billion to protect the homeland.', \"It will cost a minimum of four billion dollars a year more, a maximum of four and nine-tenths billion dollar a year more than we're presently spending.\", 'We had 7 billion this year and 10 billion more than the president.']",
         "16",
         "82",
         "0.8367346938775511"
        ],
        [
         "36",
         "35",
         "97",
         "35_kennedy_senator kennedy_senator_kennedys",
         "['kennedy', 'senator kennedy', 'senator', 'kennedys', 'senator kennedys', 'kennedy said', 'john kennedy', 'proposals', 'kennedy suggested', 'point senator']",
         "['Senator Kennedy is in the hospital.', 'And so is Senator Kennedy a friend of yours.', \"We all have tempers; I have one; I'm sure Senator Kennedy has one.\"]",
         "80",
         "17",
         "0.17525773195876287"
        ],
        [
         "37",
         "36",
         "94",
         "36_responsibility_decisions_choices_choice",
         "['responsibility', 'decisions', 'choices', 'choice', 'make', 'moral', 'obligation', 'morality', 'responsible', 'choice think']",
         "[\"It's a moral responsibility for us and the world.\", \"And I'll take responsibility for them.\", 'And we have a responsibility.']",
         "94",
         "0",
         "0.0"
        ],
        [
         "38",
         "37",
         "93",
         "37_safe_safer_safety_america",
         "['safe', 'safer', 'safety', 'america', 'offense', 'protect', 'safety net', 'secure', 'net', 'make']",
         "[\"If they're safe, they're coming.\", 'America needed to be safe.', 'I think it -- that we have a safer nation, but we are a long way from safe.']",
         "86",
         "7",
         "0.07526881720430108"
        ],
        [
         "39",
         "38",
         "90",
         "38_state_texas_state texas_states",
         "['state', 'texas', 'state texas', 'states', 'hampshire', 'new hampshire', 'new york', 'york', 'west texas', 'states like']",
         "[\"We've done so in my own state.\", 'So this is a show me state.', 'We do so in my state of Texas.']",
         "63",
         "27",
         "0.3"
        ],
        [
         "40",
         "39",
         "86",
         "39_governor romney_romney_governor_governor romneys",
         "['governor romney', 'romney', 'governor', 'governor romneys', 'romneys', 'romney said', 'replace', 'romney says', 'says', 'massachusetts']",
         "[\"Governor Romney, here's what we did.\", 'Governor Romney, you did not...', 'This is for Governor Romney?']",
         "55",
         "31",
         "0.36046511627906974"
        ],
        [
         "41",
         "40",
         "85",
         "40_record_records_look record_look",
         "['record', 'records', 'look record', 'look', 'record look', 'think record', 'record uh', 'record im', 'record think', 'just correct']",
         "['Now when they talk about our record here, it is well that they recognize that they have to stand up for their record as well.', 'So I have a record.', \"So that's on the record.\"]",
         "78",
         "7",
         "0.08235294117647059"
        ],
        [
         "42",
         "41",
         "83",
         "41_years_years ago_better years_ago",
         "['years', 'years ago', 'better years', 'ago', 'better', 'ago years', 'years thats', 'years weve', 'whats happened', 'years going']",
         "['We are better off than we were four years ago.', \"Well, he's better off than he was four years ago.\", 'We are better off than we were four years ago.']",
         "69",
         "14",
         "0.1686746987951807"
        ],
        [
         "43",
         "42",
         "82",
         "42_difference_difference opinion_opinion_differences",
         "['difference', 'difference opinion', 'opinion', 'differences', 'fundamental difference', 'fundamental', 'big difference', 'different', 'big', 'philosophical']",
         "[\"It's a fundamental difference of opinion here, folks.\", \"It's a fundamental difference of opinion.\", 'We have a fundamental difference of opinion.']",
         "81",
         "1",
         "0.012195121951219513"
        ],
        [
         "44",
         "43",
         "81",
         "43_leadership_kind leadership_leader_kind",
         "['leadership', 'kind leadership', 'leader', 'kind', 'thats kind', 'leadership need', 'presidential leadership', 'question', 'leadership want', 'provide']",
         "[\"I think that's what leadership is all about.\", \"That's what leadership is all about.\", 'But we have no leadership.']",
         "79",
         "2",
         "0.024691358024691357"
        ],
        [
         "45",
         "44",
         "80",
         "44_china_steel_chinese_steelworkers",
         "['china', 'steel', 'chinese', 'steelworkers', 'china china', 'rules', 'partner', 'trade', 'peoples republic', 'republic']",
         "['That will not help us compete with China.', 'And so we can be a partner with China.', \"The problem is they'll be in china.\"]",
         "45",
         "35",
         "0.4375"
        ],
        [
         "46",
         "45",
         "79",
         "45_farmers_farm_farmer_agricultural",
         "['farmers', 'farm', 'farmer', 'agricultural', 'supply', 'agriculture', 'controls', 'income', 'grain', 'demand']",
         "[\"Give our farm families a decent income with spending $20to $25 billion a year on farm subsidies, and I'm sure we can do that.\", \"Until we get the surpluses off the farmer's back, however, we should have a program such as I announced, which will see that farm income holds up.\", 'I would like our farmers feeding the world.']",
         "57",
         "22",
         "0.27848101265822783"
        ],
        [
         "47",
         "46",
         "78",
         "46_korea_north_north korea_south korea",
         "['korea', 'north', 'north korea', 'south korea', 'south', 'korean', 'bilateral', 'kim jong', 'jong', 'il']",
         "['As far as North Korea is concerned, our secretary of state, Madeleine Albright, went to North Korea.', 'China should go into North Korea.', 'North Korea, first, I do.']",
         "51",
         "27",
         "0.34615384615384615"
        ],
        [
         "48",
         "47",
         "78",
         "47_mccain_senator mccain_senator_mccains",
         "['mccain', 'senator mccain', 'senator', 'mccains', 'senator mccains', 'john mccain', 'earmarks', 'john', 'agree', 'think senator']",
         "[\"What Senator McCain doesn't mention is he's been there 26 of them.\", \"Nobody's been talking about that, and Senator McCain knows it.\", \"Now, Senator McCain is also right that it's difficult.\"]",
         "61",
         "17",
         "0.21794871794871795"
        ],
        [
         "49",
         "48",
         "78",
         "48_faith_church_god_belief",
         "['faith', 'church', 'god', 'belief', 'religion', 'article', 'churches', 'catholic', 'religious', 'prayer']",
         "['I kept the faith with my family.', 'Well, I was raised to have a faith and a belief and have been a member of a church since I was a small boy.', 'I have kept the faith.']",
         "74",
         "4",
         "0.05128205128205128"
        ]
       ],
       "shape": {
        "columns": 8,
        "rows": 68
       }
      },
      "text/html": [
       "<div>\n",
       "<style scoped>\n",
       "    .dataframe tbody tr th:only-of-type {\n",
       "        vertical-align: middle;\n",
       "    }\n",
       "\n",
       "    .dataframe tbody tr th {\n",
       "        vertical-align: top;\n",
       "    }\n",
       "\n",
       "    .dataframe thead th {\n",
       "        text-align: right;\n",
       "    }\n",
       "</style>\n",
       "<table border=\"1\" class=\"dataframe\">\n",
       "  <thead>\n",
       "    <tr style=\"text-align: right;\">\n",
       "      <th></th>\n",
       "      <th>Topic</th>\n",
       "      <th>Count</th>\n",
       "      <th>Name</th>\n",
       "      <th>Representation</th>\n",
       "      <th>Representative_Docs</th>\n",
       "      <th>No</th>\n",
       "      <th>Yes</th>\n",
       "      <th>pos_ratio</th>\n",
       "    </tr>\n",
       "  </thead>\n",
       "  <tbody>\n",
       "    <tr>\n",
       "      <th>0</th>\n",
       "      <td>-1</td>\n",
       "      <td>12844</td>\n",
       "      <td>-1_people_think_going_country</td>\n",
       "      <td>[people, think, going, country, know, presiden...</td>\n",
       "      <td>[You know, back in 1987, he took out a $100,00...</td>\n",
       "      <td>10101</td>\n",
       "      <td>2743</td>\n",
       "      <td>0.213563</td>\n",
       "    </tr>\n",
       "    <tr>\n",
       "      <th>1</th>\n",
       "      <td>0</td>\n",
       "      <td>1280</td>\n",
       "      <td>0_health_care_social security_social</td>\n",
       "      <td>[health, care, social security, social, medica...</td>\n",
       "      <td>[I want to do something about Social Security....</td>\n",
       "      <td>775</td>\n",
       "      <td>505</td>\n",
       "      <td>0.394531</td>\n",
       "    </tr>\n",
       "    <tr>\n",
       "      <th>2</th>\n",
       "      <td>1</td>\n",
       "      <td>756</td>\n",
       "      <td>1_tax_taxes_tax cut_cut</td>\n",
       "      <td>[tax, taxes, tax cut, cut, tax cuts, increase,...</td>\n",
       "      <td>[This is a family tax cut., I have a tax cut.,...</td>\n",
       "      <td>403</td>\n",
       "      <td>353</td>\n",
       "      <td>0.466931</td>\n",
       "    </tr>\n",
       "    <tr>\n",
       "      <th>3</th>\n",
       "      <td>2</td>\n",
       "      <td>542</td>\n",
       "      <td>2_jobs_unemployment_million_small</td>\n",
       "      <td>[jobs, unemployment, million, small, business,...</td>\n",
       "      <td>[Most small businesses -- 70 percent of the ne...</td>\n",
       "      <td>305</td>\n",
       "      <td>237</td>\n",
       "      <td>0.437269</td>\n",
       "    </tr>\n",
       "    <tr>\n",
       "      <th>4</th>\n",
       "      <td>3</td>\n",
       "      <td>532</td>\n",
       "      <td>3_schools_education_school_teachers</td>\n",
       "      <td>[schools, education, school, teachers, college...</td>\n",
       "      <td>[We can do better in our public schools., We c...</td>\n",
       "      <td>387</td>\n",
       "      <td>145</td>\n",
       "      <td>0.272556</td>\n",
       "    </tr>\n",
       "    <tr>\n",
       "      <th>...</th>\n",
       "      <td>...</td>\n",
       "      <td>...</td>\n",
       "      <td>...</td>\n",
       "      <td>...</td>\n",
       "      <td>...</td>\n",
       "      <td>...</td>\n",
       "      <td>...</td>\n",
       "      <td>...</td>\n",
       "    </tr>\n",
       "    <tr>\n",
       "      <th>63</th>\n",
       "      <td>62</td>\n",
       "      <td>56</td>\n",
       "      <td>62_africa_southern africa_southern_african</td>\n",
       "      <td>[africa, southern africa, southern, african, a...</td>\n",
       "      <td>[Well, I understand, and Africa is important.,...</td>\n",
       "      <td>35</td>\n",
       "      <td>21</td>\n",
       "      <td>0.375000</td>\n",
       "    </tr>\n",
       "    <tr>\n",
       "      <th>64</th>\n",
       "      <td>63</td>\n",
       "      <td>55</td>\n",
       "      <td>63_test_testing_litmus test_litmus</td>\n",
       "      <td>[test, testing, litmus test, litmus, tests, at...</td>\n",
       "      <td>[And the answer is, no, I will not have a litm...</td>\n",
       "      <td>51</td>\n",
       "      <td>4</td>\n",
       "      <td>0.072727</td>\n",
       "    </tr>\n",
       "    <tr>\n",
       "      <th>65</th>\n",
       "      <td>64</td>\n",
       "      <td>54</td>\n",
       "      <td>64_dole_senator dole_senator_bob dole</td>\n",
       "      <td>[dole, senator dole, senator, bob dole, bob, d...</td>\n",
       "      <td>[And members of Senator Dole's own party in th...</td>\n",
       "      <td>31</td>\n",
       "      <td>23</td>\n",
       "      <td>0.425926</td>\n",
       "    </tr>\n",
       "    <tr>\n",
       "      <th>66</th>\n",
       "      <td>65</td>\n",
       "      <td>50</td>\n",
       "      <td>65_peace_world peace_peaceful_kept peace</td>\n",
       "      <td>[peace, world peace, peaceful, kept peace, pea...</td>\n",
       "      <td>[World peace is important, and we have enhance...</td>\n",
       "      <td>47</td>\n",
       "      <td>3</td>\n",
       "      <td>0.060000</td>\n",
       "    </tr>\n",
       "    <tr>\n",
       "      <th>67</th>\n",
       "      <td>66</td>\n",
       "      <td>50</td>\n",
       "      <td>66_recession_depression_great depression_worst</td>\n",
       "      <td>[recession, depression, great depression, wors...</td>\n",
       "      <td>[You know, four years ago we went through the ...</td>\n",
       "      <td>21</td>\n",
       "      <td>29</td>\n",
       "      <td>0.580000</td>\n",
       "    </tr>\n",
       "  </tbody>\n",
       "</table>\n",
       "<p>68 rows × 8 columns</p>\n",
       "</div>"
      ],
      "text/plain": [
       "    Topic  Count                                            Name  \\\n",
       "0      -1  12844                   -1_people_think_going_country   \n",
       "1       0   1280            0_health_care_social security_social   \n",
       "2       1    756                         1_tax_taxes_tax cut_cut   \n",
       "3       2    542               2_jobs_unemployment_million_small   \n",
       "4       3    532             3_schools_education_school_teachers   \n",
       "..    ...    ...                                             ...   \n",
       "63     62     56      62_africa_southern africa_southern_african   \n",
       "64     63     55              63_test_testing_litmus test_litmus   \n",
       "65     64     54           64_dole_senator dole_senator_bob dole   \n",
       "66     65     50        65_peace_world peace_peaceful_kept peace   \n",
       "67     66     50  66_recession_depression_great depression_worst   \n",
       "\n",
       "                                       Representation  \\\n",
       "0   [people, think, going, country, know, presiden...   \n",
       "1   [health, care, social security, social, medica...   \n",
       "2   [tax, taxes, tax cut, cut, tax cuts, increase,...   \n",
       "3   [jobs, unemployment, million, small, business,...   \n",
       "4   [schools, education, school, teachers, college...   \n",
       "..                                                ...   \n",
       "63  [africa, southern africa, southern, african, a...   \n",
       "64  [test, testing, litmus test, litmus, tests, at...   \n",
       "65  [dole, senator dole, senator, bob dole, bob, d...   \n",
       "66  [peace, world peace, peaceful, kept peace, pea...   \n",
       "67  [recession, depression, great depression, wors...   \n",
       "\n",
       "                                  Representative_Docs     No   Yes  pos_ratio  \n",
       "0   [You know, back in 1987, he took out a $100,00...  10101  2743   0.213563  \n",
       "1   [I want to do something about Social Security....    775   505   0.394531  \n",
       "2   [This is a family tax cut., I have a tax cut.,...    403   353   0.466931  \n",
       "3   [Most small businesses -- 70 percent of the ne...    305   237   0.437269  \n",
       "4   [We can do better in our public schools., We c...    387   145   0.272556  \n",
       "..                                                ...    ...   ...        ...  \n",
       "63  [Well, I understand, and Africa is important.,...     35    21   0.375000  \n",
       "64  [And the answer is, no, I will not have a litm...     51     4   0.072727  \n",
       "65  [And members of Senator Dole's own party in th...     31    23   0.425926  \n",
       "66  [World peace is important, and we have enhance...     47     3   0.060000  \n",
       "67  [You know, four years ago we went through the ...     21    29   0.580000  \n",
       "\n",
       "[68 rows x 8 columns]"
      ]
     },
     "execution_count": 7,
     "metadata": {},
     "output_type": "execute_result"
    }
   ],
   "source": [
    "get_topic_info(topic_model=topic_model, text_list=text_list, dataframe=df)"
   ]
  },
  {
   "cell_type": "code",
   "execution_count": 8,
   "id": "262c1886",
   "metadata": {},
   "outputs": [
    {
     "data": {
      "application/vnd.plotly.v1+json": {
       "config": {
        "plotlyServerURL": "https://plot.ly"
       },
       "data": [
        {
         "coloraxis": "coloraxis",
         "hovertemplate": "x: %{x}<br>y: %{y}<br>Similarity Score: %{z}<extra></extra>",
         "name": "0",
         "type": "heatmap",
         "x": [
          "0_health_care_social security",
          "1_tax_taxes_tax cut",
          "45_farmers_farm_farmer",
          "52_money_pay_paying",
          "54_housing_mortgage_banks",
          "2_jobs_unemployment_million",
          "12_debt_deficit_trillion",
          "14_budget_spending_balanced",
          "27_economy_economy going_ec...",
          "34_billion_trillion_dollars",
          "3_schools_education_school",
          "38_state_texas_state texas",
          "58_programs_program_program...",
          "4_work_thats_going",
          "16_issue_problem_fix",
          "36_responsibility_decisions...",
          "5_energy_oil_coal",
          "50_water_environment_air",
          "6_let_answer_respond",
          "42_difference_difference op...",
          "7_shes_hillary_emails",
          "26_thank_jim_university",
          "48_faith_church_god",
          "8_president_president unite...",
          "20_government_federal gover...",
          "22_washington_congress_wash...",
          "32_election_campaign_electi...",
          "43_leadership_kind leadersh...",
          "9_soviet_soviet union_russia",
          "10_israel_middle east_east",
          "11_nuclear_weapons_nuclear ...",
          "17_military_troops_forces",
          "28_afghanistan_bin_laden",
          "29_iran_nuclear_sanctions",
          "46_korea_north_north korea",
          "65_peace_world peace_peaceful",
          "13_law_police_crime",
          "18_court_judges_amendment",
          "23_gun_guns_criminals",
          "15_senator_obama_republican",
          "35_kennedy_senator kennedy_...",
          "47_mccain_senator mccain_se...",
          "51_vice_vice president_pres...",
          "55_nixon_mr nixon_mr",
          "59_ford_mr ford_mr",
          "64_dole_senator dole_senator",
          "19_trade_free trade_deals",
          "44_china_steel_chinese",
          "21_abortion_unborn_wade",
          "24_parents_children_family",
          "25_american people_american...",
          "37_safe_safer_safety",
          "49_border_borders_immigrants",
          "30_cuba_latin_latin america",
          "62_africa_southern africa_s...",
          "31_governor_governors_gover...",
          "33_veto_vetoed_bills",
          "39_governor romney_romney_g...",
          "40_record_records_look record",
          "61_mistake_make mistake_mis...",
          "63_test_testing_litmus test",
          "41_years_years ago_better y...",
          "60_plan_proposed_plan does",
          "53_inflation_rate_rate infl...",
          "66_recession_depression_gre...",
          "56_saddam_saddam hussein_hu...",
          "57_islands_formosa_quemoy"
         ],
         "xaxis": "x",
         "y": [
          "0_health_care_social security",
          "1_tax_taxes_tax cut",
          "45_farmers_farm_farmer",
          "52_money_pay_paying",
          "54_housing_mortgage_banks",
          "2_jobs_unemployment_million",
          "12_debt_deficit_trillion",
          "14_budget_spending_balanced",
          "27_economy_economy going_ec...",
          "34_billion_trillion_dollars",
          "3_schools_education_school",
          "38_state_texas_state texas",
          "58_programs_program_program...",
          "4_work_thats_going",
          "16_issue_problem_fix",
          "36_responsibility_decisions...",
          "5_energy_oil_coal",
          "50_water_environment_air",
          "6_let_answer_respond",
          "42_difference_difference op...",
          "7_shes_hillary_emails",
          "26_thank_jim_university",
          "48_faith_church_god",
          "8_president_president unite...",
          "20_government_federal gover...",
          "22_washington_congress_wash...",
          "32_election_campaign_electi...",
          "43_leadership_kind leadersh...",
          "9_soviet_soviet union_russia",
          "10_israel_middle east_east",
          "11_nuclear_weapons_nuclear ...",
          "17_military_troops_forces",
          "28_afghanistan_bin_laden",
          "29_iran_nuclear_sanctions",
          "46_korea_north_north korea",
          "65_peace_world peace_peaceful",
          "13_law_police_crime",
          "18_court_judges_amendment",
          "23_gun_guns_criminals",
          "15_senator_obama_republican",
          "35_kennedy_senator kennedy_...",
          "47_mccain_senator mccain_se...",
          "51_vice_vice president_pres...",
          "55_nixon_mr nixon_mr",
          "59_ford_mr ford_mr",
          "64_dole_senator dole_senator",
          "19_trade_free trade_deals",
          "44_china_steel_chinese",
          "21_abortion_unborn_wade",
          "24_parents_children_family",
          "25_american people_american...",
          "37_safe_safer_safety",
          "49_border_borders_immigrants",
          "30_cuba_latin_latin america",
          "62_africa_southern africa_s...",
          "31_governor_governors_gover...",
          "33_veto_vetoed_bills",
          "39_governor romney_romney_g...",
          "40_record_records_look record",
          "61_mistake_make mistake_mis...",
          "63_test_testing_litmus test",
          "41_years_years ago_better y...",
          "60_plan_proposed_plan does",
          "53_inflation_rate_rate infl...",
          "66_recession_depression_gre...",
          "56_saddam_saddam hussein_hu...",
          "57_islands_formosa_quemoy"
         ],
         "yaxis": "y",
         "z": {
          "bdata": "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",
          "dtype": "f4",
          "shape": "67, 67"
         }
        }
       ],
       "layout": {
        "coloraxis": {
         "colorbar": {
          "title": {
           "text": "Similarity Score"
          }
         },
         "colorscale": [
          [
           0,
           "rgb(247,252,240)"
          ],
          [
           0.125,
           "rgb(224,243,219)"
          ],
          [
           0.25,
           "rgb(204,235,197)"
          ],
          [
           0.375,
           "rgb(168,221,181)"
          ],
          [
           0.5,
           "rgb(123,204,196)"
          ],
          [
           0.625,
           "rgb(78,179,211)"
          ],
          [
           0.75,
           "rgb(43,140,190)"
          ],
          [
           0.875,
           "rgb(8,104,172)"
          ],
          [
           1,
           "rgb(8,64,129)"
          ]
         ]
        },
        "height": 800,
        "hoverlabel": {
         "bgcolor": "white",
         "font": {
          "family": "Rockwell",
          "size": 16
         }
        },
        "legend": {
         "title": {
          "text": "Trend"
         }
        },
        "margin": {
         "t": 60
        },
        "showlegend": true,
        "template": {
         "data": {
          "bar": [
           {
            "error_x": {
             "color": "#2a3f5f"
            },
            "error_y": {
             "color": "#2a3f5f"
            },
            "marker": {
             "line": {
              "color": "#E5ECF6",
              "width": 0.5
             },
             "pattern": {
              "fillmode": "overlay",
              "size": 10,
              "solidity": 0.2
             }
            },
            "type": "bar"
           }
          ],
          "barpolar": [
           {
            "marker": {
             "line": {
              "color": "#E5ECF6",
              "width": 0.5
             },
             "pattern": {
              "fillmode": "overlay",
              "size": 10,
              "solidity": 0.2
             }
            },
            "type": "barpolar"
           }
          ],
          "carpet": [
           {
            "aaxis": {
             "endlinecolor": "#2a3f5f",
             "gridcolor": "white",
             "linecolor": "white",
             "minorgridcolor": "white",
             "startlinecolor": "#2a3f5f"
            },
            "baxis": {
             "endlinecolor": "#2a3f5f",
             "gridcolor": "white",
             "linecolor": "white",
             "minorgridcolor": "white",
             "startlinecolor": "#2a3f5f"
            },
            "type": "carpet"
           }
          ],
          "choropleth": [
           {
            "colorbar": {
             "outlinewidth": 0,
             "ticks": ""
            },
            "type": "choropleth"
           }
          ],
          "contour": [
           {
            "colorbar": {
             "outlinewidth": 0,
             "ticks": ""
            },
            "colorscale": [
             [
              0,
              "#0d0887"
             ],
             [
              0.1111111111111111,
              "#46039f"
             ],
             [
              0.2222222222222222,
              "#7201a8"
             ],
             [
              0.3333333333333333,
              "#9c179e"
             ],
             [
              0.4444444444444444,
              "#bd3786"
             ],
             [
              0.5555555555555556,
              "#d8576b"
             ],
             [
              0.6666666666666666,
              "#ed7953"
             ],
             [
              0.7777777777777778,
              "#fb9f3a"
             ],
             [
              0.8888888888888888,
              "#fdca26"
             ],
             [
              1,
              "#f0f921"
             ]
            ],
            "type": "contour"
           }
          ],
          "contourcarpet": [
           {
            "colorbar": {
             "outlinewidth": 0,
             "ticks": ""
            },
            "type": "contourcarpet"
           }
          ],
          "heatmap": [
           {
            "colorbar": {
             "outlinewidth": 0,
             "ticks": ""
            },
            "colorscale": [
             [
              0,
              "#0d0887"
             ],
             [
              0.1111111111111111,
              "#46039f"
             ],
             [
              0.2222222222222222,
              "#7201a8"
             ],
             [
              0.3333333333333333,
              "#9c179e"
             ],
             [
              0.4444444444444444,
              "#bd3786"
             ],
             [
              0.5555555555555556,
              "#d8576b"
             ],
             [
              0.6666666666666666,
              "#ed7953"
             ],
             [
              0.7777777777777778,
              "#fb9f3a"
             ],
             [
              0.8888888888888888,
              "#fdca26"
             ],
             [
              1,
              "#f0f921"
             ]
            ],
            "type": "heatmap"
           }
          ],
          "histogram": [
           {
            "marker": {
             "pattern": {
              "fillmode": "overlay",
              "size": 10,
              "solidity": 0.2
             }
            },
            "type": "histogram"
           }
          ],
          "histogram2d": [
           {
            "colorbar": {
             "outlinewidth": 0,
             "ticks": ""
            },
            "colorscale": [
             [
              0,
              "#0d0887"
             ],
             [
              0.1111111111111111,
              "#46039f"
             ],
             [
              0.2222222222222222,
              "#7201a8"
             ],
             [
              0.3333333333333333,
              "#9c179e"
             ],
             [
              0.4444444444444444,
              "#bd3786"
             ],
             [
              0.5555555555555556,
              "#d8576b"
             ],
             [
              0.6666666666666666,
              "#ed7953"
             ],
             [
              0.7777777777777778,
              "#fb9f3a"
             ],
             [
              0.8888888888888888,
              "#fdca26"
             ],
             [
              1,
              "#f0f921"
             ]
            ],
            "type": "histogram2d"
           }
          ],
          "histogram2dcontour": [
           {
            "colorbar": {
             "outlinewidth": 0,
             "ticks": ""
            },
            "colorscale": [
             [
              0,
              "#0d0887"
             ],
             [
              0.1111111111111111,
              "#46039f"
             ],
             [
              0.2222222222222222,
              "#7201a8"
             ],
             [
              0.3333333333333333,
              "#9c179e"
             ],
             [
              0.4444444444444444,
              "#bd3786"
             ],
             [
              0.5555555555555556,
              "#d8576b"
             ],
             [
              0.6666666666666666,
              "#ed7953"
             ],
             [
              0.7777777777777778,
              "#fb9f3a"
             ],
             [
              0.8888888888888888,
              "#fdca26"
             ],
             [
              1,
              "#f0f921"
             ]
            ],
            "type": "histogram2dcontour"
           }
          ],
          "mesh3d": [
           {
            "colorbar": {
             "outlinewidth": 0,
             "ticks": ""
            },
            "type": "mesh3d"
           }
          ],
          "parcoords": [
           {
            "line": {
             "colorbar": {
              "outlinewidth": 0,
              "ticks": ""
             }
            },
            "type": "parcoords"
           }
          ],
          "pie": [
           {
            "automargin": true,
            "type": "pie"
           }
          ],
          "scatter": [
           {
            "fillpattern": {
             "fillmode": "overlay",
             "size": 10,
             "solidity": 0.2
            },
            "type": "scatter"
           }
          ],
          "scatter3d": [
           {
            "line": {
             "colorbar": {
              "outlinewidth": 0,
              "ticks": ""
             }
            },
            "marker": {
             "colorbar": {
              "outlinewidth": 0,
              "ticks": ""
             }
            },
            "type": "scatter3d"
           }
          ],
          "scattercarpet": [
           {
            "marker": {
             "colorbar": {
              "outlinewidth": 0,
              "ticks": ""
             }
            },
            "type": "scattercarpet"
           }
          ],
          "scattergeo": [
           {
            "marker": {
             "colorbar": {
              "outlinewidth": 0,
              "ticks": ""
             }
            },
            "type": "scattergeo"
           }
          ],
          "scattergl": [
           {
            "marker": {
             "colorbar": {
              "outlinewidth": 0,
              "ticks": ""
             }
            },
            "type": "scattergl"
           }
          ],
          "scattermap": [
           {
            "marker": {
             "colorbar": {
              "outlinewidth": 0,
              "ticks": ""
             }
            },
            "type": "scattermap"
           }
          ],
          "scattermapbox": [
           {
            "marker": {
             "colorbar": {
              "outlinewidth": 0,
              "ticks": ""
             }
            },
            "type": "scattermapbox"
           }
          ],
          "scatterpolar": [
           {
            "marker": {
             "colorbar": {
              "outlinewidth": 0,
              "ticks": ""
             }
            },
            "type": "scatterpolar"
           }
          ],
          "scatterpolargl": [
           {
            "marker": {
             "colorbar": {
              "outlinewidth": 0,
              "ticks": ""
             }
            },
            "type": "scatterpolargl"
           }
          ],
          "scatterternary": [
           {
            "marker": {
             "colorbar": {
              "outlinewidth": 0,
              "ticks": ""
             }
            },
            "type": "scatterternary"
           }
          ],
          "surface": [
           {
            "colorbar": {
             "outlinewidth": 0,
             "ticks": ""
            },
            "colorscale": [
             [
              0,
              "#0d0887"
             ],
             [
              0.1111111111111111,
              "#46039f"
             ],
             [
              0.2222222222222222,
              "#7201a8"
             ],
             [
              0.3333333333333333,
              "#9c179e"
             ],
             [
              0.4444444444444444,
              "#bd3786"
             ],
             [
              0.5555555555555556,
              "#d8576b"
             ],
             [
              0.6666666666666666,
              "#ed7953"
             ],
             [
              0.7777777777777778,
              "#fb9f3a"
             ],
             [
              0.8888888888888888,
              "#fdca26"
             ],
             [
              1,
              "#f0f921"
             ]
            ],
            "type": "surface"
           }
          ],
          "table": [
           {
            "cells": {
             "fill": {
              "color": "#EBF0F8"
             },
             "line": {
              "color": "white"
             }
            },
            "header": {
             "fill": {
              "color": "#C8D4E3"
             },
             "line": {
              "color": "white"
             }
            },
            "type": "table"
           }
          ]
         },
         "layout": {
          "annotationdefaults": {
           "arrowcolor": "#2a3f5f",
           "arrowhead": 0,
           "arrowwidth": 1
          },
          "autotypenumbers": "strict",
          "coloraxis": {
           "colorbar": {
            "outlinewidth": 0,
            "ticks": ""
           }
          },
          "colorscale": {
           "diverging": [
            [
             0,
             "#8e0152"
            ],
            [
             0.1,
             "#c51b7d"
            ],
            [
             0.2,
             "#de77ae"
            ],
            [
             0.3,
             "#f1b6da"
            ],
            [
             0.4,
             "#fde0ef"
            ],
            [
             0.5,
             "#f7f7f7"
            ],
            [
             0.6,
             "#e6f5d0"
            ],
            [
             0.7,
             "#b8e186"
            ],
            [
             0.8,
             "#7fbc41"
            ],
            [
             0.9,
             "#4d9221"
            ],
            [
             1,
             "#276419"
            ]
           ],
           "sequential": [
            [
             0,
             "#0d0887"
            ],
            [
             0.1111111111111111,
             "#46039f"
            ],
            [
             0.2222222222222222,
             "#7201a8"
            ],
            [
             0.3333333333333333,
             "#9c179e"
            ],
            [
             0.4444444444444444,
             "#bd3786"
            ],
            [
             0.5555555555555556,
             "#d8576b"
            ],
            [
             0.6666666666666666,
             "#ed7953"
            ],
            [
             0.7777777777777778,
             "#fb9f3a"
            ],
            [
             0.8888888888888888,
             "#fdca26"
            ],
            [
             1,
             "#f0f921"
            ]
           ],
           "sequentialminus": [
            [
             0,
             "#0d0887"
            ],
            [
             0.1111111111111111,
             "#46039f"
            ],
            [
             0.2222222222222222,
             "#7201a8"
            ],
            [
             0.3333333333333333,
             "#9c179e"
            ],
            [
             0.4444444444444444,
             "#bd3786"
            ],
            [
             0.5555555555555556,
             "#d8576b"
            ],
            [
             0.6666666666666666,
             "#ed7953"
            ],
            [
             0.7777777777777778,
             "#fb9f3a"
            ],
            [
             0.8888888888888888,
             "#fdca26"
            ],
            [
             1,
             "#f0f921"
            ]
           ]
          },
          "colorway": [
           "#636efa",
           "#EF553B",
           "#00cc96",
           "#ab63fa",
           "#FFA15A",
           "#19d3f3",
           "#FF6692",
           "#B6E880",
           "#FF97FF",
           "#FECB52"
          ],
          "font": {
           "color": "#2a3f5f"
          },
          "geo": {
           "bgcolor": "white",
           "lakecolor": "white",
           "landcolor": "#E5ECF6",
           "showlakes": true,
           "showland": true,
           "subunitcolor": "white"
          },
          "hoverlabel": {
           "align": "left"
          },
          "hovermode": "closest",
          "mapbox": {
           "style": "light"
          },
          "paper_bgcolor": "white",
          "plot_bgcolor": "#E5ECF6",
          "polar": {
           "angularaxis": {
            "gridcolor": "white",
            "linecolor": "white",
            "ticks": ""
           },
           "bgcolor": "#E5ECF6",
           "radialaxis": {
            "gridcolor": "white",
            "linecolor": "white",
            "ticks": ""
           }
          },
          "scene": {
           "xaxis": {
            "backgroundcolor": "#E5ECF6",
            "gridcolor": "white",
            "gridwidth": 2,
            "linecolor": "white",
            "showbackground": true,
            "ticks": "",
            "zerolinecolor": "white"
           },
           "yaxis": {
            "backgroundcolor": "#E5ECF6",
            "gridcolor": "white",
            "gridwidth": 2,
            "linecolor": "white",
            "showbackground": true,
            "ticks": "",
            "zerolinecolor": "white"
           },
           "zaxis": {
            "backgroundcolor": "#E5ECF6",
            "gridcolor": "white",
            "gridwidth": 2,
            "linecolor": "white",
            "showbackground": true,
            "ticks": "",
            "zerolinecolor": "white"
           }
          },
          "shapedefaults": {
           "line": {
            "color": "#2a3f5f"
           }
          },
          "ternary": {
           "aaxis": {
            "gridcolor": "white",
            "linecolor": "white",
            "ticks": ""
           },
           "baxis": {
            "gridcolor": "white",
            "linecolor": "white",
            "ticks": ""
           },
           "bgcolor": "#E5ECF6",
           "caxis": {
            "gridcolor": "white",
            "linecolor": "white",
            "ticks": ""
           }
          },
          "title": {
           "x": 0.05
          },
          "xaxis": {
           "automargin": true,
           "gridcolor": "white",
           "linecolor": "white",
           "ticks": "",
           "title": {
            "standoff": 15
           },
           "zerolinecolor": "white",
           "zerolinewidth": 2
          },
          "yaxis": {
           "automargin": true,
           "gridcolor": "white",
           "linecolor": "white",
           "ticks": "",
           "title": {
            "standoff": 15
           },
           "zerolinecolor": "white",
           "zerolinewidth": 2
          }
         }
        },
        "title": {
         "font": {
          "color": "Black",
          "size": 22
         },
         "text": "<b>Similarity Matrix</b>",
         "x": 0.55,
         "xanchor": "center",
         "y": 0.95,
         "yanchor": "top"
        },
        "width": 800,
        "xaxis": {
         "anchor": "y",
         "constrain": "domain",
         "domain": [
          0,
          1
         ],
         "scaleanchor": "y"
        },
        "yaxis": {
         "anchor": "x",
         "autorange": "reversed",
         "constrain": "domain",
         "domain": [
          0,
          1
         ]
        }
       }
      }
     },
     "metadata": {},
     "output_type": "display_data"
    }
   ],
   "source": [
    "topic_model.visualize_heatmap(n_clusters=20)"
   ]
  },
  {
   "cell_type": "code",
   "execution_count": 9,
   "id": "1c806516",
   "metadata": {},
   "outputs": [],
   "source": [
    "# Manually select similar topics and merge them\n",
    "merge_topics = [\n",
    "    [12, 14, 27, 34, 66, 53] # economy\n",
    "]\n",
    "topic_model.merge_topics(docs=text_list, topics_to_merge=merge_topics)\n",
    "# Update topics list after merge\n",
    "topics = topic_model.get_document_info(docs=text_list)[\"Topic\"].to_list()"
   ]
  },
  {
   "cell_type": "code",
   "execution_count": 10,
   "id": "bedbfdbc",
   "metadata": {},
   "outputs": [
    {
     "name": "stderr",
     "output_type": "stream",
     "text": [
      "2025-09-03 09:35:40,980 - BERTopic - WARNING: Using a custom list of topic assignments may lead to errors if topic reduction techniques are used afterwards. Make sure that manually assigning topics is the last step in the pipeline.Note that topic embeddings will also be created through weightedc-TF-IDF embeddings instead of centroid embeddings.\n"
     ]
    },
    {
     "name": "stdout",
     "output_type": "stream",
     "text": [
      "Reassigned 9631 documents from \"-1_people_think_going_country\" to 62 new topics\n"
     ]
    }
   ],
   "source": [
    "# Reduce outliers\n",
    "topics = reduce_topic(\n",
    "    topic_model=topic_model,\n",
    "    topic_id=-1,\n",
    "    text_list=text_list,\n",
    "    topics=topics,\n",
    "    threshold=0.4,\n",
    "    strategy=\"embeddings\",\n",
    "    embeddings=embeddings)"
   ]
  },
  {
   "cell_type": "code",
   "execution_count": 11,
   "id": "9a3da710",
   "metadata": {},
   "outputs": [
    {
     "data": {
      "application/vnd.microsoft.datawrangler.viewer.v0+json": {
       "columns": [
        {
         "name": "index",
         "rawType": "int64",
         "type": "integer"
        },
        {
         "name": "Topic",
         "rawType": "int64",
         "type": "integer"
        },
        {
         "name": "Count",
         "rawType": "int64",
         "type": "integer"
        },
        {
         "name": "Name",
         "rawType": "object",
         "type": "string"
        },
        {
         "name": "Representation",
         "rawType": "object",
         "type": "unknown"
        },
        {
         "name": "Representative_Docs",
         "rawType": "object",
         "type": "unknown"
        },
        {
         "name": "No",
         "rawType": "int64",
         "type": "integer"
        },
        {
         "name": "Yes",
         "rawType": "int64",
         "type": "integer"
        },
        {
         "name": "pos_ratio",
         "rawType": "float64",
         "type": "float"
        }
       ],
       "ref": "fbc4dbd0-95c9-4b88-8ee3-2abe89189cfc",
       "rows": [
        [
         "0",
         "-1",
         "3213",
         "-1_you_he_it_was",
         "['you', 'he', 'it', 'was', 'and', 'the', 'of', 'they', 'that', 'there']",
         "['You know, back in 1987, he took out a $100,000 ad in the New York Times, during the time when President Reagan was president, and basically said exactly what he just said now, that we were the laughingstock of the world.', \"You know, we have five percent of the world's population in this country.\", 'You know, the American people are fair.']",
         "2701",
         "512",
         "0.15935262994086524"
        ],
        [
         "1",
         "0",
         "1353",
         "0_health_care_social_medicare",
         "['health', 'care', 'social', 'medicare', 'insurance', 'security', 'drugs', 'to', 'seniors', 'for']",
         "['I want to do something about Social Security.', 'There is something else about Social Security.', 'Now, Social Security has never done that.']",
         "822",
         "531",
         "0.3924611973392461"
        ],
        [
         "2",
         "1",
         "981",
         "1_tax_taxes_cut_for",
         "['tax', 'taxes', 'cut', 'for', 'cuts', 'the', 'increase', 'percent', 'to', 'you']",
         "['This is a family tax cut.', 'I have a tax cut.', 'They have a VAT tax.']",
         "527",
         "454",
         "0.46279306829765543"
        ],
        [
         "3",
         "2",
         "1407",
         "2_economy_budget_spending_billion",
         "['economy', 'budget', 'spending', 'billion', 'deficit', 'the', 'debt', 'we', 'trillion', 'in']",
         "['I will pay down the national debt.', 'When President Bush came into office, we had a budget surplus and the national debt was a little over $5 trillion.', \"And then we're going to have to get to a balanced budget.\"]",
         "769",
         "638",
         "0.4534470504619758"
        ],
        [
         "4",
         "3",
         "841",
         "3_jobs_unemployment_million_small",
         "['jobs', 'unemployment', 'million', 'small', 'business', 'people', 'job', 'create', 'work', 'in']",
         "[\"We've had record numbers of new small businesses and 10 and a half million jobs.\", 'Our jobs are fleeing the country.', 'For me, this is about jobs.']",
         "519",
         "322",
         "0.38287752675386444"
        ],
        [
         "5",
         "4",
         "611",
         "4_education_schools_school_teachers",
         "['education', 'schools', 'school', 'teachers', 'college', 'public', 'to', 'children', 'kids', 'in']",
         "[\"So we've got to get our education system right.\", 'We can do better in our public schools.', 'All of our children have gone to both public schools and private schools.']",
         "443",
         "168",
         "0.27495908346972175"
        ],
        [
         "6",
         "5",
         "994",
         "5_do_we_to_going",
         "['do', 'we', 'to', 'going', 'it', 'were', 'can', 'what', 'weve', 'done']",
         "[\"Now, there's more work to do.\", 'But we have some work to do.', \"I don't think that'll work.\"]",
         "968",
         "26",
         "0.026156941649899398"
        ],
        [
         "7",
         "6",
         "479",
         "6_energy_oil_coal_gas",
         "['energy', 'oil', 'coal', 'gas', 'production', 'we', 'our', 'clean', 'solar', 'of']",
         "['I want to control our own energy by developing oil and natural gas but also the energy sources of the future.', \"It hasn't produced a quart of oil or a lump of coal, or anything else in the line of energy.\", 'It had everything to do with energy.']",
         "292",
         "187",
         "0.3903966597077244"
        ],
        [
         "8",
         "7",
         "819",
         "7_let_me_just_you",
         "['let', 'me', 'just', 'you', 'question', 'answer', 'say', 'tell', 'thats', 'well']",
         "['But let me just tell you.', 'Let me just tell you...', \"Let's just answer the question.\"]",
         "802",
         "17",
         "0.020757020757020756"
        ],
        [
         "9",
         "8",
         "423",
         "8_she_her_shes_hillary",
         "['she', 'her', 'shes', 'hillary', 'emails', 'and', 'was', 'woman', 'said', 'you']",
         "[\"The problem is, you talk, but you don't get anything done, Hillary.\", 'Hillary wants to give amnesty.', \"I don't believe Hillary will.\"]",
         "322",
         "101",
         "0.23877068557919623"
        ],
        [
         "10",
         "9",
         "833",
         "9_president_the_to_be",
         "['president', 'the', 'to', 'be', 'and', 'will', 'of', 'as', 'united', 'states']",
         "[\"But if you're a president, it's not.\", 'This is what a president has to do.', 'I will be the president and we will get it done.']",
         "754",
         "79",
         "0.09483793517406963"
        ],
        [
         "11",
         "10",
         "395",
         "10_soviet_russia_union_putin",
         "['soviet', 'russia', 'union', 'putin', 'russians', 'the', 'with', 'in', 'of', 'that']",
         "['Ukraine, right now, is in the sights of Vladimir Putin, those that want to reassemble the old Soviet Union.', 'I would not let the Soviet Union get their hands on it at all.', 'We have serious differences with the Soviet Union.']",
         "281",
         "114",
         "0.28860759493670884"
        ],
        [
         "12",
         "11",
         "423",
         "11_israel_east_middle_isis",
         "['israel', 'east', 'middle', 'isis', 'syria', 'in', 'the', 'and', 'with', 'to']",
         "[\"Peace in the Middle East is in our nation's interests.\", \"I've got a strategy for the Middle East.\", \"They've taken over the Middle East.\"]",
         "297",
         "126",
         "0.2978723404255319"
        ],
        [
         "13",
         "12",
         "384",
         "12_nuclear_weapons_missiles_atomic",
         "['nuclear', 'weapons', 'missiles', 'atomic', 'arms', 'of', 'we', 'proliferation', 'missile', 'the']",
         "[\"That's how we got a treaty reducing nuclear weapons.\", \"It's important for the nuclear weapons.\", 'All the nuclear weapons are not dismantled.']",
         "262",
         "122",
         "0.3177083333333333"
        ],
        [
         "14",
         "13",
         "397",
         "13_law_crime_police_justice",
         "['law', 'crime', 'police', 'justice', 'laws', 'the', 'criminal', 'enforcement', 'in', 'lawyers']",
         "[\"Well, I don't know in the case of the trial lawyers.\", 'We have to work with the police.', 'Thirty years ago there were three police officers on the street for every crime; today there are three crimes for every police officer.']",
         "271",
         "126",
         "0.31738035264483627"
        ],
        [
         "15",
         "14",
         "607",
         "14_senator_senate_republican_voted",
         "['senator', 'senate', 'republican', 'voted', 'obama', 'was', 'he', 'the', 'republicans', 'democratic']",
         "['Of course, we have to do some things tactically, some of which Senator Obama is correct on.', 'Senator Obama has opposed that.', \"But I'm not going to telegraph my punches, which is what Senator Obama did.\"]",
         "395",
         "212",
         "0.34925864909390447"
        ],
        [
         "16",
         "15",
         "361",
         "15_problem_issue_problems_issues",
         "['problem', 'issue', 'problems', 'issues', 'fix', 'its', 'think', 'is', 'this', 'we']",
         "['Well, they are the same in this issue.', 'And I have not made it an issue, nor should it be.', 'The issue is what you do about it.']",
         "343",
         "18",
         "0.04986149584487535"
        ],
        [
         "17",
         "16",
         "682",
         "16_military_troops_our_war",
         "['military', 'troops', 'our', 'war', 'we', 'forces', 'to', 'and', 'the', 'iraq']",
         "['Some of our troops are not well-equipped.', \"But the military -- let's get back to the military, though.\", 'We have a depleted military.']",
         "526",
         "156",
         "0.2287390029325513"
        ],
        [
         "18",
         "17",
         "227",
         "17_court_amendment_judges_supreme",
         "['court', 'amendment', 'judges', 'supreme', 'constitution', 'rights', 'justices', 'the', 'judge', 'constitutional']",
         "['A governor gets to name supreme court judges.', 'The question was about the Supreme Court.', \"The Supreme Court: It's what it's all about.\"]",
         "188",
         "39",
         "0.17180616740088106"
        ],
        [
         "19",
         "18",
         "262",
         "18_trade_deals_free_agreements",
         "['trade', 'deals', 'free', 'agreements', 'agreement', 'nafta', 'our', 'we', 'to', 'have']",
         "['That is not free trade.', \"We don't have free trade.\", 'Many would trade for it.']",
         "192",
         "70",
         "0.26717557251908397"
        ],
        [
         "20",
         "19",
         "429",
         "19_government_federal_reform_the",
         "['government', 'federal', 'reform', 'the', 'of', 'to', 'we', 'that', 'and', 'have']",
         "[\"I'd like the government to have that.\", 'Here is the role of the federal government.', \"Federal government doesn't do that.\"]",
         "357",
         "72",
         "0.16783216783216784"
        ],
        [
         "21",
         "20",
         "161",
         "20_abortion_abortions_roe_wade",
         "['abortion', 'abortions', 'roe', 'wade', 'unborn', 'women', 'woman', 'child', 'her', 'that']",
         "[\"I - I'm strongly against a- abortion.\", \"These weren't taken from abortion or something like that.\", 'Take, for example, the ban on partial birth abortion.']",
         "125",
         "36",
         "0.2236024844720497"
        ],
        [
         "22",
         "21",
         "248",
         "21_washington_congress_the_house",
         "['washington', 'congress', 'the', 'house', 'in', 'dc', 'and', 'to', 'get', 'of']",
         "[\"We've got to do that in Washington.\", \"Washington, by itself, can't do it all.\", \"There's too much bitterness in Washington.\"]",
         "210",
         "38",
         "0.1532258064516129"
        ],
        [
         "23",
         "22",
         "153",
         "22_gun_guns_handguns_hands",
         "['gun', 'guns', 'handguns', 'hands', 'criminals', 'background', 'registration', 'who', 'handgun', 'of']",
         "[\"You don't buy any gun.\", \"I believe in background checks at gun shows or anywhere to make sure that guns don't get in the hands of people that shouldn't have them.\", \"You don't get any gun.\"]",
         "112",
         "41",
         "0.2679738562091503"
        ],
        [
         "24",
         "23",
         "298",
         "23_children_families_child_parents",
         "['children', 'families', 'child', 'parents', 'family', 'kids', 'and', 'to', 'their', 'my']",
         "['Parents are going to have to show more responsibility.', \"And recently the Federal Trade Commission pointed out that some of these entertainment companies have warned parents that the material is inappropriate for children, and then they've turned around behind the backs of the parents and advertised that same adult material directly to children.\", 'And by that I want to have child care where the families, the parents, have control.']",
         "260",
         "38",
         "0.12751677852348994"
        ],
        [
         "25",
         "24",
         "712",
         "24_american_america_people_country",
         "['american', 'america', 'people', 'country', 'americans', 'the', 'think', 'is', 'our', 'we']",
         "['I think the American people are too.', 'But are the American people?', 'Put it to you bluntly, American people.']",
         "670",
         "42",
         "0.05898876404494382"
        ],
        [
         "26",
         "25",
         "161",
         "25_thank_jim_university_bob",
         "['thank', 'jim', 'university', 'bob', 'you', 'hosting', 'much', 'well', 'want', 'all']",
         "['Thank you, Jim, very much.', 'Jim, thank you very much.', 'Thank you very much, Jim.']",
         "159",
         "2",
         "0.012422360248447204"
        ],
        [
         "27",
         "26",
         "284",
         "26_afghanistan_bin_laden_pakistan",
         "['afghanistan', 'bin', 'laden', 'pakistan', 'al', 'osama', 'qaida', 'we', 'iraq', 'terror']",
         "[\"I'll get Osama bin Laden, my friends.\", 'We had to go in there to get Osama bin Laden.', \"And that's what Osama bin Laden's handbook said, because we captured it in Afghanistan.\"]",
         "184",
         "100",
         "0.352112676056338"
        ],
        [
         "28",
         "27",
         "173",
         "27_iran_sanctions_nuclear_with",
         "['iran', 'sanctions', 'nuclear', 'with', 'iranian', 'ahmadinejad', 'iranians', 'threat', 'is', 'to']",
         "[\"Number two, with regards to Iran and the threat of Iran, there's no question but that a nuclear Iran, a nuclear-capable Iran is unacceptable to America.\", 'It was not my administration that put the sanctions on Iran.', \"But to the issue of Iran, as long as I'm president of the United States Iran will not get a nuclear weapon.\"]",
         "104",
         "69",
         "0.3988439306358382"
        ],
        [
         "29",
         "28",
         "167",
         "28_cuba_latin_castro_america",
         "['cuba', 'latin', 'castro', 'america', 'haiti', 'in', 'central', 'was', 'the', 'influence']",
         "['If the United States had stronger prestige and influence in Latin America it could persuade - as Franklin Roosevelt did in 1940 - the countries of Latin America to join in an economic quarantine of Castro.', 'I have seen Communist influence and Castro influence rise in Latin America.', 'Number three, Castro is only the beginning of our difficulties throughout Latin America.']",
         "103",
         "64",
         "0.38323353293413176"
        ],
        [
         "30",
         "29",
         "248",
         "29_governor_governors_state_clinton",
         "['governor', 'governors', 'state', 'clinton', 'carter', 'of', 'as', 'georgia', 'the', 'was']",
         "[\"The governors -- and I believe Governor Clinton was in on this -- but maybe -- I don't want to invoke him here.\", 'Let me help the governor.', \"Governor -- here -- here's -- here's one thing...\"]",
         "171",
         "77",
         "0.31048387096774194"
        ],
        [
         "31",
         "30",
         "209",
         "30_bill_veto_vetoed_passed",
         "['bill', 'veto', 'vetoed', 'passed', 'bills', 'congress', 'president', 'the', 'it', 'was']",
         "['I vetoed a number of bills of that kind myself, when I was in California.', \"If you care about it, why don't you veto it?\", \"The President shouldn't have vetoed that bill.\"]",
         "94",
         "115",
         "0.5502392344497608"
        ],
        [
         "32",
         "31",
         "362",
         "31_election_campaign_vote_this",
         "['election', 'campaign', 'vote', 'this', 'elections', 'about', 'is', 'the', 'of', 'polls']",
         "['This is what this election is all about.', \"That's what this election is about.\", \"But that's what the election's about.\"]",
         "317",
         "45",
         "0.12430939226519337"
        ],
        [
         "33",
         "32",
         "115",
         "32_kennedy_senator_kennedys_has",
         "['kennedy', 'senator', 'kennedys', 'has', 'as', 'he', 'that', 'would', 'his', 'in']",
         "['Senator Kennedy is in the hospital.', 'And so is Senator Kennedy a friend of yours.', \"We all have tempers; I have one; I'm sure Senator Kennedy has one.\"]",
         "90",
         "25",
         "0.21739130434782608"
        ],
        [
         "34",
         "33",
         "359",
         "33_responsibility_make_we_decisions",
         "['responsibility', 'make', 'we', 'decisions', 'decision', 'important', 'think', 'have', 'to', 'its']",
         "[\"It's a moral responsibility for us and the world.\", \"And I'll take responsibility for them.\", 'And we have a responsibility.']",
         "354",
         "5",
         "0.013927576601671309"
        ],
        [
         "35",
         "34",
         "322",
         "34_safe_we_protect_security",
         "['safe', 'we', 'protect', 'security', 'our', 'to', 'safer', 'make', 'are', 'be']",
         "[\"We're going to make America safe again.\", 'America needed to be safe.', 'I think it -- that we have a safer nation, but we are a long way from safe.']",
         "295",
         "27",
         "0.08385093167701864"
        ],
        [
         "36",
         "35",
         "140",
         "35_state_texas_in_states",
         "['state', 'texas', 'in', 'states', 'new', 'arkansas', 'go', 'my', 'york', 'california']",
         "[\"We've done so in my own state.\", 'So this is a show me state.', 'We do so in my state of Texas.']",
         "102",
         "38",
         "0.2714285714285714"
        ],
        [
         "37",
         "36",
         "108",
         "36_romney_governor_romneys_he",
         "['romney', 'governor', 'romneys', 'he', 'said', 'says', 'when', 'replace', 'hes', 'that']",
         "[\"Governor Romney, here's what we did.\", 'Governor Romney, you did not...', 'This is for Governor Romney?']",
         "64",
         "44",
         "0.4074074074074074"
        ],
        [
         "38",
         "37",
         "113",
         "37_record_look_records_at",
         "['record', 'look', 'records', 'at', 'my', 'his', 'the', 'whether', 'so', 'on']",
         "['Now when they talk about our record here, it is well that they recognize that they have to stand up for their record as well.', 'So I have a record.', \"So that's on the record.\"]",
         "97",
         "16",
         "0.1415929203539823"
        ],
        [
         "39",
         "38",
         "233",
         "38_years_four_ago_last",
         "['years', 'four', 'ago', 'last', 'eight', 'been', 'weve', 'over', 'than', 'better']",
         "['We are better off than we were four years ago.', \"Well, he's better off than he was four years ago.\", 'We are better off than we were four years ago.']",
         "189",
         "44",
         "0.1888412017167382"
        ],
        [
         "40",
         "39",
         "181",
         "39_difference_different_opinion_differences",
         "['difference', 'different', 'opinion', 'differences', 'fundamental', 'disagree', 'big', 'just', 'think', 'between']",
         "[\"It's a fundamental difference of opinion here, folks.\", \"It's a fundamental difference of opinion.\", 'We have a fundamental difference of opinion.']",
         "176",
         "5",
         "0.027624309392265192"
        ],
        [
         "41",
         "40",
         "184",
         "40_leadership_leader_lead_kind",
         "['leadership', 'leader', 'lead', 'kind', 'must', 'of', 'that', 'the', 'as', 'we']",
         "[\"I think that's what leadership is all about.\", 'But we have no leadership.', \"That's what leadership is all about.\"]",
         "175",
         "9",
         "0.04891304347826087"
        ],
        [
         "42",
         "41",
         "124",
         "41_china_chinese_steel_republic",
         "['china', 'chinese', 'steel', 'republic', 'peoples', 'our', 'in', 'with', 'steelworkers', 'from']",
         "['That will not help us compete with China.', 'And so we can be a partner with China.', \"The problem is they'll be in china.\"]",
         "68",
         "56",
         "0.45161290322580644"
        ],
        [
         "43",
         "42",
         "116",
         "42_farmers_farm_farmer_agricultural",
         "['farmers', 'farm', 'farmer', 'agricultural', 'supply', 'agriculture', 'the', 'rural', 'income', 'and']",
         "[\"Give our farm families a decent income with spending $20to $25 billion a year on farm subsidies, and I'm sure we can do that.\", \"Until we get the surpluses off the farmer's back, however, we should have a program such as I announced, which will see that farm income holds up.\", 'I would like our farmers feeding the world.']",
         "81",
         "35",
         "0.3017241379310345"
        ],
        [
         "44",
         "43",
         "130",
         "43_korea_north_south_korean",
         "['korea', 'north', 'south', 'korean', 'japan', 'jong', 'il', 'kim', 'bilateral', 'peninsula']",
         "['As far as North Korea is concerned, our secretary of state, Madeleine Albright, went to North Korea.', 'China should go into North Korea.', 'North Korea, first, I do.']",
         "81",
         "49",
         "0.3769230769230769"
        ],
        [
         "45",
         "44",
         "102",
         "44_mccain_senator_mccains_john",
         "['mccain', 'senator', 'mccains', 'john', 'earmarks', 'campaign', 'he', 'that', 'and', 'on']",
         "[\"What Senator McCain doesn't mention is he's been there 26 of them.\", \"Nobody's been talking about that, and Senator McCain knows it.\", \"Now, Senator McCain is also right that it's difficult.\"]",
         "77",
         "25",
         "0.24509803921568626"
        ],
        [
         "46",
         "45",
         "130",
         "45_faith_church_god_religion",
         "['faith', 'church', 'god', 'religion', 'religious', 'belief', 'my', 'of', 'in', 'believe']",
         "['I kept the faith with my family.', 'Well, I was raised to have a faith and a belief and have been a member of a church since I was a small boy.', 'I have kept the faith.']",
         "119",
         "11",
         "0.08461538461538462"
        ],
        [
         "47",
         "46",
         "199",
         "46_border_borders_immigration_country",
         "['border', 'borders', 'immigration', 'country', 'immigrants', 'here', 'we', 'to', 'are', 'people']",
         "[\"We've got 1,000 extra border patrol on the southern border; want 1,000 on the northern border.\", 'We have no country if we have no border.', \"We either have a border or we don't.\"]",
         "146",
         "53",
         "0.2663316582914573"
        ],
        [
         "48",
         "47",
         "137",
         "47_water_environment_air_pollution",
         "['water', 'environment', 'air', 'pollution', 'conservation', 'clean', 'environmental', 'land', 'lands', 'the']",
         "['But the only way you can express your love for clean water is to double the appropriations for clean water, and then rant against the deficit.', 'We sent up a good bill on clean water, a sound bill on clean water.', 'I am for clean water.']",
         "94",
         "43",
         "0.31386861313868614"
        ],
        [
         "49",
         "48",
         "134",
         "48_vice_president_presidential_mr",
         "['vice', 'president', 'presidential', 'mr', 'the', 'who', 'presidents', 'is', 'and', 'that']",
         "[\"You've had your chance, Vice President, you've been there for eight years and nothing has been done.\", \"You've -- you've made your point, Vice President.\", 'As the vice president is.']",
         "114",
         "20",
         "0.14925373134328357"
        ]
       ],
       "shape": {
        "columns": 8,
        "rows": 63
       }
      },
      "text/html": [
       "<div>\n",
       "<style scoped>\n",
       "    .dataframe tbody tr th:only-of-type {\n",
       "        vertical-align: middle;\n",
       "    }\n",
       "\n",
       "    .dataframe tbody tr th {\n",
       "        vertical-align: top;\n",
       "    }\n",
       "\n",
       "    .dataframe thead th {\n",
       "        text-align: right;\n",
       "    }\n",
       "</style>\n",
       "<table border=\"1\" class=\"dataframe\">\n",
       "  <thead>\n",
       "    <tr style=\"text-align: right;\">\n",
       "      <th></th>\n",
       "      <th>Topic</th>\n",
       "      <th>Count</th>\n",
       "      <th>Name</th>\n",
       "      <th>Representation</th>\n",
       "      <th>Representative_Docs</th>\n",
       "      <th>No</th>\n",
       "      <th>Yes</th>\n",
       "      <th>pos_ratio</th>\n",
       "    </tr>\n",
       "  </thead>\n",
       "  <tbody>\n",
       "    <tr>\n",
       "      <th>0</th>\n",
       "      <td>-1</td>\n",
       "      <td>3213</td>\n",
       "      <td>-1_you_he_it_was</td>\n",
       "      <td>[you, he, it, was, and, the, of, they, that, t...</td>\n",
       "      <td>[You know, back in 1987, he took out a $100,00...</td>\n",
       "      <td>2701</td>\n",
       "      <td>512</td>\n",
       "      <td>0.159353</td>\n",
       "    </tr>\n",
       "    <tr>\n",
       "      <th>1</th>\n",
       "      <td>0</td>\n",
       "      <td>1353</td>\n",
       "      <td>0_health_care_social_medicare</td>\n",
       "      <td>[health, care, social, medicare, insurance, se...</td>\n",
       "      <td>[I want to do something about Social Security....</td>\n",
       "      <td>822</td>\n",
       "      <td>531</td>\n",
       "      <td>0.392461</td>\n",
       "    </tr>\n",
       "    <tr>\n",
       "      <th>2</th>\n",
       "      <td>1</td>\n",
       "      <td>981</td>\n",
       "      <td>1_tax_taxes_cut_for</td>\n",
       "      <td>[tax, taxes, cut, for, cuts, the, increase, pe...</td>\n",
       "      <td>[This is a family tax cut., I have a tax cut.,...</td>\n",
       "      <td>527</td>\n",
       "      <td>454</td>\n",
       "      <td>0.462793</td>\n",
       "    </tr>\n",
       "    <tr>\n",
       "      <th>3</th>\n",
       "      <td>2</td>\n",
       "      <td>1407</td>\n",
       "      <td>2_economy_budget_spending_billion</td>\n",
       "      <td>[economy, budget, spending, billion, deficit, ...</td>\n",
       "      <td>[I will pay down the national debt., When Pres...</td>\n",
       "      <td>769</td>\n",
       "      <td>638</td>\n",
       "      <td>0.453447</td>\n",
       "    </tr>\n",
       "    <tr>\n",
       "      <th>4</th>\n",
       "      <td>3</td>\n",
       "      <td>841</td>\n",
       "      <td>3_jobs_unemployment_million_small</td>\n",
       "      <td>[jobs, unemployment, million, small, business,...</td>\n",
       "      <td>[We've had record numbers of new small busines...</td>\n",
       "      <td>519</td>\n",
       "      <td>322</td>\n",
       "      <td>0.382878</td>\n",
       "    </tr>\n",
       "    <tr>\n",
       "      <th>...</th>\n",
       "      <td>...</td>\n",
       "      <td>...</td>\n",
       "      <td>...</td>\n",
       "      <td>...</td>\n",
       "      <td>...</td>\n",
       "      <td>...</td>\n",
       "      <td>...</td>\n",
       "      <td>...</td>\n",
       "    </tr>\n",
       "    <tr>\n",
       "      <th>58</th>\n",
       "      <td>57</td>\n",
       "      <td>134</td>\n",
       "      <td>57_mistake_wrong_made_mistakes</td>\n",
       "      <td>[mistake, wrong, made, mistakes, was, think, h...</td>\n",
       "      <td>[That was not a mistake., That was more than a...</td>\n",
       "      <td>126</td>\n",
       "      <td>8</td>\n",
       "      <td>0.059701</td>\n",
       "    </tr>\n",
       "    <tr>\n",
       "      <th>59</th>\n",
       "      <td>58</td>\n",
       "      <td>220</td>\n",
       "      <td>58_plan_my_plans_you</td>\n",
       "      <td>[plan, my, plans, you, have, proposed, ive, fu...</td>\n",
       "      <td>[And give us a plan., But I have a plan to do ...</td>\n",
       "      <td>194</td>\n",
       "      <td>26</td>\n",
       "      <td>0.118182</td>\n",
       "    </tr>\n",
       "    <tr>\n",
       "      <th>60</th>\n",
       "      <td>59</td>\n",
       "      <td>73</td>\n",
       "      <td>59_test_testing_tests_litmus</td>\n",
       "      <td>[test, testing, tests, litmus, any, atmosphere...</td>\n",
       "      <td>[And the answer is, no, I will not have a litm...</td>\n",
       "      <td>66</td>\n",
       "      <td>7</td>\n",
       "      <td>0.095890</td>\n",
       "    </tr>\n",
       "    <tr>\n",
       "      <th>61</th>\n",
       "      <td>60</td>\n",
       "      <td>65</td>\n",
       "      <td>60_dole_senator_doles_bob</td>\n",
       "      <td>[dole, senator, doles, bob, damato, against, b...</td>\n",
       "      <td>[And members of Senator Dole's own party in th...</td>\n",
       "      <td>36</td>\n",
       "      <td>29</td>\n",
       "      <td>0.446154</td>\n",
       "    </tr>\n",
       "    <tr>\n",
       "      <th>62</th>\n",
       "      <td>61</td>\n",
       "      <td>224</td>\n",
       "      <td>61_peace_world_freedom_we</td>\n",
       "      <td>[peace, world, freedom, we, our, to, the, and,...</td>\n",
       "      <td>[World peace is important, and we have enhance...</td>\n",
       "      <td>208</td>\n",
       "      <td>16</td>\n",
       "      <td>0.071429</td>\n",
       "    </tr>\n",
       "  </tbody>\n",
       "</table>\n",
       "<p>63 rows × 8 columns</p>\n",
       "</div>"
      ],
      "text/plain": [
       "    Topic  Count                               Name  \\\n",
       "0      -1   3213                   -1_you_he_it_was   \n",
       "1       0   1353      0_health_care_social_medicare   \n",
       "2       1    981                1_tax_taxes_cut_for   \n",
       "3       2   1407  2_economy_budget_spending_billion   \n",
       "4       3    841  3_jobs_unemployment_million_small   \n",
       "..    ...    ...                                ...   \n",
       "58     57    134     57_mistake_wrong_made_mistakes   \n",
       "59     58    220               58_plan_my_plans_you   \n",
       "60     59     73       59_test_testing_tests_litmus   \n",
       "61     60     65          60_dole_senator_doles_bob   \n",
       "62     61    224          61_peace_world_freedom_we   \n",
       "\n",
       "                                       Representation  \\\n",
       "0   [you, he, it, was, and, the, of, they, that, t...   \n",
       "1   [health, care, social, medicare, insurance, se...   \n",
       "2   [tax, taxes, cut, for, cuts, the, increase, pe...   \n",
       "3   [economy, budget, spending, billion, deficit, ...   \n",
       "4   [jobs, unemployment, million, small, business,...   \n",
       "..                                                ...   \n",
       "58  [mistake, wrong, made, mistakes, was, think, h...   \n",
       "59  [plan, my, plans, you, have, proposed, ive, fu...   \n",
       "60  [test, testing, tests, litmus, any, atmosphere...   \n",
       "61  [dole, senator, doles, bob, damato, against, b...   \n",
       "62  [peace, world, freedom, we, our, to, the, and,...   \n",
       "\n",
       "                                  Representative_Docs    No  Yes  pos_ratio  \n",
       "0   [You know, back in 1987, he took out a $100,00...  2701  512   0.159353  \n",
       "1   [I want to do something about Social Security....   822  531   0.392461  \n",
       "2   [This is a family tax cut., I have a tax cut.,...   527  454   0.462793  \n",
       "3   [I will pay down the national debt., When Pres...   769  638   0.453447  \n",
       "4   [We've had record numbers of new small busines...   519  322   0.382878  \n",
       "..                                                ...   ...  ...        ...  \n",
       "58  [That was not a mistake., That was more than a...   126    8   0.059701  \n",
       "59  [And give us a plan., But I have a plan to do ...   194   26   0.118182  \n",
       "60  [And the answer is, no, I will not have a litm...    66    7   0.095890  \n",
       "61  [And members of Senator Dole's own party in th...    36   29   0.446154  \n",
       "62  [World peace is important, and we have enhance...   208   16   0.071429  \n",
       "\n",
       "[63 rows x 8 columns]"
      ]
     },
     "execution_count": 11,
     "metadata": {},
     "output_type": "execute_result"
    }
   ],
   "source": [
    "topic_info = get_topic_info(topic_model=topic_model, text_list=text_list, dataframe=df)\n",
    "topic_info"
   ]
  },
  {
   "cell_type": "code",
   "execution_count": 12,
   "id": "9bddaccb",
   "metadata": {},
   "outputs": [],
   "source": [
    "#topic_model.visualize_topics()"
   ]
  },
  {
   "cell_type": "code",
   "execution_count": 13,
   "id": "2a9549e2",
   "metadata": {},
   "outputs": [],
   "source": [
    "#topic_model.visualize_documents(text_list, embeddings=embeddings, width=1000, hide_document_hover=False, hide_annotations=True)"
   ]
  },
  {
   "cell_type": "code",
   "execution_count": 14,
   "id": "90a89d03",
   "metadata": {},
   "outputs": [],
   "source": [
    "df[\"Topic\"] = topics"
   ]
  },
  {
   "cell_type": "code",
   "execution_count": 15,
   "id": "a3714469",
   "metadata": {},
   "outputs": [
    {
     "name": "stdout",
     "output_type": "stream",
     "text": [
      "Topic name:  61_peace_world_freedom_we\n",
      "Examples:\n",
      "World peace is important, and we have enhanced the peace.\n",
      "And that's how best it is to keep the peace.\n",
      "He talks about peace and I'm thankful for peace.\n",
      "Yes ratio:  0.07142857142857142\n"
     ]
    },
    {
     "data": {
      "application/vnd.microsoft.datawrangler.viewer.v0+json": {
       "columns": [
        {
         "name": "index",
         "rawType": "int64",
         "type": "integer"
        },
        {
         "name": "Sentence_id",
         "rawType": "int64",
         "type": "integer"
        },
        {
         "name": "Text",
         "rawType": "object",
         "type": "string"
        },
        {
         "name": "class_label",
         "rawType": "object",
         "type": "string"
        },
        {
         "name": "Topic",
         "rawType": "int64",
         "type": "integer"
        }
       ],
       "ref": "11b58683-ec1f-4164-bcc2-389281de9aee",
       "rows": [
        [
         "23",
         "3187",
         "What is more moral than peace, and the United States is at peace today?",
         "No",
         "61"
        ],
        [
         "42",
         "26856",
         "If we do those things we will build that bridge to the 21st Century and the greatest country in history will be even greater.",
         "No",
         "61"
        ],
        [
         "194",
         "12467",
         "I would like to unite this country to get an agenda done that will speak to the hopes and aspirations of the future.",
         "No",
         "61"
        ],
        [
         "225",
         "12673",
         "And when we are strong and when we are first, then freedom gains; then the prospects for peace increase; then the prospects for our society gain.",
         "No",
         "61"
        ],
        [
         "421",
         "12516",
         "How can we extend freedom - extend it without war?",
         "No",
         "61"
        ],
        [
         "452",
         "22118",
         "President Reagan said no, peace through strength.",
         "Yes",
         "61"
        ],
        [
         "516",
         "3176",
         "So as far as the respect of our own people toward our own government, as far as participating in the shaping of uh - concepts and commitments, as far as the trust of our country among the nations of the world, as far as dependence of our country in meeting the needs and obligations that we've expressed to our allies, as far as the respect of our country - even among our potential adversaries - we are weak.",
         "No",
         "61"
        ],
        [
         "560",
         "20597",
         "It means that the United States must have a strong diplomatic hand with our friends in NATO.",
         "No",
         "61"
        ],
        [
         "590",
         "2800",
         "In addition to that we've had a chance to became now, contrary to our long-standing beliefs and principles, the arms merchant of the whole world.",
         "No",
         "61"
        ],
        [
         "631",
         "8613",
         "If you feel that everything that is being done now is satisfactory, that the relative power and prestige and strength of the United States is increasing in relation to that of the Communists; that we've b- gaining more security, that we are achieving everything as a nation that we should achieve, that we are achieving a better life for our citizens and greater strength, then I agree.",
         "No",
         "61"
        ],
        [
         "781",
         "12519",
         "There is only one threat to peace and one threat to freedom - that that is presented by the international Communist movement.",
         "No",
         "61"
        ],
        [
         "1018",
         "22121",
         "So the new world order to me means freedom and democracy, keep engaged, do not pull back into isolation.",
         "No",
         "61"
        ],
        [
         "1041",
         "14852",
         "That is what I have tried to do successfully by keeping our country at peace.",
         "No",
         "61"
        ],
        [
         "1090",
         "33575",
         "That's the only way we're going to be able to keep the peace.",
         "No",
         "61"
        ],
        [
         "1151",
         "20499",
         "Surely this nation can come together to promote the value of life.",
         "No",
         "61"
        ],
        [
         "1235",
         "27165",
         "We want a peaceful planet.",
         "No",
         "61"
        ],
        [
         "1372",
         "25513",
         "And I think that we're better off, for example with the Philippines, of trying to retain our friendship and help them right the wrongs we see, rather than throwing them to the wolves and then facing a Communist power in the Pacific.",
         "No",
         "61"
        ],
        [
         "1707",
         "25559",
         "Do you believe in MAD, mutual assured destruction, mutual deterrence as it has been practiced for the last generation?",
         "No",
         "61"
        ],
        [
         "1988",
         "3088",
         "What we need is to try to seek individualized bilateral relationships with countries, regardless of their size, and to establish world-order politics, which means that we want to preserve peace through strength.",
         "No",
         "61"
        ],
        [
         "2003",
         "24313",
         "In order to keep America the strongest nation in the world, we need some continuity and some change.",
         "No",
         "61"
        ],
        [
         "2406",
         "28452",
         "A leader also understands that the United States must be strong to keep the peace.",
         "No",
         "61"
        ],
        [
         "2571",
         "28524",
         "This is a peaceful nation, and I intend to keep the peace.",
         "No",
         "61"
        ],
        [
         "2728",
         "16393",
         "Because I mean it when I say I want a kinder and gentler nation.",
         "No",
         "61"
        ],
        [
         "2737",
         "3082",
         "Another thing that we need to do is to reestablish the good relationships that we ought to have between the United States and our natural allies and friends.",
         "No",
         "61"
        ],
        [
         "2788",
         "3220",
         "I would hope that as we move to one area of the world from another - and the United States must not spread itself too thinly - that was one of the problems that helped to create the circumstances in Vietnam - but as we as a nation find that we are asked by the various parties, either one nation against another or individuals within a nation, that the United States will take the leadership and try to resolve the differences.",
         "No",
         "61"
        ],
        [
         "2790",
         "15067",
         "At one of the recent economic summit conferences between myself and the other leaders of the western world, we committed ourselves to take strong action against terrorism.",
         "No",
         "61"
        ],
        [
         "2812",
         "4343",
         "It is important for us to understand that the way we are perceived in the world is going to make a difference, in terms of our capacity to get cooperation and root out terrorism.",
         "No",
         "61"
        ],
        [
         "2967",
         "18098",
         "And that's why it's essential that we have strong alliances, and we do.",
         "No",
         "61"
        ],
        [
         "3073",
         "7591",
         "As a matter of fact in his book, The Strategy for Peace, he took the right position.",
         "No",
         "61"
        ],
        [
         "3095",
         "25407",
         "Why don't we stop this madness now and draw a line and keep the heavens free from war?",
         "No",
         "61"
        ],
        [
         "3156",
         "27772",
         "We want a world that's stable.",
         "No",
         "61"
        ],
        [
         "3325",
         "7796",
         "I believe it's essential that we do it because in the next ten years the balance of power is going to begin to move in the world from one direction or another - towards us or towards the Communists - and unless we begin to identify ourselves not only with the anti-Communist fight, but also with the fight against poverty and hunger, these people are going to begin to turn to the Communists as an example.",
         "No",
         "61"
        ],
        [
         "3328",
         "8536",
         "And, in this connection, I think that uh - we must look to the future having in mind the fact that we fight Communism at home not only by our laws to deal with Communists uh - the few who do become Communists and the few who do become tra- fellow travelers, but we also fight Communism at home by moving against those various injustices which exist in our society which the Communists feed upon.",
         "No",
         "61"
        ],
        [
         "3331",
         "18887",
         "But we didn't need to rush to war without a plan to win the peace.",
         "No",
         "61"
        ],
        [
         "3406",
         "7911",
         "Otherwise, if we find the heads of state meeting and not making progress, we will find that the cause of peace will have been hurt rather than helped.",
         "No",
         "61"
        ],
        [
         "3601",
         "19058",
         "By being steadfast and resolute and strong, by keeping our word, by supporting our troops, we can achieve the peace we all want.",
         "No",
         "61"
        ],
        [
         "3708",
         "25536",
         "I think that we have observed, ourselves, and have done our best to see that human rights are extended throughout the world.",
         "No",
         "61"
        ],
        [
         "3982",
         "25639",
         "Will we do the things that we know must be done and know that one day, down in history 100 years or perhaps before, someone will say, \"Thank God for those people back in the 1980's for preserving our freedom, for saving for us this blessed planet called Earth, with all its grandeur and its beauty.''",
         "No",
         "61"
        ],
        [
         "4100",
         "25900",
         "My position has always been that the job of the United States was to minimize the risks of peace.",
         "No",
         "61"
        ],
        [
         "4118",
         "14845",
         "But what we've done is use that enormous power and prestige and military strength of the United States to preserve the peace.",
         "No",
         "61"
        ],
        [
         "4134",
         "11031",
         "So we are peacemakers and we're peacekeepers.",
         "No",
         "61"
        ],
        [
         "4185",
         "17374",
         "As the record develops, I think it's going to become increasingly clear that what I am saying and where I want to take this country is exactly where the country wants to go, and the comparison of approaches is such that I think will lead to further strength.",
         "No",
         "61"
        ],
        [
         "4209",
         "18132",
         "You don't take America to war unless have the plan to win the peace.",
         "No",
         "61"
        ],
        [
         "4274",
         "32677",
         "We sign a peace treaty.",
         "No",
         "61"
        ],
        [
         "4282",
         "19255",
         "I think it's time to have a truce.",
         "No",
         "61"
        ],
        [
         "4312",
         "27969",
         "I want to see peace.",
         "No",
         "61"
        ],
        [
         "4342",
         "22821",
         "A president's job is to win the peace.",
         "No",
         "61"
        ],
        [
         "4365",
         "13197",
         "And in this instance the good intentions, of course, are a desire for peace.",
         "No",
         "61"
        ],
        [
         "4534",
         "11421",
         "So I think first and foremost our power ought to be wielded to in ways that form a more perfect union.",
         "No",
         "61"
        ],
        [
         "4542",
         "13118",
         "I've often heard President Eisenhower in discussing this question, make the statement that if we once start the process of indicating that this point or that point is not the place to stop those who threaten the peace and freedom of the world, where do we stop them?",
         "No",
         "61"
        ]
       ],
       "shape": {
        "columns": 4,
        "rows": 224
       }
      },
      "text/html": [
       "<div>\n",
       "<style scoped>\n",
       "    .dataframe tbody tr th:only-of-type {\n",
       "        vertical-align: middle;\n",
       "    }\n",
       "\n",
       "    .dataframe tbody tr th {\n",
       "        vertical-align: top;\n",
       "    }\n",
       "\n",
       "    .dataframe thead th {\n",
       "        text-align: right;\n",
       "    }\n",
       "</style>\n",
       "<table border=\"1\" class=\"dataframe\">\n",
       "  <thead>\n",
       "    <tr style=\"text-align: right;\">\n",
       "      <th></th>\n",
       "      <th>Sentence_id</th>\n",
       "      <th>Text</th>\n",
       "      <th>class_label</th>\n",
       "      <th>Topic</th>\n",
       "    </tr>\n",
       "  </thead>\n",
       "  <tbody>\n",
       "    <tr>\n",
       "      <th>23</th>\n",
       "      <td>3187</td>\n",
       "      <td>What is more moral than peace, and the United ...</td>\n",
       "      <td>No</td>\n",
       "      <td>61</td>\n",
       "    </tr>\n",
       "    <tr>\n",
       "      <th>42</th>\n",
       "      <td>26856</td>\n",
       "      <td>If we do those things we will build that bridg...</td>\n",
       "      <td>No</td>\n",
       "      <td>61</td>\n",
       "    </tr>\n",
       "    <tr>\n",
       "      <th>194</th>\n",
       "      <td>12467</td>\n",
       "      <td>I would like to unite this country to get an a...</td>\n",
       "      <td>No</td>\n",
       "      <td>61</td>\n",
       "    </tr>\n",
       "    <tr>\n",
       "      <th>225</th>\n",
       "      <td>12673</td>\n",
       "      <td>And when we are strong and when we are first, ...</td>\n",
       "      <td>No</td>\n",
       "      <td>61</td>\n",
       "    </tr>\n",
       "    <tr>\n",
       "      <th>421</th>\n",
       "      <td>12516</td>\n",
       "      <td>How can we extend freedom - extend it without ...</td>\n",
       "      <td>No</td>\n",
       "      <td>61</td>\n",
       "    </tr>\n",
       "    <tr>\n",
       "      <th>...</th>\n",
       "      <td>...</td>\n",
       "      <td>...</td>\n",
       "      <td>...</td>\n",
       "      <td>...</td>\n",
       "    </tr>\n",
       "    <tr>\n",
       "      <th>23178</th>\n",
       "      <td>15426</td>\n",
       "      <td>And we must extend the benefits of our own com...</td>\n",
       "      <td>No</td>\n",
       "      <td>61</td>\n",
       "    </tr>\n",
       "    <tr>\n",
       "      <th>23202</th>\n",
       "      <td>15646</td>\n",
       "      <td>You have to learn from experience that making ...</td>\n",
       "      <td>No</td>\n",
       "      <td>61</td>\n",
       "    </tr>\n",
       "    <tr>\n",
       "      <th>23278</th>\n",
       "      <td>16410</td>\n",
       "      <td>Working together, we can do wonderful things f...</td>\n",
       "      <td>No</td>\n",
       "      <td>61</td>\n",
       "    </tr>\n",
       "    <tr>\n",
       "      <th>23408</th>\n",
       "      <td>24016</td>\n",
       "      <td>If you look at the cost of not keeping the pea...</td>\n",
       "      <td>No</td>\n",
       "      <td>61</td>\n",
       "    </tr>\n",
       "    <tr>\n",
       "      <th>24038</th>\n",
       "      <td>40549</td>\n",
       "      <td>It's about accumulating the ability to have we...</td>\n",
       "      <td>No</td>\n",
       "      <td>61</td>\n",
       "    </tr>\n",
       "  </tbody>\n",
       "</table>\n",
       "<p>224 rows × 4 columns</p>\n",
       "</div>"
      ],
      "text/plain": [
       "       Sentence_id                                               Text  \\\n",
       "23            3187  What is more moral than peace, and the United ...   \n",
       "42           26856  If we do those things we will build that bridg...   \n",
       "194          12467  I would like to unite this country to get an a...   \n",
       "225          12673  And when we are strong and when we are first, ...   \n",
       "421          12516  How can we extend freedom - extend it without ...   \n",
       "...            ...                                                ...   \n",
       "23178        15426  And we must extend the benefits of our own com...   \n",
       "23202        15646  You have to learn from experience that making ...   \n",
       "23278        16410  Working together, we can do wonderful things f...   \n",
       "23408        24016  If you look at the cost of not keeping the pea...   \n",
       "24038        40549  It's about accumulating the ability to have we...   \n",
       "\n",
       "      class_label  Topic  \n",
       "23             No     61  \n",
       "42             No     61  \n",
       "194            No     61  \n",
       "225            No     61  \n",
       "421            No     61  \n",
       "...           ...    ...  \n",
       "23178          No     61  \n",
       "23202          No     61  \n",
       "23278          No     61  \n",
       "23408          No     61  \n",
       "24038          No     61  \n",
       "\n",
       "[224 rows x 4 columns]"
      ]
     },
     "execution_count": 15,
     "metadata": {},
     "output_type": "execute_result"
    }
   ],
   "source": [
    "# Explore a specific topic id\n",
    "topic_id = 61\n",
    "print(\"Topic name: \", topic_info[topic_info[\"Topic\"] == topic_id][\"Name\"].to_list()[0])\n",
    "print(\"Examples:\")\n",
    "print(\"\\n\".join(topic_model.get_representative_docs(topic_id)))\n",
    "print(\"Yes ratio: \", topic_info[topic_info[\"Topic\"] == topic_id][\"pos_ratio\"].to_list()[0])\n",
    "df[df[\"Topic\"] == topic_id]"
   ]
  },
  {
   "cell_type": "code",
   "execution_count": 16,
   "id": "1fe61111",
   "metadata": {},
   "outputs": [],
   "source": [
    "# Manually identify unspecific topics containing samples that should be members of more specific topics\n",
    "# Apply \"outlier\" reduction to these topics with appropriate threshold\n",
    "# Merge the remaining samples in the unspecific topics and outliers into a \"unspecific\" category\n",
    "\n",
    "# Topics containing samples that should be members of more specific topics\n",
    "topics_to_dissolve = [5, 7, 9, 15, 21, 25, 34, 37, 38, 39, 40, 54, 58, 59, 61]\n",
    "# Topics that should be merged into an \"unspecific\" topic class\n",
    "unspecific_topics = []"
   ]
  },
  {
   "cell_type": "code",
   "execution_count": 17,
   "id": "c1c3ce02",
   "metadata": {},
   "outputs": [
    {
     "name": "stderr",
     "output_type": "stream",
     "text": [
      "2025-09-03 09:35:41,887 - BERTopic - WARNING: Using a custom list of topic assignments may lead to errors if topic reduction techniques are used afterwards. Make sure that manually assigning topics is the last step in the pipeline.Note that topic embeddings will also be created through weightedc-TF-IDF embeddings instead of centroid embeddings.\n",
      "2025-09-03 09:35:42,185 - BERTopic - WARNING: Using a custom list of topic assignments may lead to errors if topic reduction techniques are used afterwards. Make sure that manually assigning topics is the last step in the pipeline.Note that topic embeddings will also be created through weightedc-TF-IDF embeddings instead of centroid embeddings.\n"
     ]
    },
    {
     "name": "stdout",
     "output_type": "stream",
     "text": [
      "Reassigned 18 documents from \"5_do_we_to_going\" to 2 new topics\n"
     ]
    },
    {
     "name": "stderr",
     "output_type": "stream",
     "text": [
      "2025-09-03 09:35:42,485 - BERTopic - WARNING: Using a custom list of topic assignments may lead to errors if topic reduction techniques are used afterwards. Make sure that manually assigning topics is the last step in the pipeline.Note that topic embeddings will also be created through weightedc-TF-IDF embeddings instead of centroid embeddings.\n"
     ]
    },
    {
     "name": "stdout",
     "output_type": "stream",
     "text": [
      "Reassigned 0 documents from \"7_let_me_just_you\" to 0 new topics\n"
     ]
    },
    {
     "name": "stderr",
     "output_type": "stream",
     "text": [
      "2025-09-03 09:35:42,777 - BERTopic - WARNING: Using a custom list of topic assignments may lead to errors if topic reduction techniques are used afterwards. Make sure that manually assigning topics is the last step in the pipeline.Note that topic embeddings will also be created through weightedc-TF-IDF embeddings instead of centroid embeddings.\n"
     ]
    },
    {
     "name": "stdout",
     "output_type": "stream",
     "text": [
      "Reassigned 31 documents from \"9_president_the_to_be\" to 1 new topics\n"
     ]
    },
    {
     "name": "stderr",
     "output_type": "stream",
     "text": [
      "2025-09-03 09:35:43,080 - BERTopic - WARNING: Using a custom list of topic assignments may lead to errors if topic reduction techniques are used afterwards. Make sure that manually assigning topics is the last step in the pipeline.Note that topic embeddings will also be created through weightedc-TF-IDF embeddings instead of centroid embeddings.\n"
     ]
    },
    {
     "name": "stdout",
     "output_type": "stream",
     "text": [
      "Reassigned 16 documents from \"15_problem_issue_problems_issues\" to 1 new topics\n"
     ]
    },
    {
     "name": "stderr",
     "output_type": "stream",
     "text": [
      "2025-09-03 09:35:43,382 - BERTopic - WARNING: Using a custom list of topic assignments may lead to errors if topic reduction techniques are used afterwards. Make sure that manually assigning topics is the last step in the pipeline.Note that topic embeddings will also be created through weightedc-TF-IDF embeddings instead of centroid embeddings.\n"
     ]
    },
    {
     "name": "stdout",
     "output_type": "stream",
     "text": [
      "Reassigned 13 documents from \"21_washington_congress_the_house\" to 2 new topics\n"
     ]
    },
    {
     "name": "stderr",
     "output_type": "stream",
     "text": [
      "2025-09-03 09:35:43,684 - BERTopic - WARNING: Using a custom list of topic assignments may lead to errors if topic reduction techniques are used afterwards. Make sure that manually assigning topics is the last step in the pipeline.Note that topic embeddings will also be created through weightedc-TF-IDF embeddings instead of centroid embeddings.\n"
     ]
    },
    {
     "name": "stdout",
     "output_type": "stream",
     "text": [
      "Reassigned 18 documents from \"25_thank_jim_university_bob\" to 1 new topics\n"
     ]
    },
    {
     "name": "stderr",
     "output_type": "stream",
     "text": [
      "2025-09-03 09:35:43,977 - BERTopic - WARNING: Using a custom list of topic assignments may lead to errors if topic reduction techniques are used afterwards. Make sure that manually assigning topics is the last step in the pipeline.Note that topic embeddings will also be created through weightedc-TF-IDF embeddings instead of centroid embeddings.\n"
     ]
    },
    {
     "name": "stdout",
     "output_type": "stream",
     "text": [
      "Reassigned 32 documents from \"34_safe_we_protect_security\" to 1 new topics\n"
     ]
    },
    {
     "name": "stderr",
     "output_type": "stream",
     "text": [
      "2025-09-03 09:35:44,248 - BERTopic - WARNING: Using a custom list of topic assignments may lead to errors if topic reduction techniques are used afterwards. Make sure that manually assigning topics is the last step in the pipeline.Note that topic embeddings will also be created through weightedc-TF-IDF embeddings instead of centroid embeddings.\n"
     ]
    },
    {
     "name": "stdout",
     "output_type": "stream",
     "text": [
      "Reassigned 39 documents from \"37_record_look_records_at\" to 1 new topics\n"
     ]
    },
    {
     "name": "stderr",
     "output_type": "stream",
     "text": [
      "2025-09-03 09:35:44,548 - BERTopic - WARNING: Using a custom list of topic assignments may lead to errors if topic reduction techniques are used afterwards. Make sure that manually assigning topics is the last step in the pipeline.Note that topic embeddings will also be created through weightedc-TF-IDF embeddings instead of centroid embeddings.\n"
     ]
    },
    {
     "name": "stdout",
     "output_type": "stream",
     "text": [
      "Reassigned 19 documents from \"38_years_four_ago_last\" to 1 new topics\n"
     ]
    },
    {
     "name": "stderr",
     "output_type": "stream",
     "text": [
      "2025-09-03 09:35:44,848 - BERTopic - WARNING: Using a custom list of topic assignments may lead to errors if topic reduction techniques are used afterwards. Make sure that manually assigning topics is the last step in the pipeline.Note that topic embeddings will also be created through weightedc-TF-IDF embeddings instead of centroid embeddings.\n"
     ]
    },
    {
     "name": "stdout",
     "output_type": "stream",
     "text": [
      "Reassigned 26 documents from \"39_difference_different_opinion_differences\" to 1 new topics\n"
     ]
    },
    {
     "name": "stderr",
     "output_type": "stream",
     "text": [
      "2025-09-03 09:35:45,144 - BERTopic - WARNING: Using a custom list of topic assignments may lead to errors if topic reduction techniques are used afterwards. Make sure that manually assigning topics is the last step in the pipeline.Note that topic embeddings will also be created through weightedc-TF-IDF embeddings instead of centroid embeddings.\n"
     ]
    },
    {
     "name": "stdout",
     "output_type": "stream",
     "text": [
      "Reassigned 44 documents from \"40_leadership_leader_lead_kind\" to 2 new topics\n"
     ]
    },
    {
     "name": "stderr",
     "output_type": "stream",
     "text": [
      "2025-09-03 09:35:45,415 - BERTopic - WARNING: Using a custom list of topic assignments may lead to errors if topic reduction techniques are used afterwards. Make sure that manually assigning topics is the last step in the pipeline.Note that topic embeddings will also be created through weightedc-TF-IDF embeddings instead of centroid embeddings.\n"
     ]
    },
    {
     "name": "stdout",
     "output_type": "stream",
     "text": [
      "Reassigned 15 documents from \"54_programs_program_that_uh\" to 1 new topics\n"
     ]
    },
    {
     "name": "stderr",
     "output_type": "stream",
     "text": [
      "2025-09-03 09:35:45,709 - BERTopic - WARNING: Using a custom list of topic assignments may lead to errors if topic reduction techniques are used afterwards. Make sure that manually assigning topics is the last step in the pipeline.Note that topic embeddings will also be created through weightedc-TF-IDF embeddings instead of centroid embeddings.\n"
     ]
    },
    {
     "name": "stdout",
     "output_type": "stream",
     "text": [
      "Reassigned 29 documents from \"58_plan_my_plans_you\" to 2 new topics\n"
     ]
    },
    {
     "name": "stderr",
     "output_type": "stream",
     "text": [
      "2025-09-03 09:35:45,986 - BERTopic - WARNING: Using a custom list of topic assignments may lead to errors if topic reduction techniques are used afterwards. Make sure that manually assigning topics is the last step in the pipeline.Note that topic embeddings will also be created through weightedc-TF-IDF embeddings instead of centroid embeddings.\n"
     ]
    },
    {
     "name": "stdout",
     "output_type": "stream",
     "text": [
      "Reassigned 10 documents from \"59_test_testing_tests_litmus\" to 1 new topics\n",
      "Reassigned 348 documents from \"61_peace_we_leadership_world\" to 14 new topics\n"
     ]
    }
   ],
   "source": [
    "for tid in topics_to_dissolve:\n",
    "    topics = reduce_topic(\n",
    "        topic_model=topic_model,\n",
    "        topic_id=tid,\n",
    "        text_list=text_list,\n",
    "        topics=topics,\n",
    "        threshold=0.7,\n",
    "        strategy=\"embeddings\",\n",
    "        embeddings=embeddings)"
   ]
  },
  {
   "cell_type": "code",
   "execution_count": 18,
   "id": "4ba347c9",
   "metadata": {},
   "outputs": [],
   "source": [
    "df[\"Topic\"] = topics"
   ]
  },
  {
   "cell_type": "code",
   "execution_count": 19,
   "id": "2a068ad9",
   "metadata": {},
   "outputs": [
    {
     "data": {
      "application/vnd.microsoft.datawrangler.viewer.v0+json": {
       "columns": [
        {
         "name": "index",
         "rawType": "int64",
         "type": "integer"
        },
        {
         "name": "Topic",
         "rawType": "int64",
         "type": "integer"
        },
        {
         "name": "Count",
         "rawType": "int64",
         "type": "integer"
        },
        {
         "name": "Name",
         "rawType": "object",
         "type": "string"
        },
        {
         "name": "Representation",
         "rawType": "object",
         "type": "unknown"
        },
        {
         "name": "Representative_Docs",
         "rawType": "object",
         "type": "unknown"
        },
        {
         "name": "No",
         "rawType": "int64",
         "type": "integer"
        },
        {
         "name": "Yes",
         "rawType": "int64",
         "type": "integer"
        },
        {
         "name": "pos_ratio",
         "rawType": "float64",
         "type": "float"
        }
       ],
       "ref": "1b8a3faa-3adf-4180-ac5a-df17c903b9c6",
       "rows": [
        [
         "0",
         "-1",
         "3213",
         "-1_you_he_it_was",
         "['you', 'he', 'it', 'was', 'and', 'the', 'of', 'they', 'that', 'there']",
         "['You know, back in 1987, he took out a $100,000 ad in the New York Times, during the time when President Reagan was president, and basically said exactly what he just said now, that we were the laughingstock of the world.', \"You know, we have five percent of the world's population in this country.\", 'You know, the American people are fair.']",
         "2701",
         "512",
         "0.15935262994086524"
        ],
        [
         "3",
         "2",
         "1407",
         "2_economy_budget_spending_billion",
         "['economy', 'budget', 'spending', 'billion', 'deficit', 'the', 'debt', 'we', 'trillion', 'in']",
         "['I will pay down the national debt.', 'When President Bush came into office, we had a budget surplus and the national debt was a little over $5 trillion.', \"And then we're going to have to get to a balanced budget.\"]",
         "769",
         "638",
         "0.4534470504619758"
        ],
        [
         "1",
         "0",
         "1353",
         "0_health_care_social_medicare",
         "['health', 'care', 'social', 'medicare', 'insurance', 'security', 'drugs', 'to', 'seniors', 'for']",
         "['I want to do something about Social Security.', 'There is something else about Social Security.', 'Now, Social Security has never done that.']",
         "822",
         "531",
         "0.3924611973392461"
        ],
        [
         "6",
         "5",
         "994",
         "5_do_we_to_going",
         "['do', 'we', 'to', 'going', 'it', 'were', 'can', 'what', 'weve', 'done']",
         "[\"Now, there's more work to do.\", 'But we have some work to do.', \"I don't think that'll work.\"]",
         "968",
         "26",
         "0.026156941649899398"
        ],
        [
         "2",
         "1",
         "981",
         "1_tax_taxes_cut_for",
         "['tax', 'taxes', 'cut', 'for', 'cuts', 'the', 'increase', 'percent', 'to', 'you']",
         "['This is a family tax cut.', 'I have a tax cut.', 'They have a VAT tax.']",
         "527",
         "454",
         "0.46279306829765543"
        ],
        [
         "4",
         "3",
         "841",
         "3_jobs_unemployment_million_small",
         "['jobs', 'unemployment', 'million', 'small', 'business', 'people', 'job', 'create', 'work', 'in']",
         "[\"We've had record numbers of new small businesses and 10 and a half million jobs.\", 'Our jobs are fleeing the country.', 'For me, this is about jobs.']",
         "519",
         "322",
         "0.38287752675386444"
        ],
        [
         "10",
         "9",
         "833",
         "9_president_the_to_be",
         "['president', 'the', 'to', 'be', 'and', 'will', 'of', 'as', 'united', 'states']",
         "[\"But if you're a president, it's not.\", 'This is what a president has to do.', 'I will be the president and we will get it done.']",
         "754",
         "79",
         "0.09483793517406963"
        ],
        [
         "8",
         "7",
         "819",
         "7_let_me_just_you",
         "['let', 'me', 'just', 'you', 'question', 'answer', 'say', 'tell', 'thats', 'well']",
         "['But let me just tell you.', 'Let me just tell you...', \"Let's just answer the question.\"]",
         "802",
         "17",
         "0.020757020757020756"
        ],
        [
         "25",
         "24",
         "712",
         "24_american_america_people_country",
         "['american', 'america', 'people', 'country', 'americans', 'the', 'think', 'is', 'our', 'we']",
         "['I think the American people are too.', 'But are the American people?', 'Put it to you bluntly, American people.']",
         "670",
         "42",
         "0.05898876404494382"
        ],
        [
         "17",
         "16",
         "682",
         "16_military_troops_our_war",
         "['military', 'troops', 'our', 'war', 'we', 'forces', 'to', 'and', 'the', 'iraq']",
         "['Some of our troops are not well-equipped.', \"But the military -- let's get back to the military, though.\", 'We have a depleted military.']",
         "526",
         "156",
         "0.2287390029325513"
        ],
        [
         "5",
         "4",
         "611",
         "4_education_schools_school_teachers",
         "['education', 'schools', 'school', 'teachers', 'college', 'public', 'to', 'children', 'kids', 'in']",
         "[\"So we've got to get our education system right.\", 'We can do better in our public schools.', 'All of our children have gone to both public schools and private schools.']",
         "443",
         "168",
         "0.27495908346972175"
        ],
        [
         "15",
         "14",
         "607",
         "14_senator_senate_republican_voted",
         "['senator', 'senate', 'republican', 'voted', 'obama', 'was', 'he', 'the', 'republicans', 'democratic']",
         "['Of course, we have to do some things tactically, some of which Senator Obama is correct on.', 'Senator Obama has opposed that.', \"But I'm not going to telegraph my punches, which is what Senator Obama did.\"]",
         "395",
         "212",
         "0.34925864909390447"
        ],
        [
         "7",
         "6",
         "479",
         "6_energy_oil_coal_gas",
         "['energy', 'oil', 'coal', 'gas', 'production', 'we', 'our', 'clean', 'solar', 'of']",
         "['I want to control our own energy by developing oil and natural gas but also the energy sources of the future.', \"It hasn't produced a quart of oil or a lump of coal, or anything else in the line of energy.\", 'It had everything to do with energy.']",
         "292",
         "187",
         "0.3903966597077244"
        ],
        [
         "20",
         "19",
         "429",
         "19_government_federal_reform_the",
         "['government', 'federal', 'reform', 'the', 'of', 'to', 'we', 'that', 'and', 'have']",
         "[\"I'd like the government to have that.\", 'Here is the role of the federal government.', \"Federal government doesn't do that.\"]",
         "357",
         "72",
         "0.16783216783216784"
        ],
        [
         "9",
         "8",
         "423",
         "8_she_her_shes_hillary",
         "['she', 'her', 'shes', 'hillary', 'emails', 'and', 'was', 'woman', 'said', 'you']",
         "[\"The problem is, you talk, but you don't get anything done, Hillary.\", 'Hillary wants to give amnesty.', \"I don't believe Hillary will.\"]",
         "322",
         "101",
         "0.23877068557919623"
        ],
        [
         "12",
         "11",
         "423",
         "11_israel_east_middle_isis",
         "['israel', 'east', 'middle', 'isis', 'syria', 'in', 'the', 'and', 'with', 'to']",
         "[\"Peace in the Middle East is in our nation's interests.\", \"I've got a strategy for the Middle East.\", \"They've taken over the Middle East.\"]",
         "297",
         "126",
         "0.2978723404255319"
        ],
        [
         "14",
         "13",
         "397",
         "13_law_crime_police_justice",
         "['law', 'crime', 'police', 'justice', 'laws', 'the', 'criminal', 'enforcement', 'in', 'lawyers']",
         "[\"Well, I don't know in the case of the trial lawyers.\", 'We have to work with the police.', 'Thirty years ago there were three police officers on the street for every crime; today there are three crimes for every police officer.']",
         "271",
         "126",
         "0.31738035264483627"
        ],
        [
         "11",
         "10",
         "395",
         "10_soviet_russia_union_putin",
         "['soviet', 'russia', 'union', 'putin', 'russians', 'the', 'with', 'in', 'of', 'that']",
         "['Ukraine, right now, is in the sights of Vladimir Putin, those that want to reassemble the old Soviet Union.', 'I would not let the Soviet Union get their hands on it at all.', 'We have serious differences with the Soviet Union.']",
         "281",
         "114",
         "0.28860759493670884"
        ],
        [
         "13",
         "12",
         "384",
         "12_nuclear_weapons_missiles_atomic",
         "['nuclear', 'weapons', 'missiles', 'atomic', 'arms', 'of', 'we', 'proliferation', 'missile', 'the']",
         "[\"That's how we got a treaty reducing nuclear weapons.\", \"It's important for the nuclear weapons.\", 'All the nuclear weapons are not dismantled.']",
         "262",
         "122",
         "0.3177083333333333"
        ],
        [
         "32",
         "31",
         "362",
         "31_election_campaign_vote_this",
         "['election', 'campaign', 'vote', 'this', 'elections', 'about', 'is', 'the', 'of', 'polls']",
         "['This is what this election is all about.', \"That's what this election is about.\", \"But that's what the election's about.\"]",
         "317",
         "45",
         "0.12430939226519337"
        ],
        [
         "16",
         "15",
         "361",
         "15_problem_issue_problems_issues",
         "['problem', 'issue', 'problems', 'issues', 'fix', 'its', 'think', 'is', 'this', 'we']",
         "['Well, they are the same in this issue.', 'And I have not made it an issue, nor should it be.', 'The issue is what you do about it.']",
         "343",
         "18",
         "0.04986149584487535"
        ],
        [
         "34",
         "33",
         "359",
         "33_responsibility_make_we_decisions",
         "['responsibility', 'make', 'we', 'decisions', 'decision', 'important', 'think', 'have', 'to', 'its']",
         "[\"It's a moral responsibility for us and the world.\", \"And I'll take responsibility for them.\", 'And we have a responsibility.']",
         "354",
         "5",
         "0.013927576601671309"
        ],
        [
         "35",
         "34",
         "322",
         "34_safe_we_protect_security",
         "['safe', 'we', 'protect', 'security', 'our', 'to', 'safer', 'make', 'are', 'be']",
         "[\"We're going to make America safe again.\", 'America needed to be safe.', 'I think it -- that we have a safer nation, but we are a long way from safe.']",
         "295",
         "27",
         "0.08385093167701864"
        ],
        [
         "50",
         "49",
         "312",
         "49_money_pay_costs_cost",
         "['money', 'pay', 'costs', 'cost', 'they', 'paid', 'to', 'for', 'you', 'going']",
         "['But they have to pay up.', \"Why don't you give back the money?\", 'And yet you take their money.']",
         "221",
         "91",
         "0.2916666666666667"
        ],
        [
         "24",
         "23",
         "298",
         "23_children_families_child_parents",
         "['children', 'families', 'child', 'parents', 'family', 'kids', 'and', 'to', 'their', 'my']",
         "['Parents are going to have to show more responsibility.', \"And recently the Federal Trade Commission pointed out that some of these entertainment companies have warned parents that the material is inappropriate for children, and then they've turned around behind the backs of the parents and advertised that same adult material directly to children.\", 'And by that I want to have child care where the families, the parents, have control.']",
         "260",
         "38",
         "0.12751677852348994"
        ],
        [
         "27",
         "26",
         "284",
         "26_afghanistan_bin_laden_pakistan",
         "['afghanistan', 'bin', 'laden', 'pakistan', 'al', 'osama', 'qaida', 'we', 'iraq', 'terror']",
         "[\"I'll get Osama bin Laden, my friends.\", 'We had to go in there to get Osama bin Laden.', \"And that's what Osama bin Laden's handbook said, because we captured it in Afghanistan.\"]",
         "184",
         "100",
         "0.352112676056338"
        ],
        [
         "52",
         "51",
         "278",
         "51_saddam_hussein_he_iraq",
         "['saddam', 'hussein', 'he', 'iraq', 'was', 'war', 'threat', 'would', 'said', 'did']",
         "[\"Saddam Hussein didn't attack us.\", 'He also said Saddam Hussein would have been stronger.', \"Now, let's go back to Saddam Hussein.\"]",
         "167",
         "111",
         "0.39928057553956836"
        ],
        [
         "19",
         "18",
         "262",
         "18_trade_deals_free_agreements",
         "['trade', 'deals', 'free', 'agreements', 'agreement', 'nafta', 'our', 'we', 'to', 'have']",
         "['That is not free trade.', \"We don't have free trade.\", 'Many would trade for it.']",
         "192",
         "70",
         "0.26717557251908397"
        ],
        [
         "30",
         "29",
         "248",
         "29_governor_governors_state_clinton",
         "['governor', 'governors', 'state', 'clinton', 'carter', 'of', 'as', 'georgia', 'the', 'was']",
         "[\"The governors -- and I believe Governor Clinton was in on this -- but maybe -- I don't want to invoke him here.\", 'Let me help the governor.', \"Governor -- here -- here's -- here's one thing...\"]",
         "171",
         "77",
         "0.31048387096774194"
        ],
        [
         "22",
         "21",
         "247",
         "21_washington_congress_the_house",
         "['washington', 'congress', 'the', 'house', 'in', 'dc', 'and', 'to', 'get', 'of']",
         "[\"We've got to do that in Washington.\", \"Washington, by itself, can't do it all.\", \"There's too much bitterness in Washington.\"]",
         "209",
         "38",
         "0.15384615384615385"
        ],
        [
         "39",
         "38",
         "233",
         "38_years_four_ago_last",
         "['years', 'four', 'ago', 'last', 'eight', 'been', 'weve', 'over', 'than', 'better']",
         "['We are better off than we were four years ago.', \"Well, he's better off than he was four years ago.\", 'We are better off than we were four years ago.']",
         "189",
         "44",
         "0.1888412017167382"
        ],
        [
         "18",
         "17",
         "227",
         "17_court_amendment_judges_supreme",
         "['court', 'amendment', 'judges', 'supreme', 'constitution', 'rights', 'justices', 'the', 'judge', 'constitutional']",
         "['A governor gets to name supreme court judges.', 'The question was about the Supreme Court.', \"The Supreme Court: It's what it's all about.\"]",
         "188",
         "39",
         "0.17180616740088106"
        ],
        [
         "59",
         "58",
         "220",
         "58_plan_my_plans_you",
         "['plan', 'my', 'plans', 'you', 'have', 'proposed', 'ive', 'future', 'what', 'is']",
         "['And give us a plan.', 'But I have a plan to do it.', 'I have my own plan.']",
         "194",
         "26",
         "0.11818181818181818"
        ],
        [
         "31",
         "30",
         "209",
         "30_bill_veto_vetoed_passed",
         "['bill', 'veto', 'vetoed', 'passed', 'bills', 'congress', 'president', 'the', 'it', 'was']",
         "['I vetoed a number of bills of that kind myself, when I was in California.', \"If you care about it, why don't you veto it?\", \"The President shouldn't have vetoed that bill.\"]",
         "94",
         "115",
         "0.5502392344497608"
        ],
        [
         "47",
         "46",
         "199",
         "46_border_borders_immigration_country",
         "['border', 'borders', 'immigration', 'country', 'immigrants', 'here', 'we', 'to', 'are', 'people']",
         "[\"We've got 1,000 extra border patrol on the southern border; want 1,000 on the northern border.\", 'We have no country if we have no border.', \"We either have a border or we don't.\"]",
         "146",
         "53",
         "0.2663316582914573"
        ],
        [
         "53",
         "52",
         "191",
         "52_nixon_mr_administration_truman",
         "['nixon', 'mr', 'administration', 'truman', 'was', 'uh', 'president', 'the', 'he', 'his']",
         "['Well, Mr. Nixon, to go back to 1955.', \"Now that's an issue between Mr. Nixon and myself.\", 'Mr. Nixon has been part of that Administration.']",
         "121",
         "70",
         "0.36649214659685864"
        ],
        [
         "41",
         "40",
         "185",
         "40_leadership_leader_lead_kind",
         "['leadership', 'leader', 'lead', 'kind', 'must', 'of', 'that', 'the', 'as', 'we']",
         "[\"I think that's what leadership is all about.\", 'But we have no leadership.', \"That's what leadership is all about.\"]",
         "176",
         "9",
         "0.04864864864864865"
        ],
        [
         "40",
         "39",
         "181",
         "39_difference_different_opinion_differences",
         "['difference', 'different', 'opinion', 'differences', 'fundamental', 'disagree', 'big', 'just', 'think', 'between']",
         "[\"It's a fundamental difference of opinion here, folks.\", \"It's a fundamental difference of opinion.\", 'We have a fundamental difference of opinion.']",
         "176",
         "5",
         "0.027624309392265192"
        ],
        [
         "62",
         "61",
         "181",
         "61_peace_world_freedom_we",
         "['peace', 'world', 'freedom', 'we', 'our', 'the', 'to', 'and', 'strong', 'that']",
         "['World peace is important, and we have enhanced the peace.', \"And that's how best it is to keep the peace.\", \"He talks about peace and I'm thankful for peace.\"]",
         "167",
         "14",
         "0.07734806629834254"
        ],
        [
         "28",
         "27",
         "173",
         "27_iran_sanctions_nuclear_with",
         "['iran', 'sanctions', 'nuclear', 'with', 'iranian', 'ahmadinejad', 'iranians', 'threat', 'is', 'to']",
         "[\"Number two, with regards to Iran and the threat of Iran, there's no question but that a nuclear Iran, a nuclear-capable Iran is unacceptable to America.\", 'It was not my administration that put the sanctions on Iran.', \"But to the issue of Iran, as long as I'm president of the United States Iran will not get a nuclear weapon.\"]",
         "104",
         "69",
         "0.3988439306358382"
        ],
        [
         "29",
         "28",
         "167",
         "28_cuba_latin_castro_america",
         "['cuba', 'latin', 'castro', 'america', 'haiti', 'in', 'central', 'was', 'the', 'influence']",
         "['If the United States had stronger prestige and influence in Latin America it could persuade - as Franklin Roosevelt did in 1940 - the countries of Latin America to join in an economic quarantine of Castro.', 'I have seen Communist influence and Castro influence rise in Latin America.', 'Number three, Castro is only the beginning of our difficulties throughout Latin America.']",
         "103",
         "64",
         "0.38323353293413176"
        ],
        [
         "21",
         "20",
         "161",
         "20_abortion_abortions_roe_wade",
         "['abortion', 'abortions', 'roe', 'wade', 'unborn', 'women', 'woman', 'child', 'her', 'that']",
         "[\"I - I'm strongly against a- abortion.\", \"These weren't taken from abortion or something like that.\", 'Take, for example, the ban on partial birth abortion.']",
         "125",
         "36",
         "0.2236024844720497"
        ],
        [
         "26",
         "25",
         "161",
         "25_thank_jim_university_bob",
         "['thank', 'jim', 'university', 'bob', 'you', 'hosting', 'much', 'well', 'want', 'all']",
         "['Thank you, Jim, very much.', 'Jim, thank you very much.', 'Thank you very much, Jim.']",
         "159",
         "2",
         "0.012422360248447204"
        ],
        [
         "51",
         "50",
         "154",
         "50_housing_homes_home_loans",
         "['housing', 'homes', 'home', 'loans', 'mortgage', 'banks', 'mortgages', 'loan', 'their', 'uh']",
         "['And housing starts - he compares the housing starts with last year.', 'The government was very much involved; so was the housing industry; so was the banking industry; so were housing advocates; so were non-profit agencies; so were governors and mayors and people all over this country who believe deeply in home ownership and affordable housing.', \"But it's going to take a president who's committed to housing, who's had experience in building and rehabilitating housing who understands that affordable housing for families of low and moderate income, for young families, first time home buyers, is an essential part of the American dream.\"]",
         "83",
         "71",
         "0.461038961038961"
        ],
        [
         "23",
         "22",
         "153",
         "22_gun_guns_handguns_hands",
         "['gun', 'guns', 'handguns', 'hands', 'criminals', 'background', 'registration', 'who', 'handgun', 'of']",
         "[\"You don't buy any gun.\", \"I believe in background checks at gun shows or anywhere to make sure that guns don't get in the hands of people that shouldn't have them.\", \"You don't get any gun.\"]",
         "112",
         "41",
         "0.2679738562091503"
        ],
        [
         "36",
         "35",
         "140",
         "35_state_texas_in_states",
         "['state', 'texas', 'in', 'states', 'new', 'arkansas', 'go', 'my', 'york', 'california']",
         "[\"We've done so in my own state.\", 'So this is a show me state.', 'We do so in my state of Texas.']",
         "102",
         "38",
         "0.2714285714285714"
        ],
        [
         "48",
         "47",
         "137",
         "47_water_environment_air_pollution",
         "['water', 'environment', 'air', 'pollution', 'conservation', 'clean', 'environmental', 'land', 'lands', 'the']",
         "['But the only way you can express your love for clean water is to double the appropriations for clean water, and then rant against the deficit.', 'We sent up a good bill on clean water, a sound bill on clean water.', 'I am for clean water.']",
         "94",
         "43",
         "0.31386861313868614"
        ],
        [
         "57",
         "56",
         "136",
         "56_africa_nations_african_countries",
         "['africa', 'nations', 'african', 'countries', 'southern', 'united', 'un', 'in', 'we', 'south']",
         "['Well, I understand, and Africa is important.', 'We have taken the initiative, and in southern Africa today the United States is trusted by the black front-line nations and black Africa.', 'In Africa we did not.']",
         "82",
         "54",
         "0.39705882352941174"
        ],
        [
         "49",
         "48",
         "134",
         "48_vice_president_presidential_mr",
         "['vice', 'president', 'presidential', 'mr', 'the', 'who', 'presidents', 'is', 'and', 'that']",
         "[\"You've had your chance, Vice President, you've been there for eight years and nothing has been done.\", \"You've -- you've made your point, Vice President.\", 'As the vice president is.']",
         "114",
         "20",
         "0.14925373134328357"
        ],
        [
         "58",
         "57",
         "134",
         "57_mistake_wrong_made_mistakes",
         "['mistake', 'wrong', 'made', 'mistakes', 'was', 'think', 'he', 'right', 'it', 'thing']",
         "['That was not a mistake.', 'That was more than a mistake.', 'And I made a mistake.']",
         "126",
         "8",
         "0.05970149253731343"
        ]
       ],
       "shape": {
        "columns": 8,
        "rows": 63
       }
      },
      "text/html": [
       "<div>\n",
       "<style scoped>\n",
       "    .dataframe tbody tr th:only-of-type {\n",
       "        vertical-align: middle;\n",
       "    }\n",
       "\n",
       "    .dataframe tbody tr th {\n",
       "        vertical-align: top;\n",
       "    }\n",
       "\n",
       "    .dataframe thead th {\n",
       "        text-align: right;\n",
       "    }\n",
       "</style>\n",
       "<table border=\"1\" class=\"dataframe\">\n",
       "  <thead>\n",
       "    <tr style=\"text-align: right;\">\n",
       "      <th></th>\n",
       "      <th>Topic</th>\n",
       "      <th>Count</th>\n",
       "      <th>Name</th>\n",
       "      <th>Representation</th>\n",
       "      <th>Representative_Docs</th>\n",
       "      <th>No</th>\n",
       "      <th>Yes</th>\n",
       "      <th>pos_ratio</th>\n",
       "    </tr>\n",
       "  </thead>\n",
       "  <tbody>\n",
       "    <tr>\n",
       "      <th>0</th>\n",
       "      <td>-1</td>\n",
       "      <td>3213</td>\n",
       "      <td>-1_you_he_it_was</td>\n",
       "      <td>[you, he, it, was, and, the, of, they, that, t...</td>\n",
       "      <td>[You know, back in 1987, he took out a $100,00...</td>\n",
       "      <td>2701</td>\n",
       "      <td>512</td>\n",
       "      <td>0.159353</td>\n",
       "    </tr>\n",
       "    <tr>\n",
       "      <th>3</th>\n",
       "      <td>2</td>\n",
       "      <td>1407</td>\n",
       "      <td>2_economy_budget_spending_billion</td>\n",
       "      <td>[economy, budget, spending, billion, deficit, ...</td>\n",
       "      <td>[I will pay down the national debt., When Pres...</td>\n",
       "      <td>769</td>\n",
       "      <td>638</td>\n",
       "      <td>0.453447</td>\n",
       "    </tr>\n",
       "    <tr>\n",
       "      <th>1</th>\n",
       "      <td>0</td>\n",
       "      <td>1353</td>\n",
       "      <td>0_health_care_social_medicare</td>\n",
       "      <td>[health, care, social, medicare, insurance, se...</td>\n",
       "      <td>[I want to do something about Social Security....</td>\n",
       "      <td>822</td>\n",
       "      <td>531</td>\n",
       "      <td>0.392461</td>\n",
       "    </tr>\n",
       "    <tr>\n",
       "      <th>6</th>\n",
       "      <td>5</td>\n",
       "      <td>994</td>\n",
       "      <td>5_do_we_to_going</td>\n",
       "      <td>[do, we, to, going, it, were, can, what, weve,...</td>\n",
       "      <td>[Now, there's more work to do., But we have so...</td>\n",
       "      <td>968</td>\n",
       "      <td>26</td>\n",
       "      <td>0.026157</td>\n",
       "    </tr>\n",
       "    <tr>\n",
       "      <th>2</th>\n",
       "      <td>1</td>\n",
       "      <td>981</td>\n",
       "      <td>1_tax_taxes_cut_for</td>\n",
       "      <td>[tax, taxes, cut, for, cuts, the, increase, pe...</td>\n",
       "      <td>[This is a family tax cut., I have a tax cut.,...</td>\n",
       "      <td>527</td>\n",
       "      <td>454</td>\n",
       "      <td>0.462793</td>\n",
       "    </tr>\n",
       "    <tr>\n",
       "      <th>...</th>\n",
       "      <td>...</td>\n",
       "      <td>...</td>\n",
       "      <td>...</td>\n",
       "      <td>...</td>\n",
       "      <td>...</td>\n",
       "      <td>...</td>\n",
       "      <td>...</td>\n",
       "      <td>...</td>\n",
       "    </tr>\n",
       "    <tr>\n",
       "      <th>37</th>\n",
       "      <td>36</td>\n",
       "      <td>108</td>\n",
       "      <td>36_romney_governor_romneys_he</td>\n",
       "      <td>[romney, governor, romneys, he, said, says, wh...</td>\n",
       "      <td>[Governor Romney, here's what we did., Governo...</td>\n",
       "      <td>64</td>\n",
       "      <td>44</td>\n",
       "      <td>0.407407</td>\n",
       "    </tr>\n",
       "    <tr>\n",
       "      <th>45</th>\n",
       "      <td>44</td>\n",
       "      <td>102</td>\n",
       "      <td>44_mccain_senator_mccains_john</td>\n",
       "      <td>[mccain, senator, mccains, john, earmarks, cam...</td>\n",
       "      <td>[What Senator McCain doesn't mention is he's b...</td>\n",
       "      <td>77</td>\n",
       "      <td>25</td>\n",
       "      <td>0.245098</td>\n",
       "    </tr>\n",
       "    <tr>\n",
       "      <th>56</th>\n",
       "      <td>55</td>\n",
       "      <td>86</td>\n",
       "      <td>55_ford_mr_uh_has</td>\n",
       "      <td>[ford, mr, uh, has, president, the, administra...</td>\n",
       "      <td>[Mr. Ford hasn't moved on this., I hope Mr. Fo...</td>\n",
       "      <td>45</td>\n",
       "      <td>41</td>\n",
       "      <td>0.476744</td>\n",
       "    </tr>\n",
       "    <tr>\n",
       "      <th>54</th>\n",
       "      <td>53</td>\n",
       "      <td>75</td>\n",
       "      <td>53_islands_formosa_quemoy_matsu</td>\n",
       "      <td>[islands, formosa, quemoy, matsu, pescadores, ...</td>\n",
       "      <td>[But I do not believe that that line in case o...</td>\n",
       "      <td>41</td>\n",
       "      <td>34</td>\n",
       "      <td>0.453333</td>\n",
       "    </tr>\n",
       "    <tr>\n",
       "      <th>60</th>\n",
       "      <td>59</td>\n",
       "      <td>73</td>\n",
       "      <td>59_test_testing_tests_litmus</td>\n",
       "      <td>[test, testing, tests, litmus, any, atmosphere...</td>\n",
       "      <td>[And the answer is, no, I will not have a litm...</td>\n",
       "      <td>66</td>\n",
       "      <td>7</td>\n",
       "      <td>0.095890</td>\n",
       "    </tr>\n",
       "  </tbody>\n",
       "</table>\n",
       "<p>63 rows × 8 columns</p>\n",
       "</div>"
      ],
      "text/plain": [
       "    Topic  Count                               Name  \\\n",
       "0      -1   3213                   -1_you_he_it_was   \n",
       "3       2   1407  2_economy_budget_spending_billion   \n",
       "1       0   1353      0_health_care_social_medicare   \n",
       "6       5    994                   5_do_we_to_going   \n",
       "2       1    981                1_tax_taxes_cut_for   \n",
       "..    ...    ...                                ...   \n",
       "37     36    108      36_romney_governor_romneys_he   \n",
       "45     44    102     44_mccain_senator_mccains_john   \n",
       "56     55     86                  55_ford_mr_uh_has   \n",
       "54     53     75    53_islands_formosa_quemoy_matsu   \n",
       "60     59     73       59_test_testing_tests_litmus   \n",
       "\n",
       "                                       Representation  \\\n",
       "0   [you, he, it, was, and, the, of, they, that, t...   \n",
       "3   [economy, budget, spending, billion, deficit, ...   \n",
       "1   [health, care, social, medicare, insurance, se...   \n",
       "6   [do, we, to, going, it, were, can, what, weve,...   \n",
       "2   [tax, taxes, cut, for, cuts, the, increase, pe...   \n",
       "..                                                ...   \n",
       "37  [romney, governor, romneys, he, said, says, wh...   \n",
       "45  [mccain, senator, mccains, john, earmarks, cam...   \n",
       "56  [ford, mr, uh, has, president, the, administra...   \n",
       "54  [islands, formosa, quemoy, matsu, pescadores, ...   \n",
       "60  [test, testing, tests, litmus, any, atmosphere...   \n",
       "\n",
       "                                  Representative_Docs    No  Yes  pos_ratio  \n",
       "0   [You know, back in 1987, he took out a $100,00...  2701  512   0.159353  \n",
       "3   [I will pay down the national debt., When Pres...   769  638   0.453447  \n",
       "1   [I want to do something about Social Security....   822  531   0.392461  \n",
       "6   [Now, there's more work to do., But we have so...   968   26   0.026157  \n",
       "2   [This is a family tax cut., I have a tax cut.,...   527  454   0.462793  \n",
       "..                                                ...   ...  ...        ...  \n",
       "37  [Governor Romney, here's what we did., Governo...    64   44   0.407407  \n",
       "45  [What Senator McCain doesn't mention is he's b...    77   25   0.245098  \n",
       "56  [Mr. Ford hasn't moved on this., I hope Mr. Fo...    45   41   0.476744  \n",
       "54  [But I do not believe that that line in case o...    41   34   0.453333  \n",
       "60  [And the answer is, no, I will not have a litm...    66    7   0.095890  \n",
       "\n",
       "[63 rows x 8 columns]"
      ]
     },
     "execution_count": 19,
     "metadata": {},
     "output_type": "execute_result"
    }
   ],
   "source": [
    "topic_info = get_topic_info(topic_model=topic_model, text_list=text_list, dataframe=df)\n",
    "topic_info\n",
    "topic_info.sort_values(by=[\"Count\"], ascending=False)"
   ]
  },
  {
   "cell_type": "code",
   "execution_count": 20,
   "id": "f5474647",
   "metadata": {},
   "outputs": [
    {
     "data": {
      "application/vnd.microsoft.datawrangler.viewer.v0+json": {
       "columns": [
        {
         "name": "index",
         "rawType": "int64",
         "type": "integer"
        },
        {
         "name": "Topic",
         "rawType": "int64",
         "type": "integer"
        },
        {
         "name": "Count",
         "rawType": "int64",
         "type": "integer"
        },
        {
         "name": "Name",
         "rawType": "object",
         "type": "string"
        },
        {
         "name": "Representation",
         "rawType": "object",
         "type": "unknown"
        },
        {
         "name": "Representative_Docs",
         "rawType": "object",
         "type": "unknown"
        },
        {
         "name": "No",
         "rawType": "int64",
         "type": "integer"
        },
        {
         "name": "Yes",
         "rawType": "int64",
         "type": "integer"
        },
        {
         "name": "pos_ratio",
         "rawType": "float64",
         "type": "float"
        }
       ],
       "ref": "2ebbd643-b29f-4910-b597-39c89c8a2048",
       "rows": [
        [
         "3",
         "2",
         "1407",
         "2_economy_budget_spending_billion",
         "['economy', 'budget', 'spending', 'billion', 'deficit', 'the', 'debt', 'we', 'trillion', 'in']",
         "['I will pay down the national debt.', 'When President Bush came into office, we had a budget surplus and the national debt was a little over $5 trillion.', \"And then we're going to have to get to a balanced budget.\"]",
         "769",
         "638",
         "0.4534470504619758"
        ],
        [
         "1",
         "0",
         "1353",
         "0_health_care_social_medicare",
         "['health', 'care', 'social', 'medicare', 'insurance', 'security', 'drugs', 'to', 'seniors', 'for']",
         "['I want to do something about Social Security.', 'There is something else about Social Security.', 'Now, Social Security has never done that.']",
         "822",
         "531",
         "0.3924611973392461"
        ],
        [
         "2",
         "1",
         "981",
         "1_tax_taxes_cut_for",
         "['tax', 'taxes', 'cut', 'for', 'cuts', 'the', 'increase', 'percent', 'to', 'you']",
         "['This is a family tax cut.', 'I have a tax cut.', 'They have a VAT tax.']",
         "527",
         "454",
         "0.46279306829765543"
        ],
        [
         "4",
         "3",
         "841",
         "3_jobs_unemployment_million_small",
         "['jobs', 'unemployment', 'million', 'small', 'business', 'people', 'job', 'create', 'work', 'in']",
         "[\"We've had record numbers of new small businesses and 10 and a half million jobs.\", 'Our jobs are fleeing the country.', 'For me, this is about jobs.']",
         "519",
         "322",
         "0.38287752675386444"
        ],
        [
         "17",
         "16",
         "682",
         "16_military_troops_our_war",
         "['military', 'troops', 'our', 'war', 'we', 'forces', 'to', 'and', 'the', 'iraq']",
         "['Some of our troops are not well-equipped.', \"But the military -- let's get back to the military, though.\", 'We have a depleted military.']",
         "526",
         "156",
         "0.2287390029325513"
        ],
        [
         "5",
         "4",
         "611",
         "4_education_schools_school_teachers",
         "['education', 'schools', 'school', 'teachers', 'college', 'public', 'to', 'children', 'kids', 'in']",
         "[\"So we've got to get our education system right.\", 'We can do better in our public schools.', 'All of our children have gone to both public schools and private schools.']",
         "443",
         "168",
         "0.27495908346972175"
        ],
        [
         "15",
         "14",
         "607",
         "14_senator_senate_republican_voted",
         "['senator', 'senate', 'republican', 'voted', 'obama', 'was', 'he', 'the', 'republicans', 'democratic']",
         "['Of course, we have to do some things tactically, some of which Senator Obama is correct on.', 'Senator Obama has opposed that.', \"But I'm not going to telegraph my punches, which is what Senator Obama did.\"]",
         "395",
         "212",
         "0.34925864909390447"
        ],
        [
         "7",
         "6",
         "479",
         "6_energy_oil_coal_gas",
         "['energy', 'oil', 'coal', 'gas', 'production', 'we', 'our', 'clean', 'solar', 'of']",
         "['I want to control our own energy by developing oil and natural gas but also the energy sources of the future.', \"It hasn't produced a quart of oil or a lump of coal, or anything else in the line of energy.\", 'It had everything to do with energy.']",
         "292",
         "187",
         "0.3903966597077244"
        ],
        [
         "20",
         "19",
         "429",
         "19_government_federal_reform_the",
         "['government', 'federal', 'reform', 'the', 'of', 'to', 'we', 'that', 'and', 'have']",
         "[\"I'd like the government to have that.\", 'Here is the role of the federal government.', \"Federal government doesn't do that.\"]",
         "357",
         "72",
         "0.16783216783216784"
        ],
        [
         "9",
         "8",
         "423",
         "8_she_her_shes_hillary",
         "['she', 'her', 'shes', 'hillary', 'emails', 'and', 'was', 'woman', 'said', 'you']",
         "[\"The problem is, you talk, but you don't get anything done, Hillary.\", 'Hillary wants to give amnesty.', \"I don't believe Hillary will.\"]",
         "322",
         "101",
         "0.23877068557919623"
        ],
        [
         "12",
         "11",
         "423",
         "11_israel_east_middle_isis",
         "['israel', 'east', 'middle', 'isis', 'syria', 'in', 'the', 'and', 'with', 'to']",
         "[\"Peace in the Middle East is in our nation's interests.\", \"I've got a strategy for the Middle East.\", \"They've taken over the Middle East.\"]",
         "297",
         "126",
         "0.2978723404255319"
        ],
        [
         "14",
         "13",
         "397",
         "13_law_crime_police_justice",
         "['law', 'crime', 'police', 'justice', 'laws', 'the', 'criminal', 'enforcement', 'in', 'lawyers']",
         "[\"Well, I don't know in the case of the trial lawyers.\", 'We have to work with the police.', 'Thirty years ago there were three police officers on the street for every crime; today there are three crimes for every police officer.']",
         "271",
         "126",
         "0.31738035264483627"
        ],
        [
         "11",
         "10",
         "395",
         "10_soviet_russia_union_putin",
         "['soviet', 'russia', 'union', 'putin', 'russians', 'the', 'with', 'in', 'of', 'that']",
         "['Ukraine, right now, is in the sights of Vladimir Putin, those that want to reassemble the old Soviet Union.', 'I would not let the Soviet Union get their hands on it at all.', 'We have serious differences with the Soviet Union.']",
         "281",
         "114",
         "0.28860759493670884"
        ],
        [
         "13",
         "12",
         "384",
         "12_nuclear_weapons_missiles_atomic",
         "['nuclear', 'weapons', 'missiles', 'atomic', 'arms', 'of', 'we', 'proliferation', 'missile', 'the']",
         "[\"That's how we got a treaty reducing nuclear weapons.\", \"It's important for the nuclear weapons.\", 'All the nuclear weapons are not dismantled.']",
         "262",
         "122",
         "0.3177083333333333"
        ],
        [
         "32",
         "31",
         "362",
         "31_election_campaign_vote_this",
         "['election', 'campaign', 'vote', 'this', 'elections', 'about', 'is', 'the', 'of', 'polls']",
         "['This is what this election is all about.', \"That's what this election is about.\", \"But that's what the election's about.\"]",
         "317",
         "45",
         "0.12430939226519337"
        ],
        [
         "50",
         "49",
         "312",
         "49_money_pay_costs_cost",
         "['money', 'pay', 'costs', 'cost', 'they', 'paid', 'to', 'for', 'you', 'going']",
         "['But they have to pay up.', \"Why don't you give back the money?\", 'And yet you take their money.']",
         "221",
         "91",
         "0.2916666666666667"
        ],
        [
         "24",
         "23",
         "298",
         "23_children_families_child_parents",
         "['children', 'families', 'child', 'parents', 'family', 'kids', 'and', 'to', 'their', 'my']",
         "['Parents are going to have to show more responsibility.', \"And recently the Federal Trade Commission pointed out that some of these entertainment companies have warned parents that the material is inappropriate for children, and then they've turned around behind the backs of the parents and advertised that same adult material directly to children.\", 'And by that I want to have child care where the families, the parents, have control.']",
         "260",
         "38",
         "0.12751677852348994"
        ],
        [
         "27",
         "26",
         "284",
         "26_afghanistan_bin_laden_pakistan",
         "['afghanistan', 'bin', 'laden', 'pakistan', 'al', 'osama', 'qaida', 'we', 'iraq', 'terror']",
         "[\"I'll get Osama bin Laden, my friends.\", 'We had to go in there to get Osama bin Laden.', \"And that's what Osama bin Laden's handbook said, because we captured it in Afghanistan.\"]",
         "184",
         "100",
         "0.352112676056338"
        ],
        [
         "52",
         "51",
         "278",
         "51_saddam_hussein_he_iraq",
         "['saddam', 'hussein', 'he', 'iraq', 'was', 'war', 'threat', 'would', 'said', 'did']",
         "[\"Saddam Hussein didn't attack us.\", 'He also said Saddam Hussein would have been stronger.', \"Now, let's go back to Saddam Hussein.\"]",
         "167",
         "111",
         "0.39928057553956836"
        ],
        [
         "19",
         "18",
         "262",
         "18_trade_deals_free_agreements",
         "['trade', 'deals', 'free', 'agreements', 'agreement', 'nafta', 'our', 'we', 'to', 'have']",
         "['That is not free trade.', \"We don't have free trade.\", 'Many would trade for it.']",
         "192",
         "70",
         "0.26717557251908397"
        ],
        [
         "30",
         "29",
         "248",
         "29_governor_governors_state_clinton",
         "['governor', 'governors', 'state', 'clinton', 'carter', 'of', 'as', 'georgia', 'the', 'was']",
         "[\"The governors -- and I believe Governor Clinton was in on this -- but maybe -- I don't want to invoke him here.\", 'Let me help the governor.', \"Governor -- here -- here's -- here's one thing...\"]",
         "171",
         "77",
         "0.31048387096774194"
        ],
        [
         "22",
         "21",
         "247",
         "21_washington_congress_the_house",
         "['washington', 'congress', 'the', 'house', 'in', 'dc', 'and', 'to', 'get', 'of']",
         "[\"We've got to do that in Washington.\", \"Washington, by itself, can't do it all.\", \"There's too much bitterness in Washington.\"]",
         "209",
         "38",
         "0.15384615384615385"
        ],
        [
         "18",
         "17",
         "227",
         "17_court_amendment_judges_supreme",
         "['court', 'amendment', 'judges', 'supreme', 'constitution', 'rights', 'justices', 'the', 'judge', 'constitutional']",
         "['A governor gets to name supreme court judges.', 'The question was about the Supreme Court.', \"The Supreme Court: It's what it's all about.\"]",
         "188",
         "39",
         "0.17180616740088106"
        ],
        [
         "31",
         "30",
         "209",
         "30_bill_veto_vetoed_passed",
         "['bill', 'veto', 'vetoed', 'passed', 'bills', 'congress', 'president', 'the', 'it', 'was']",
         "['I vetoed a number of bills of that kind myself, when I was in California.', \"If you care about it, why don't you veto it?\", \"The President shouldn't have vetoed that bill.\"]",
         "94",
         "115",
         "0.5502392344497608"
        ],
        [
         "47",
         "46",
         "199",
         "46_border_borders_immigration_country",
         "['border', 'borders', 'immigration', 'country', 'immigrants', 'here', 'we', 'to', 'are', 'people']",
         "[\"We've got 1,000 extra border patrol on the southern border; want 1,000 on the northern border.\", 'We have no country if we have no border.', \"We either have a border or we don't.\"]",
         "146",
         "53",
         "0.2663316582914573"
        ],
        [
         "53",
         "52",
         "191",
         "52_nixon_mr_administration_truman",
         "['nixon', 'mr', 'administration', 'truman', 'was', 'uh', 'president', 'the', 'he', 'his']",
         "['Well, Mr. Nixon, to go back to 1955.', \"Now that's an issue between Mr. Nixon and myself.\", 'Mr. Nixon has been part of that Administration.']",
         "121",
         "70",
         "0.36649214659685864"
        ],
        [
         "28",
         "27",
         "173",
         "27_iran_sanctions_nuclear_with",
         "['iran', 'sanctions', 'nuclear', 'with', 'iranian', 'ahmadinejad', 'iranians', 'threat', 'is', 'to']",
         "[\"Number two, with regards to Iran and the threat of Iran, there's no question but that a nuclear Iran, a nuclear-capable Iran is unacceptable to America.\", 'It was not my administration that put the sanctions on Iran.', \"But to the issue of Iran, as long as I'm president of the United States Iran will not get a nuclear weapon.\"]",
         "104",
         "69",
         "0.3988439306358382"
        ],
        [
         "29",
         "28",
         "167",
         "28_cuba_latin_castro_america",
         "['cuba', 'latin', 'castro', 'america', 'haiti', 'in', 'central', 'was', 'the', 'influence']",
         "['If the United States had stronger prestige and influence in Latin America it could persuade - as Franklin Roosevelt did in 1940 - the countries of Latin America to join in an economic quarantine of Castro.', 'I have seen Communist influence and Castro influence rise in Latin America.', 'Number three, Castro is only the beginning of our difficulties throughout Latin America.']",
         "103",
         "64",
         "0.38323353293413176"
        ],
        [
         "21",
         "20",
         "161",
         "20_abortion_abortions_roe_wade",
         "['abortion', 'abortions', 'roe', 'wade', 'unborn', 'women', 'woman', 'child', 'her', 'that']",
         "[\"I - I'm strongly against a- abortion.\", \"These weren't taken from abortion or something like that.\", 'Take, for example, the ban on partial birth abortion.']",
         "125",
         "36",
         "0.2236024844720497"
        ],
        [
         "51",
         "50",
         "154",
         "50_housing_homes_home_loans",
         "['housing', 'homes', 'home', 'loans', 'mortgage', 'banks', 'mortgages', 'loan', 'their', 'uh']",
         "['And housing starts - he compares the housing starts with last year.', 'The government was very much involved; so was the housing industry; so was the banking industry; so were housing advocates; so were non-profit agencies; so were governors and mayors and people all over this country who believe deeply in home ownership and affordable housing.', \"But it's going to take a president who's committed to housing, who's had experience in building and rehabilitating housing who understands that affordable housing for families of low and moderate income, for young families, first time home buyers, is an essential part of the American dream.\"]",
         "83",
         "71",
         "0.461038961038961"
        ],
        [
         "23",
         "22",
         "153",
         "22_gun_guns_handguns_hands",
         "['gun', 'guns', 'handguns', 'hands', 'criminals', 'background', 'registration', 'who', 'handgun', 'of']",
         "[\"You don't buy any gun.\", \"I believe in background checks at gun shows or anywhere to make sure that guns don't get in the hands of people that shouldn't have them.\", \"You don't get any gun.\"]",
         "112",
         "41",
         "0.2679738562091503"
        ],
        [
         "36",
         "35",
         "140",
         "35_state_texas_in_states",
         "['state', 'texas', 'in', 'states', 'new', 'arkansas', 'go', 'my', 'york', 'california']",
         "[\"We've done so in my own state.\", 'So this is a show me state.', 'We do so in my state of Texas.']",
         "102",
         "38",
         "0.2714285714285714"
        ],
        [
         "48",
         "47",
         "137",
         "47_water_environment_air_pollution",
         "['water', 'environment', 'air', 'pollution', 'conservation', 'clean', 'environmental', 'land', 'lands', 'the']",
         "['But the only way you can express your love for clean water is to double the appropriations for clean water, and then rant against the deficit.', 'We sent up a good bill on clean water, a sound bill on clean water.', 'I am for clean water.']",
         "94",
         "43",
         "0.31386861313868614"
        ],
        [
         "57",
         "56",
         "136",
         "56_africa_nations_african_countries",
         "['africa', 'nations', 'african', 'countries', 'southern', 'united', 'un', 'in', 'we', 'south']",
         "['Well, I understand, and Africa is important.', 'We have taken the initiative, and in southern Africa today the United States is trusted by the black front-line nations and black Africa.', 'In Africa we did not.']",
         "82",
         "54",
         "0.39705882352941174"
        ],
        [
         "44",
         "43",
         "130",
         "43_korea_north_south_korean",
         "['korea', 'north', 'south', 'korean', 'japan', 'jong', 'il', 'kim', 'bilateral', 'peninsula']",
         "['As far as North Korea is concerned, our secretary of state, Madeleine Albright, went to North Korea.', 'China should go into North Korea.', 'North Korea, first, I do.']",
         "81",
         "49",
         "0.3769230769230769"
        ],
        [
         "42",
         "41",
         "124",
         "41_china_chinese_steel_republic",
         "['china', 'chinese', 'steel', 'republic', 'peoples', 'our', 'in', 'with', 'steelworkers', 'from']",
         "['That will not help us compete with China.', 'And so we can be a partner with China.', \"The problem is they'll be in china.\"]",
         "68",
         "56",
         "0.45161290322580644"
        ],
        [
         "43",
         "42",
         "116",
         "42_farmers_farm_farmer_agricultural",
         "['farmers', 'farm', 'farmer', 'agricultural', 'supply', 'agriculture', 'the', 'rural', 'income', 'and']",
         "[\"Give our farm families a decent income with spending $20to $25 billion a year on farm subsidies, and I'm sure we can do that.\", \"Until we get the surpluses off the farmer's back, however, we should have a program such as I announced, which will see that farm income holds up.\", 'I would like our farmers feeding the world.']",
         "81",
         "35",
         "0.3017241379310345"
        ],
        [
         "33",
         "32",
         "115",
         "32_kennedy_senator_kennedys_has",
         "['kennedy', 'senator', 'kennedys', 'has', 'as', 'he', 'that', 'would', 'his', 'in']",
         "['Senator Kennedy is in the hospital.', 'And so is Senator Kennedy a friend of yours.', \"We all have tempers; I have one; I'm sure Senator Kennedy has one.\"]",
         "90",
         "25",
         "0.21739130434782608"
        ],
        [
         "61",
         "60",
         "108",
         "60_dole_peace_senator_doles",
         "['dole', 'peace', 'senator', 'doles', 'bob', 'and', 'is', 'of', 'the', 'to']",
         "[\"And members of Senator Dole's own party in the Senate killed it.\", 'Senator Dole led the opposition to it.', \"I can only tell you that I don't think Senator Dole is too old to be president.\"]",
         "77",
         "31",
         "0.28703703703703703"
        ],
        [
         "37",
         "36",
         "108",
         "36_romney_governor_romneys_he",
         "['romney', 'governor', 'romneys', 'he', 'said', 'says', 'when', 'replace', 'hes', 'that']",
         "[\"Governor Romney, here's what we did.\", 'Governor Romney, you did not...', 'This is for Governor Romney?']",
         "64",
         "44",
         "0.4074074074074074"
        ],
        [
         "45",
         "44",
         "102",
         "44_mccain_senator_mccains_john",
         "['mccain', 'senator', 'mccains', 'john', 'earmarks', 'campaign', 'he', 'that', 'and', 'on']",
         "[\"What Senator McCain doesn't mention is he's been there 26 of them.\", \"Nobody's been talking about that, and Senator McCain knows it.\", \"Now, Senator McCain is also right that it's difficult.\"]",
         "77",
         "25",
         "0.24509803921568626"
        ],
        [
         "56",
         "55",
         "86",
         "55_ford_mr_uh_has",
         "['ford', 'mr', 'uh', 'has', 'president', 'the', 'administration', 'fords', 'that', 'of']",
         "[\"Mr. Ford hasn't moved on this.\", \"I hope Mr. Ford doesn't either.\", \"And Mr. Ford hasn't done anything about it.\"]",
         "45",
         "41",
         "0.47674418604651164"
        ]
       ],
       "shape": {
        "columns": 8,
        "rows": 42
       }
      },
      "text/html": [
       "<div>\n",
       "<style scoped>\n",
       "    .dataframe tbody tr th:only-of-type {\n",
       "        vertical-align: middle;\n",
       "    }\n",
       "\n",
       "    .dataframe tbody tr th {\n",
       "        vertical-align: top;\n",
       "    }\n",
       "\n",
       "    .dataframe thead th {\n",
       "        text-align: right;\n",
       "    }\n",
       "</style>\n",
       "<table border=\"1\" class=\"dataframe\">\n",
       "  <thead>\n",
       "    <tr style=\"text-align: right;\">\n",
       "      <th></th>\n",
       "      <th>Topic</th>\n",
       "      <th>Count</th>\n",
       "      <th>Name</th>\n",
       "      <th>Representation</th>\n",
       "      <th>Representative_Docs</th>\n",
       "      <th>No</th>\n",
       "      <th>Yes</th>\n",
       "      <th>pos_ratio</th>\n",
       "    </tr>\n",
       "  </thead>\n",
       "  <tbody>\n",
       "    <tr>\n",
       "      <th>3</th>\n",
       "      <td>2</td>\n",
       "      <td>1407</td>\n",
       "      <td>2_economy_budget_spending_billion</td>\n",
       "      <td>[economy, budget, spending, billion, deficit, ...</td>\n",
       "      <td>[I will pay down the national debt., When Pres...</td>\n",
       "      <td>769</td>\n",
       "      <td>638</td>\n",
       "      <td>0.453447</td>\n",
       "    </tr>\n",
       "    <tr>\n",
       "      <th>1</th>\n",
       "      <td>0</td>\n",
       "      <td>1353</td>\n",
       "      <td>0_health_care_social_medicare</td>\n",
       "      <td>[health, care, social, medicare, insurance, se...</td>\n",
       "      <td>[I want to do something about Social Security....</td>\n",
       "      <td>822</td>\n",
       "      <td>531</td>\n",
       "      <td>0.392461</td>\n",
       "    </tr>\n",
       "    <tr>\n",
       "      <th>2</th>\n",
       "      <td>1</td>\n",
       "      <td>981</td>\n",
       "      <td>1_tax_taxes_cut_for</td>\n",
       "      <td>[tax, taxes, cut, for, cuts, the, increase, pe...</td>\n",
       "      <td>[This is a family tax cut., I have a tax cut.,...</td>\n",
       "      <td>527</td>\n",
       "      <td>454</td>\n",
       "      <td>0.462793</td>\n",
       "    </tr>\n",
       "    <tr>\n",
       "      <th>4</th>\n",
       "      <td>3</td>\n",
       "      <td>841</td>\n",
       "      <td>3_jobs_unemployment_million_small</td>\n",
       "      <td>[jobs, unemployment, million, small, business,...</td>\n",
       "      <td>[We've had record numbers of new small busines...</td>\n",
       "      <td>519</td>\n",
       "      <td>322</td>\n",
       "      <td>0.382878</td>\n",
       "    </tr>\n",
       "    <tr>\n",
       "      <th>17</th>\n",
       "      <td>16</td>\n",
       "      <td>682</td>\n",
       "      <td>16_military_troops_our_war</td>\n",
       "      <td>[military, troops, our, war, we, forces, to, a...</td>\n",
       "      <td>[Some of our troops are not well-equipped., Bu...</td>\n",
       "      <td>526</td>\n",
       "      <td>156</td>\n",
       "      <td>0.228739</td>\n",
       "    </tr>\n",
       "    <tr>\n",
       "      <th>5</th>\n",
       "      <td>4</td>\n",
       "      <td>611</td>\n",
       "      <td>4_education_schools_school_teachers</td>\n",
       "      <td>[education, schools, school, teachers, college...</td>\n",
       "      <td>[So we've got to get our education system righ...</td>\n",
       "      <td>443</td>\n",
       "      <td>168</td>\n",
       "      <td>0.274959</td>\n",
       "    </tr>\n",
       "    <tr>\n",
       "      <th>15</th>\n",
       "      <td>14</td>\n",
       "      <td>607</td>\n",
       "      <td>14_senator_senate_republican_voted</td>\n",
       "      <td>[senator, senate, republican, voted, obama, wa...</td>\n",
       "      <td>[Of course, we have to do some things tactical...</td>\n",
       "      <td>395</td>\n",
       "      <td>212</td>\n",
       "      <td>0.349259</td>\n",
       "    </tr>\n",
       "    <tr>\n",
       "      <th>7</th>\n",
       "      <td>6</td>\n",
       "      <td>479</td>\n",
       "      <td>6_energy_oil_coal_gas</td>\n",
       "      <td>[energy, oil, coal, gas, production, we, our, ...</td>\n",
       "      <td>[I want to control our own energy by developin...</td>\n",
       "      <td>292</td>\n",
       "      <td>187</td>\n",
       "      <td>0.390397</td>\n",
       "    </tr>\n",
       "    <tr>\n",
       "      <th>20</th>\n",
       "      <td>19</td>\n",
       "      <td>429</td>\n",
       "      <td>19_government_federal_reform_the</td>\n",
       "      <td>[government, federal, reform, the, of, to, we,...</td>\n",
       "      <td>[I'd like the government to have that., Here i...</td>\n",
       "      <td>357</td>\n",
       "      <td>72</td>\n",
       "      <td>0.167832</td>\n",
       "    </tr>\n",
       "    <tr>\n",
       "      <th>9</th>\n",
       "      <td>8</td>\n",
       "      <td>423</td>\n",
       "      <td>8_she_her_shes_hillary</td>\n",
       "      <td>[she, her, shes, hillary, emails, and, was, wo...</td>\n",
       "      <td>[The problem is, you talk, but you don't get a...</td>\n",
       "      <td>322</td>\n",
       "      <td>101</td>\n",
       "      <td>0.238771</td>\n",
       "    </tr>\n",
       "    <tr>\n",
       "      <th>12</th>\n",
       "      <td>11</td>\n",
       "      <td>423</td>\n",
       "      <td>11_israel_east_middle_isis</td>\n",
       "      <td>[israel, east, middle, isis, syria, in, the, a...</td>\n",
       "      <td>[Peace in the Middle East is in our nation's i...</td>\n",
       "      <td>297</td>\n",
       "      <td>126</td>\n",
       "      <td>0.297872</td>\n",
       "    </tr>\n",
       "    <tr>\n",
       "      <th>14</th>\n",
       "      <td>13</td>\n",
       "      <td>397</td>\n",
       "      <td>13_law_crime_police_justice</td>\n",
       "      <td>[law, crime, police, justice, laws, the, crimi...</td>\n",
       "      <td>[Well, I don't know in the case of the trial l...</td>\n",
       "      <td>271</td>\n",
       "      <td>126</td>\n",
       "      <td>0.317380</td>\n",
       "    </tr>\n",
       "    <tr>\n",
       "      <th>11</th>\n",
       "      <td>10</td>\n",
       "      <td>395</td>\n",
       "      <td>10_soviet_russia_union_putin</td>\n",
       "      <td>[soviet, russia, union, putin, russians, the, ...</td>\n",
       "      <td>[Ukraine, right now, is in the sights of Vladi...</td>\n",
       "      <td>281</td>\n",
       "      <td>114</td>\n",
       "      <td>0.288608</td>\n",
       "    </tr>\n",
       "    <tr>\n",
       "      <th>13</th>\n",
       "      <td>12</td>\n",
       "      <td>384</td>\n",
       "      <td>12_nuclear_weapons_missiles_atomic</td>\n",
       "      <td>[nuclear, weapons, missiles, atomic, arms, of,...</td>\n",
       "      <td>[That's how we got a treaty reducing nuclear w...</td>\n",
       "      <td>262</td>\n",
       "      <td>122</td>\n",
       "      <td>0.317708</td>\n",
       "    </tr>\n",
       "    <tr>\n",
       "      <th>32</th>\n",
       "      <td>31</td>\n",
       "      <td>362</td>\n",
       "      <td>31_election_campaign_vote_this</td>\n",
       "      <td>[election, campaign, vote, this, elections, ab...</td>\n",
       "      <td>[This is what this election is all about., Tha...</td>\n",
       "      <td>317</td>\n",
       "      <td>45</td>\n",
       "      <td>0.124309</td>\n",
       "    </tr>\n",
       "    <tr>\n",
       "      <th>50</th>\n",
       "      <td>49</td>\n",
       "      <td>312</td>\n",
       "      <td>49_money_pay_costs_cost</td>\n",
       "      <td>[money, pay, costs, cost, they, paid, to, for,...</td>\n",
       "      <td>[But they have to pay up., Why don't you give ...</td>\n",
       "      <td>221</td>\n",
       "      <td>91</td>\n",
       "      <td>0.291667</td>\n",
       "    </tr>\n",
       "    <tr>\n",
       "      <th>24</th>\n",
       "      <td>23</td>\n",
       "      <td>298</td>\n",
       "      <td>23_children_families_child_parents</td>\n",
       "      <td>[children, families, child, parents, family, k...</td>\n",
       "      <td>[Parents are going to have to show more respon...</td>\n",
       "      <td>260</td>\n",
       "      <td>38</td>\n",
       "      <td>0.127517</td>\n",
       "    </tr>\n",
       "    <tr>\n",
       "      <th>27</th>\n",
       "      <td>26</td>\n",
       "      <td>284</td>\n",
       "      <td>26_afghanistan_bin_laden_pakistan</td>\n",
       "      <td>[afghanistan, bin, laden, pakistan, al, osama,...</td>\n",
       "      <td>[I'll get Osama bin Laden, my friends., We had...</td>\n",
       "      <td>184</td>\n",
       "      <td>100</td>\n",
       "      <td>0.352113</td>\n",
       "    </tr>\n",
       "    <tr>\n",
       "      <th>52</th>\n",
       "      <td>51</td>\n",
       "      <td>278</td>\n",
       "      <td>51_saddam_hussein_he_iraq</td>\n",
       "      <td>[saddam, hussein, he, iraq, was, war, threat, ...</td>\n",
       "      <td>[Saddam Hussein didn't attack us., He also sai...</td>\n",
       "      <td>167</td>\n",
       "      <td>111</td>\n",
       "      <td>0.399281</td>\n",
       "    </tr>\n",
       "    <tr>\n",
       "      <th>19</th>\n",
       "      <td>18</td>\n",
       "      <td>262</td>\n",
       "      <td>18_trade_deals_free_agreements</td>\n",
       "      <td>[trade, deals, free, agreements, agreement, na...</td>\n",
       "      <td>[That is not free trade., We don't have free t...</td>\n",
       "      <td>192</td>\n",
       "      <td>70</td>\n",
       "      <td>0.267176</td>\n",
       "    </tr>\n",
       "    <tr>\n",
       "      <th>30</th>\n",
       "      <td>29</td>\n",
       "      <td>248</td>\n",
       "      <td>29_governor_governors_state_clinton</td>\n",
       "      <td>[governor, governors, state, clinton, carter, ...</td>\n",
       "      <td>[The governors -- and I believe Governor Clint...</td>\n",
       "      <td>171</td>\n",
       "      <td>77</td>\n",
       "      <td>0.310484</td>\n",
       "    </tr>\n",
       "    <tr>\n",
       "      <th>22</th>\n",
       "      <td>21</td>\n",
       "      <td>247</td>\n",
       "      <td>21_washington_congress_the_house</td>\n",
       "      <td>[washington, congress, the, house, in, dc, and...</td>\n",
       "      <td>[We've got to do that in Washington., Washingt...</td>\n",
       "      <td>209</td>\n",
       "      <td>38</td>\n",
       "      <td>0.153846</td>\n",
       "    </tr>\n",
       "    <tr>\n",
       "      <th>18</th>\n",
       "      <td>17</td>\n",
       "      <td>227</td>\n",
       "      <td>17_court_amendment_judges_supreme</td>\n",
       "      <td>[court, amendment, judges, supreme, constituti...</td>\n",
       "      <td>[A governor gets to name supreme court judges....</td>\n",
       "      <td>188</td>\n",
       "      <td>39</td>\n",
       "      <td>0.171806</td>\n",
       "    </tr>\n",
       "    <tr>\n",
       "      <th>31</th>\n",
       "      <td>30</td>\n",
       "      <td>209</td>\n",
       "      <td>30_bill_veto_vetoed_passed</td>\n",
       "      <td>[bill, veto, vetoed, passed, bills, congress, ...</td>\n",
       "      <td>[I vetoed a number of bills of that kind mysel...</td>\n",
       "      <td>94</td>\n",
       "      <td>115</td>\n",
       "      <td>0.550239</td>\n",
       "    </tr>\n",
       "    <tr>\n",
       "      <th>47</th>\n",
       "      <td>46</td>\n",
       "      <td>199</td>\n",
       "      <td>46_border_borders_immigration_country</td>\n",
       "      <td>[border, borders, immigration, country, immigr...</td>\n",
       "      <td>[We've got 1,000 extra border patrol on the so...</td>\n",
       "      <td>146</td>\n",
       "      <td>53</td>\n",
       "      <td>0.266332</td>\n",
       "    </tr>\n",
       "    <tr>\n",
       "      <th>53</th>\n",
       "      <td>52</td>\n",
       "      <td>191</td>\n",
       "      <td>52_nixon_mr_administration_truman</td>\n",
       "      <td>[nixon, mr, administration, truman, was, uh, p...</td>\n",
       "      <td>[Well, Mr. Nixon, to go back to 1955., Now tha...</td>\n",
       "      <td>121</td>\n",
       "      <td>70</td>\n",
       "      <td>0.366492</td>\n",
       "    </tr>\n",
       "    <tr>\n",
       "      <th>28</th>\n",
       "      <td>27</td>\n",
       "      <td>173</td>\n",
       "      <td>27_iran_sanctions_nuclear_with</td>\n",
       "      <td>[iran, sanctions, nuclear, with, iranian, ahma...</td>\n",
       "      <td>[Number two, with regards to Iran and the thre...</td>\n",
       "      <td>104</td>\n",
       "      <td>69</td>\n",
       "      <td>0.398844</td>\n",
       "    </tr>\n",
       "    <tr>\n",
       "      <th>29</th>\n",
       "      <td>28</td>\n",
       "      <td>167</td>\n",
       "      <td>28_cuba_latin_castro_america</td>\n",
       "      <td>[cuba, latin, castro, america, haiti, in, cent...</td>\n",
       "      <td>[If the United States had stronger prestige an...</td>\n",
       "      <td>103</td>\n",
       "      <td>64</td>\n",
       "      <td>0.383234</td>\n",
       "    </tr>\n",
       "    <tr>\n",
       "      <th>21</th>\n",
       "      <td>20</td>\n",
       "      <td>161</td>\n",
       "      <td>20_abortion_abortions_roe_wade</td>\n",
       "      <td>[abortion, abortions, roe, wade, unborn, women...</td>\n",
       "      <td>[I - I'm strongly against a- abortion., These ...</td>\n",
       "      <td>125</td>\n",
       "      <td>36</td>\n",
       "      <td>0.223602</td>\n",
       "    </tr>\n",
       "    <tr>\n",
       "      <th>51</th>\n",
       "      <td>50</td>\n",
       "      <td>154</td>\n",
       "      <td>50_housing_homes_home_loans</td>\n",
       "      <td>[housing, homes, home, loans, mortgage, banks,...</td>\n",
       "      <td>[And housing starts - he compares the housing ...</td>\n",
       "      <td>83</td>\n",
       "      <td>71</td>\n",
       "      <td>0.461039</td>\n",
       "    </tr>\n",
       "    <tr>\n",
       "      <th>23</th>\n",
       "      <td>22</td>\n",
       "      <td>153</td>\n",
       "      <td>22_gun_guns_handguns_hands</td>\n",
       "      <td>[gun, guns, handguns, hands, criminals, backgr...</td>\n",
       "      <td>[You don't buy any gun., I believe in backgrou...</td>\n",
       "      <td>112</td>\n",
       "      <td>41</td>\n",
       "      <td>0.267974</td>\n",
       "    </tr>\n",
       "    <tr>\n",
       "      <th>36</th>\n",
       "      <td>35</td>\n",
       "      <td>140</td>\n",
       "      <td>35_state_texas_in_states</td>\n",
       "      <td>[state, texas, in, states, new, arkansas, go, ...</td>\n",
       "      <td>[We've done so in my own state., So this is a ...</td>\n",
       "      <td>102</td>\n",
       "      <td>38</td>\n",
       "      <td>0.271429</td>\n",
       "    </tr>\n",
       "    <tr>\n",
       "      <th>48</th>\n",
       "      <td>47</td>\n",
       "      <td>137</td>\n",
       "      <td>47_water_environment_air_pollution</td>\n",
       "      <td>[water, environment, air, pollution, conservat...</td>\n",
       "      <td>[But the only way you can express your love fo...</td>\n",
       "      <td>94</td>\n",
       "      <td>43</td>\n",
       "      <td>0.313869</td>\n",
       "    </tr>\n",
       "    <tr>\n",
       "      <th>57</th>\n",
       "      <td>56</td>\n",
       "      <td>136</td>\n",
       "      <td>56_africa_nations_african_countries</td>\n",
       "      <td>[africa, nations, african, countries, southern...</td>\n",
       "      <td>[Well, I understand, and Africa is important.,...</td>\n",
       "      <td>82</td>\n",
       "      <td>54</td>\n",
       "      <td>0.397059</td>\n",
       "    </tr>\n",
       "    <tr>\n",
       "      <th>44</th>\n",
       "      <td>43</td>\n",
       "      <td>130</td>\n",
       "      <td>43_korea_north_south_korean</td>\n",
       "      <td>[korea, north, south, korean, japan, jong, il,...</td>\n",
       "      <td>[As far as North Korea is concerned, our secre...</td>\n",
       "      <td>81</td>\n",
       "      <td>49</td>\n",
       "      <td>0.376923</td>\n",
       "    </tr>\n",
       "    <tr>\n",
       "      <th>42</th>\n",
       "      <td>41</td>\n",
       "      <td>124</td>\n",
       "      <td>41_china_chinese_steel_republic</td>\n",
       "      <td>[china, chinese, steel, republic, peoples, our...</td>\n",
       "      <td>[That will not help us compete with China., An...</td>\n",
       "      <td>68</td>\n",
       "      <td>56</td>\n",
       "      <td>0.451613</td>\n",
       "    </tr>\n",
       "    <tr>\n",
       "      <th>43</th>\n",
       "      <td>42</td>\n",
       "      <td>116</td>\n",
       "      <td>42_farmers_farm_farmer_agricultural</td>\n",
       "      <td>[farmers, farm, farmer, agricultural, supply, ...</td>\n",
       "      <td>[Give our farm families a decent income with s...</td>\n",
       "      <td>81</td>\n",
       "      <td>35</td>\n",
       "      <td>0.301724</td>\n",
       "    </tr>\n",
       "    <tr>\n",
       "      <th>33</th>\n",
       "      <td>32</td>\n",
       "      <td>115</td>\n",
       "      <td>32_kennedy_senator_kennedys_has</td>\n",
       "      <td>[kennedy, senator, kennedys, has, as, he, that...</td>\n",
       "      <td>[Senator Kennedy is in the hospital., And so i...</td>\n",
       "      <td>90</td>\n",
       "      <td>25</td>\n",
       "      <td>0.217391</td>\n",
       "    </tr>\n",
       "    <tr>\n",
       "      <th>61</th>\n",
       "      <td>60</td>\n",
       "      <td>108</td>\n",
       "      <td>60_dole_peace_senator_doles</td>\n",
       "      <td>[dole, peace, senator, doles, bob, and, is, of...</td>\n",
       "      <td>[And members of Senator Dole's own party in th...</td>\n",
       "      <td>77</td>\n",
       "      <td>31</td>\n",
       "      <td>0.287037</td>\n",
       "    </tr>\n",
       "    <tr>\n",
       "      <th>37</th>\n",
       "      <td>36</td>\n",
       "      <td>108</td>\n",
       "      <td>36_romney_governor_romneys_he</td>\n",
       "      <td>[romney, governor, romneys, he, said, says, wh...</td>\n",
       "      <td>[Governor Romney, here's what we did., Governo...</td>\n",
       "      <td>64</td>\n",
       "      <td>44</td>\n",
       "      <td>0.407407</td>\n",
       "    </tr>\n",
       "    <tr>\n",
       "      <th>45</th>\n",
       "      <td>44</td>\n",
       "      <td>102</td>\n",
       "      <td>44_mccain_senator_mccains_john</td>\n",
       "      <td>[mccain, senator, mccains, john, earmarks, cam...</td>\n",
       "      <td>[What Senator McCain doesn't mention is he's b...</td>\n",
       "      <td>77</td>\n",
       "      <td>25</td>\n",
       "      <td>0.245098</td>\n",
       "    </tr>\n",
       "    <tr>\n",
       "      <th>56</th>\n",
       "      <td>55</td>\n",
       "      <td>86</td>\n",
       "      <td>55_ford_mr_uh_has</td>\n",
       "      <td>[ford, mr, uh, has, president, the, administra...</td>\n",
       "      <td>[Mr. Ford hasn't moved on this., I hope Mr. Fo...</td>\n",
       "      <td>45</td>\n",
       "      <td>41</td>\n",
       "      <td>0.476744</td>\n",
       "    </tr>\n",
       "  </tbody>\n",
       "</table>\n",
       "</div>"
      ],
      "text/plain": [
       "    Topic  Count                                   Name  \\\n",
       "3       2   1407      2_economy_budget_spending_billion   \n",
       "1       0   1353          0_health_care_social_medicare   \n",
       "2       1    981                    1_tax_taxes_cut_for   \n",
       "4       3    841      3_jobs_unemployment_million_small   \n",
       "17     16    682             16_military_troops_our_war   \n",
       "5       4    611    4_education_schools_school_teachers   \n",
       "15     14    607     14_senator_senate_republican_voted   \n",
       "7       6    479                  6_energy_oil_coal_gas   \n",
       "20     19    429       19_government_federal_reform_the   \n",
       "9       8    423                 8_she_her_shes_hillary   \n",
       "12     11    423             11_israel_east_middle_isis   \n",
       "14     13    397            13_law_crime_police_justice   \n",
       "11     10    395           10_soviet_russia_union_putin   \n",
       "13     12    384     12_nuclear_weapons_missiles_atomic   \n",
       "32     31    362         31_election_campaign_vote_this   \n",
       "50     49    312                49_money_pay_costs_cost   \n",
       "24     23    298     23_children_families_child_parents   \n",
       "27     26    284      26_afghanistan_bin_laden_pakistan   \n",
       "52     51    278              51_saddam_hussein_he_iraq   \n",
       "19     18    262         18_trade_deals_free_agreements   \n",
       "30     29    248    29_governor_governors_state_clinton   \n",
       "22     21    247       21_washington_congress_the_house   \n",
       "18     17    227      17_court_amendment_judges_supreme   \n",
       "31     30    209             30_bill_veto_vetoed_passed   \n",
       "47     46    199  46_border_borders_immigration_country   \n",
       "53     52    191      52_nixon_mr_administration_truman   \n",
       "28     27    173         27_iran_sanctions_nuclear_with   \n",
       "29     28    167           28_cuba_latin_castro_america   \n",
       "21     20    161         20_abortion_abortions_roe_wade   \n",
       "51     50    154            50_housing_homes_home_loans   \n",
       "23     22    153             22_gun_guns_handguns_hands   \n",
       "36     35    140               35_state_texas_in_states   \n",
       "48     47    137     47_water_environment_air_pollution   \n",
       "57     56    136    56_africa_nations_african_countries   \n",
       "44     43    130            43_korea_north_south_korean   \n",
       "42     41    124        41_china_chinese_steel_republic   \n",
       "43     42    116    42_farmers_farm_farmer_agricultural   \n",
       "33     32    115        32_kennedy_senator_kennedys_has   \n",
       "61     60    108            60_dole_peace_senator_doles   \n",
       "37     36    108          36_romney_governor_romneys_he   \n",
       "45     44    102         44_mccain_senator_mccains_john   \n",
       "56     55     86                      55_ford_mr_uh_has   \n",
       "\n",
       "                                       Representation  \\\n",
       "3   [economy, budget, spending, billion, deficit, ...   \n",
       "1   [health, care, social, medicare, insurance, se...   \n",
       "2   [tax, taxes, cut, for, cuts, the, increase, pe...   \n",
       "4   [jobs, unemployment, million, small, business,...   \n",
       "17  [military, troops, our, war, we, forces, to, a...   \n",
       "5   [education, schools, school, teachers, college...   \n",
       "15  [senator, senate, republican, voted, obama, wa...   \n",
       "7   [energy, oil, coal, gas, production, we, our, ...   \n",
       "20  [government, federal, reform, the, of, to, we,...   \n",
       "9   [she, her, shes, hillary, emails, and, was, wo...   \n",
       "12  [israel, east, middle, isis, syria, in, the, a...   \n",
       "14  [law, crime, police, justice, laws, the, crimi...   \n",
       "11  [soviet, russia, union, putin, russians, the, ...   \n",
       "13  [nuclear, weapons, missiles, atomic, arms, of,...   \n",
       "32  [election, campaign, vote, this, elections, ab...   \n",
       "50  [money, pay, costs, cost, they, paid, to, for,...   \n",
       "24  [children, families, child, parents, family, k...   \n",
       "27  [afghanistan, bin, laden, pakistan, al, osama,...   \n",
       "52  [saddam, hussein, he, iraq, was, war, threat, ...   \n",
       "19  [trade, deals, free, agreements, agreement, na...   \n",
       "30  [governor, governors, state, clinton, carter, ...   \n",
       "22  [washington, congress, the, house, in, dc, and...   \n",
       "18  [court, amendment, judges, supreme, constituti...   \n",
       "31  [bill, veto, vetoed, passed, bills, congress, ...   \n",
       "47  [border, borders, immigration, country, immigr...   \n",
       "53  [nixon, mr, administration, truman, was, uh, p...   \n",
       "28  [iran, sanctions, nuclear, with, iranian, ahma...   \n",
       "29  [cuba, latin, castro, america, haiti, in, cent...   \n",
       "21  [abortion, abortions, roe, wade, unborn, women...   \n",
       "51  [housing, homes, home, loans, mortgage, banks,...   \n",
       "23  [gun, guns, handguns, hands, criminals, backgr...   \n",
       "36  [state, texas, in, states, new, arkansas, go, ...   \n",
       "48  [water, environment, air, pollution, conservat...   \n",
       "57  [africa, nations, african, countries, southern...   \n",
       "44  [korea, north, south, korean, japan, jong, il,...   \n",
       "42  [china, chinese, steel, republic, peoples, our...   \n",
       "43  [farmers, farm, farmer, agricultural, supply, ...   \n",
       "33  [kennedy, senator, kennedys, has, as, he, that...   \n",
       "61  [dole, peace, senator, doles, bob, and, is, of...   \n",
       "37  [romney, governor, romneys, he, said, says, wh...   \n",
       "45  [mccain, senator, mccains, john, earmarks, cam...   \n",
       "56  [ford, mr, uh, has, president, the, administra...   \n",
       "\n",
       "                                  Representative_Docs   No  Yes  pos_ratio  \n",
       "3   [I will pay down the national debt., When Pres...  769  638   0.453447  \n",
       "1   [I want to do something about Social Security....  822  531   0.392461  \n",
       "2   [This is a family tax cut., I have a tax cut.,...  527  454   0.462793  \n",
       "4   [We've had record numbers of new small busines...  519  322   0.382878  \n",
       "17  [Some of our troops are not well-equipped., Bu...  526  156   0.228739  \n",
       "5   [So we've got to get our education system righ...  443  168   0.274959  \n",
       "15  [Of course, we have to do some things tactical...  395  212   0.349259  \n",
       "7   [I want to control our own energy by developin...  292  187   0.390397  \n",
       "20  [I'd like the government to have that., Here i...  357   72   0.167832  \n",
       "9   [The problem is, you talk, but you don't get a...  322  101   0.238771  \n",
       "12  [Peace in the Middle East is in our nation's i...  297  126   0.297872  \n",
       "14  [Well, I don't know in the case of the trial l...  271  126   0.317380  \n",
       "11  [Ukraine, right now, is in the sights of Vladi...  281  114   0.288608  \n",
       "13  [That's how we got a treaty reducing nuclear w...  262  122   0.317708  \n",
       "32  [This is what this election is all about., Tha...  317   45   0.124309  \n",
       "50  [But they have to pay up., Why don't you give ...  221   91   0.291667  \n",
       "24  [Parents are going to have to show more respon...  260   38   0.127517  \n",
       "27  [I'll get Osama bin Laden, my friends., We had...  184  100   0.352113  \n",
       "52  [Saddam Hussein didn't attack us., He also sai...  167  111   0.399281  \n",
       "19  [That is not free trade., We don't have free t...  192   70   0.267176  \n",
       "30  [The governors -- and I believe Governor Clint...  171   77   0.310484  \n",
       "22  [We've got to do that in Washington., Washingt...  209   38   0.153846  \n",
       "18  [A governor gets to name supreme court judges....  188   39   0.171806  \n",
       "31  [I vetoed a number of bills of that kind mysel...   94  115   0.550239  \n",
       "47  [We've got 1,000 extra border patrol on the so...  146   53   0.266332  \n",
       "53  [Well, Mr. Nixon, to go back to 1955., Now tha...  121   70   0.366492  \n",
       "28  [Number two, with regards to Iran and the thre...  104   69   0.398844  \n",
       "29  [If the United States had stronger prestige an...  103   64   0.383234  \n",
       "21  [I - I'm strongly against a- abortion., These ...  125   36   0.223602  \n",
       "51  [And housing starts - he compares the housing ...   83   71   0.461039  \n",
       "23  [You don't buy any gun., I believe in backgrou...  112   41   0.267974  \n",
       "36  [We've done so in my own state., So this is a ...  102   38   0.271429  \n",
       "48  [But the only way you can express your love fo...   94   43   0.313869  \n",
       "57  [Well, I understand, and Africa is important.,...   82   54   0.397059  \n",
       "44  [As far as North Korea is concerned, our secre...   81   49   0.376923  \n",
       "42  [That will not help us compete with China., An...   68   56   0.451613  \n",
       "43  [Give our farm families a decent income with s...   81   35   0.301724  \n",
       "33  [Senator Kennedy is in the hospital., And so i...   90   25   0.217391  \n",
       "61  [And members of Senator Dole's own party in th...   77   31   0.287037  \n",
       "37  [Governor Romney, here's what we did., Governo...   64   44   0.407407  \n",
       "45  [What Senator McCain doesn't mention is he's b...   77   25   0.245098  \n",
       "56  [Mr. Ford hasn't moved on this., I hope Mr. Fo...   45   41   0.476744  "
      ]
     },
     "execution_count": 20,
     "metadata": {},
     "output_type": "execute_result"
    }
   ],
   "source": [
    "# Select which topics will be excluded\n",
    "excluded_topics = [-1, 5, 9, 7, 24, 15, 33, 34, 38, 58, 40, 39, 61, 25, 48, 57, 45, 54, 37, 53, 59]\n",
    "topic_info_selection = topic_info[~topic_info[\"Topic\"].isin(excluded_topics)]\n",
    "# Reduce dataset to selected topics\n",
    "df_filtered = df[~df[\"Topic\"].isin(excluded_topics)]\n",
    "df_filtered[\"Topic_Name\"] = df_filtered[\"Topic\"].map(topic_info.set_index(\"Topic\")[\"Name\"])\n",
    "\n",
    "topic_info_selection = topic_info_selection.sort_values(by=\"Count\", ascending=False)\n",
    "topic_info_selection"
   ]
  },
  {
   "cell_type": "code",
   "execution_count": 21,
   "id": "d3cfa9b6",
   "metadata": {},
   "outputs": [
    {
     "name": "stdout",
     "output_type": "stream",
     "text": [
      "7326\n",
      "7313\n",
      "0.33551733551733554\n",
      "0.33365239983590866\n"
     ]
    }
   ],
   "source": [
    "# Create two non-overlapping datasets\n",
    "set1 = pd.DataFrame()\n",
    "set2 = pd.DataFrame()\n",
    "# Iterate size sorted topics in pairs\n",
    "for t1, t2 in zip(topic_info_selection.iloc[::2].iterrows(), topic_info_selection.iloc[1::2].iterrows()):\n",
    "    # Get samples corresponding to the topics\n",
    "    t1_df = df_filtered[df_filtered[\"Topic\"] == t1[1][\"Topic\"]]\n",
    "    t2_df = df_filtered[df_filtered[\"Topic\"] == t2[1][\"Topic\"]]\n",
    "\n",
    "    # Concatenate the bigger topic with the smaller set and vice versa\n",
    "    if len(set1) > len(set2):\n",
    "        if len(t1_df) > len(t2_df):\n",
    "            set1 = pd.concat([set1, t2_df])\n",
    "            set2 = pd.concat([set2, t1_df])\n",
    "        else:\n",
    "            set1 = pd.concat([set1, t1_df])\n",
    "            set2 = pd.concat([set2, t2_df])\n",
    "    else:\n",
    "        if len(t1_df) > len(t2_df):\n",
    "            set1 = pd.concat([set1, t1_df])\n",
    "            set2 = pd.concat([set2, t2_df])\n",
    "        else:\n",
    "            set1 = pd.concat([set1, t2_df])\n",
    "            set2 = pd.concat([set2, t1_df])\n",
    "\n",
    "print(len(set1))\n",
    "print(len(set2))\n",
    "print(len(set1[set1[\"class_label\"] == \"Yes\"]) / len(set1))\n",
    "print(len(set2[set2[\"class_label\"] == \"Yes\"]) / len(set2))"
   ]
  },
  {
   "cell_type": "code",
   "execution_count": 22,
   "id": "4dca03c5",
   "metadata": {},
   "outputs": [],
   "source": [
    "# Adjustable split ratios\n",
    "train_ratio = 0.7\n",
    "dev_ratio = 0.1\n",
    "test_ratio = 0.2\n",
    "\n",
    "# Split set-wise\n",
    "set_splits = []\n",
    "for s in [set1, set2]:\n",
    "    train_df, temp_df = train_test_split(s, train_size=train_ratio, random_state=42, shuffle=True)\n",
    "    dev_df, test_df = train_test_split(temp_df, train_size=dev_ratio/(dev_ratio + test_ratio), random_state=42, shuffle=True)\n",
    "    set_splits.append((train_df, dev_df, test_df))"
   ]
  },
  {
   "cell_type": "code",
   "execution_count": 23,
   "id": "11d6053b",
   "metadata": {},
   "outputs": [],
   "source": [
    "#Save datasets\n",
    "dest_path = \"../data/CT24_checkworthy_english/topic_split\"\n",
    "\n",
    "for i, splits in enumerate(set_splits, start=1):\n",
    "    train, dev, test = splits\n",
    "    train.to_csv(os.path.join(dest_path, f\"train_set_{i}.csv\"), index=False)\n",
    "    dev.to_csv(os.path.join(dest_path, f\"dev_set_{i}.csv\"), index=False)\n",
    "    test.to_csv(os.path.join(dest_path, f\"test_set_{i}.csv\"), index=False)"
   ]
  }
 ],
 "metadata": {
  "kernelspec": {
   "display_name": "Python 3 (ipykernel)",
   "language": "python",
   "name": "python3"
  }
 },
 "nbformat": 4,
 "nbformat_minor": 5
}
