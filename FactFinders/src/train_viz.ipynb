{
 "cells": [
  {
   "cell_type": "code",
   "execution_count": 5,
   "metadata": {},
   "outputs": [],
   "source": [
    "import pandas as pd\n",
    "import os"
   ]
  },
  {
   "cell_type": "code",
   "execution_count": 6,
   "metadata": {},
   "outputs": [
    {
     "data": {
      "text/plain": [
       "'/home/stephen/dev/thesis/FactFinders'"
      ]
     },
     "execution_count": 6,
     "metadata": {},
     "output_type": "execute_result"
    }
   ],
   "source": [
    "os.getcwd()"
   ]
  },
  {
   "cell_type": "code",
   "execution_count": 14,
   "metadata": {},
   "outputs": [],
   "source": [
    "df = pd.read_table('../data/CT24_checkworthy_english/tsv/CT24_checkworthy_english_train.tsv', sep='\\t')\n"
   ]
  },
  {
   "cell_type": "code",
   "execution_count": 27,
   "metadata": {},
   "outputs": [
    {
     "name": "stdout",
     "output_type": "stream",
     "text": [
      "Number of No: 17088\n",
      "Number of Yes: 5413\n",
      "Total: 22501\n",
      "Difference: 11675\n"
     ]
    }
   ],
   "source": [
    "counts = df['class_label'].value_counts()\n",
    "count_no = counts['No'].item()\n",
    "count_yes = counts['Yes'].item()\n",
    "print('Number of No:', count_no)\n",
    "print('Number of Yes:', count_yes)\n",
    "print('Total:', count_no + count_yes)\n",
    "print('Difference:', count_no - count_yes)"
   ]
  }
 ],
 "metadata": {
  "kernelspec": {
   "display_name": "Python 3 (ipykernel)",
   "language": "python",
   "name": "python3"
  }
 },
 "nbformat": 4,
 "nbformat_minor": 2
}
