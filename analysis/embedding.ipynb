{
 "cells": [
  {
   "cell_type": "code",
   "execution_count": 1,
   "id": "4c9bd392",
   "metadata": {},
   "outputs": [],
   "source": [
    "from sentence_transformers import SentenceTransformer\n",
    "import numpy as np\n",
    "import pandas as pd\n",
    "import os"
   ]
  },
  {
   "cell_type": "code",
   "execution_count": 2,
   "id": "5c92accb",
   "metadata": {},
   "outputs": [],
   "source": [
    "ref_dataset = \"ct24:latest\"\n",
    "ref_dev_dataset = \"ct24-dev\"\n",
    "ref_dev_test_dataset = \"ct24-dev-test\"\n",
    "ref_test_dataset = \"ct24-test\"\n",
    "dataset_1 = \"ct24_synthetic_only:latest\"\n",
    "dataset_2 = \"ct24_synth_0_10k:latest\"\n",
    "dataset_3 = \"general_claim_filtered:latest\""
   ]
  },
  {
   "cell_type": "code",
   "execution_count": 3,
   "id": "2ae0d317",
   "metadata": {},
   "outputs": [
    {
     "name": "stderr",
     "output_type": "stream",
     "text": [
      "\u001b[34m\u001b[1mwandb\u001b[0m:   4 of 4 files downloaded.  \n",
      "\u001b[34m\u001b[1mwandb\u001b[0m:   4 of 4 files downloaded.  \n",
      "\u001b[34m\u001b[1mwandb\u001b[0m:   6 of 6 files downloaded.  \n",
      "\u001b[34m\u001b[1mwandb\u001b[0m:   4 of 4 files downloaded.  \n"
     ]
    }
   ],
   "source": [
    "import wandb\n",
    "\n",
    "api = wandb.Api()\n",
    "\n",
    "project = \"redstag/thesis\"\n",
    "artifact_names = [ref_dataset, dataset_1, dataset_2, dataset_3]\n",
    "\n",
    "artifacts = {}\n",
    "for name in artifact_names:\n",
    "    artifact = api.artifact(f\"{project}/{name}\")\n",
    "    artifact_dir = artifact.download()\n",
    "    artifacts[name] = artifact_dir"
   ]
  },
  {
   "cell_type": "code",
   "execution_count": 4,
   "id": "aef6288b",
   "metadata": {},
   "outputs": [],
   "source": [
    "dfs = {}\n",
    "for name, dir_path in artifacts.items():\n",
    "    csv_path = os.path.join(dir_path, \"train.csv\")\n",
    "    dfs[name] = pd.read_csv(csv_path)\n",
    "\n",
    "# Add CT24 eval, dev-test and test-gold\n",
    "dfs[ref_dev_dataset] = pd.read_csv(os.path.join(artifacts[ref_dataset], \"dev.csv\"))\n",
    "dfs[ref_dev_test_dataset] = pd.read_csv(os.path.join(artifacts[ref_dataset], \"dev-test.csv\"))\n",
    "dfs[ref_test_dataset] = pd.read_csv(os.path.join(artifacts[ref_dataset], \"test.csv\"))"
   ]
  },
  {
   "cell_type": "code",
   "execution_count": 5,
   "id": "58cee115",
   "metadata": {},
   "outputs": [],
   "source": [
    "model = SentenceTransformer(\"all-mpnet-base-v2\")"
   ]
  },
  {
   "cell_type": "code",
   "execution_count": 6,
   "id": "f118a59b",
   "metadata": {},
   "outputs": [
    {
     "data": {
      "application/vnd.jupyter.widget-view+json": {
       "model_id": "a8c505f1a902477c9ce16a774e39d7ee",
       "version_major": 2,
       "version_minor": 0
      },
      "text/plain": [
       "Batches:   0%|          | 0/704 [00:00<?, ?it/s]"
      ]
     },
     "metadata": {},
     "output_type": "display_data"
    },
    {
     "data": {
      "application/vnd.jupyter.widget-view+json": {
       "model_id": "116333d5fe454f879429bc5f2555ffc8",
       "version_major": 2,
       "version_minor": 0
      },
      "text/plain": [
       "Batches:   0%|          | 0/704 [00:00<?, ?it/s]"
      ]
     },
     "metadata": {},
     "output_type": "display_data"
    },
    {
     "data": {
      "application/vnd.jupyter.widget-view+json": {
       "model_id": "63acc7aec6814f0980fb87796660d6fa",
       "version_major": 2,
       "version_minor": 0
      },
      "text/plain": [
       "Batches:   0%|          | 0/313 [00:00<?, ?it/s]"
      ]
     },
     "metadata": {},
     "output_type": "display_data"
    },
    {
     "data": {
      "application/vnd.jupyter.widget-view+json": {
       "model_id": "aa5a908eed8145aea43e17a3b383189c",
       "version_major": 2,
       "version_minor": 0
      },
      "text/plain": [
       "Batches:   0%|          | 0/1549 [00:00<?, ?it/s]"
      ]
     },
     "metadata": {},
     "output_type": "display_data"
    },
    {
     "data": {
      "application/vnd.jupyter.widget-view+json": {
       "model_id": "e85f405b6e4e4cc495741d119c5244c6",
       "version_major": 2,
       "version_minor": 0
      },
      "text/plain": [
       "Batches:   0%|          | 0/33 [00:00<?, ?it/s]"
      ]
     },
     "metadata": {},
     "output_type": "display_data"
    },
    {
     "data": {
      "application/vnd.jupyter.widget-view+json": {
       "model_id": "0e62175499174f5f830f1812429ed1f2",
       "version_major": 2,
       "version_minor": 0
      },
      "text/plain": [
       "Batches:   0%|          | 0/10 [00:00<?, ?it/s]"
      ]
     },
     "metadata": {},
     "output_type": "display_data"
    },
    {
     "data": {
      "application/vnd.jupyter.widget-view+json": {
       "model_id": "db8ab22e6e2b40cb965178795b27f3c8",
       "version_major": 2,
       "version_minor": 0
      },
      "text/plain": [
       "Batches:   0%|          | 0/11 [00:00<?, ?it/s]"
      ]
     },
     "metadata": {},
     "output_type": "display_data"
    }
   ],
   "source": [
    "embeddings = {}\n",
    "\n",
    "for name, frame in dfs.items():\n",
    "    embeddings[name] = model.encode(list(frame[\"Text\"]), show_progress_bar=True)"
   ]
  },
  {
   "cell_type": "code",
   "execution_count": 19,
   "id": "d88beab9",
   "metadata": {},
   "outputs": [],
   "source": [
    "all_datasets = [ref_dev_dataset, ref_dev_test_dataset, ref_test_dataset, dataset_1, dataset_2, dataset_3]\n",
    "filter_label = \"Yes\"\n",
    "\n",
    "sims = {}\n",
    "for ds in all_datasets:\n",
    "    if filter_label:\n",
    "        mask_ref = dfs[ref_dataset][\"class_label\"] == filter_label\n",
    "        mask_ds = dfs[ds][\"class_label\"] == filter_label\n",
    "        sims[ds] = model.similarity(\n",
    "            embeddings[ref_dataset][mask_ref.values],\n",
    "            embeddings[ds][mask_ds.values]\n",
    "        )\n",
    "    else:\n",
    "        sims[ds] = model.similarity(embeddings[ref_dataset], embeddings[ds])"
   ]
  },
  {
   "cell_type": "code",
   "execution_count": 20,
   "id": "ca2edf4a",
   "metadata": {},
   "outputs": [
    {
     "name": "stdout",
     "output_type": "stream",
     "text": [
      "Similarities ct24-dev:\n",
      "min: -0.2065959870815277\n",
      "max: 1.0000001192092896\n",
      "mean: 0.1746121048927307\n",
      "-----------------\n",
      "Similarities ct24-dev-test:\n",
      "min: -0.22296826541423798\n",
      "max: 0.8025941848754883\n",
      "mean: 0.15725839138031006\n",
      "-----------------\n",
      "Similarities ct24-test:\n",
      "min: -0.25562357902526855\n",
      "max: 0.7282082438468933\n",
      "mean: 0.1478351205587387\n",
      "-----------------\n",
      "Similarities ct24_synthetic_only:latest:\n",
      "min: -0.2824961245059967\n",
      "max: 0.9844942092895508\n",
      "mean: 0.1499294489622116\n",
      "-----------------\n",
      "Similarities ct24_synth_0_10k:latest:\n",
      "min: -0.272604376077652\n",
      "max: 0.9122903347015381\n",
      "mean: 0.08540401607751846\n",
      "-----------------\n",
      "Similarities general_claim_filtered:latest:\n",
      "min: -0.2737082540988922\n",
      "max: 0.9999999403953552\n",
      "mean: 0.07583823055028915\n",
      "-----------------\n"
     ]
    }
   ],
   "source": [
    "for ds, s in sims.items():\n",
    "    print(f\"Similarities {ds}:\")\n",
    "    print(f\"min: {s.min()}\")\n",
    "    print(f\"max: {s.max()}\")\n",
    "    print(f\"mean: {s.mean()}\")\n",
    "    print(\"-----------------\")"
   ]
  }
 ],
 "metadata": {
  "kernelspec": {
   "display_name": "Python 3 (ipykernel)",
   "language": "python",
   "name": "python3"
  },
  "language_info": {
   "codemirror_mode": {
    "name": "ipython",
    "version": 3
   },
   "file_extension": ".py",
   "mimetype": "text/x-python",
   "name": "python",
   "nbconvert_exporter": "python",
   "pygments_lexer": "ipython3",
   "version": "3.10.12"
  }
 },
 "nbformat": 4,
 "nbformat_minor": 5
}
